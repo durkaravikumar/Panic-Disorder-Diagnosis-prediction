{
 "cells": [
  {
   "cell_type": "code",
   "execution_count": 1,
   "id": "d06abd5c",
   "metadata": {},
   "outputs": [],
   "source": [
    "#import libraries\n",
    "import pandas as pd\n",
    "import numpy as np\n",
    "import matplotlib.pyplot as plt\n",
    "import seaborn as sns\n",
    "import warnings\n",
    "warnings.filterwarnings(\"ignore\")"
   ]
  },
  {
   "cell_type": "code",
   "execution_count": 2,
   "id": "ab59aec3",
   "metadata": {},
   "outputs": [],
   "source": [
    "data=pd.read_excel(r\"C:\\Users\\Durka Ravikumar\\Downloads\\panic.xlsx\")"
   ]
  },
  {
   "cell_type": "code",
   "execution_count": 4,
   "id": "ed0630b8",
   "metadata": {},
   "outputs": [
    {
     "data": {
      "text/html": [
       "<div>\n",
       "<style scoped>\n",
       "    .dataframe tbody tr th:only-of-type {\n",
       "        vertical-align: middle;\n",
       "    }\n",
       "\n",
       "    .dataframe tbody tr th {\n",
       "        vertical-align: top;\n",
       "    }\n",
       "\n",
       "    .dataframe thead th {\n",
       "        text-align: right;\n",
       "    }\n",
       "</style>\n",
       "<table border=\"1\" class=\"dataframe\">\n",
       "  <thead>\n",
       "    <tr style=\"text-align: right;\">\n",
       "      <th></th>\n",
       "      <th>Participant ID</th>\n",
       "      <th>Age</th>\n",
       "      <th>Gender</th>\n",
       "      <th>Family History</th>\n",
       "      <th>Personal History</th>\n",
       "      <th>Current Stressors</th>\n",
       "      <th>Symptoms</th>\n",
       "      <th>Severity</th>\n",
       "      <th>Impact on Life</th>\n",
       "      <th>Demographics</th>\n",
       "      <th>Medical History</th>\n",
       "      <th>Psychiatric History</th>\n",
       "      <th>Substance Use</th>\n",
       "      <th>Coping Mechanisms</th>\n",
       "      <th>Social Support</th>\n",
       "      <th>Lifestyle Factors</th>\n",
       "      <th>Panic Disorder Diagnosis</th>\n",
       "    </tr>\n",
       "  </thead>\n",
       "  <tbody>\n",
       "    <tr>\n",
       "      <th>0</th>\n",
       "      <td>1</td>\n",
       "      <td>38</td>\n",
       "      <td>Male</td>\n",
       "      <td>No</td>\n",
       "      <td>Yes</td>\n",
       "      <td>Moderate</td>\n",
       "      <td>Shortness of breath</td>\n",
       "      <td>Mild</td>\n",
       "      <td>Mild</td>\n",
       "      <td>Rural</td>\n",
       "      <td>Diabetes</td>\n",
       "      <td>Bipolar disorder</td>\n",
       "      <td>NaN</td>\n",
       "      <td>Socializing</td>\n",
       "      <td>High</td>\n",
       "      <td>Sleep quality</td>\n",
       "      <td>0</td>\n",
       "    </tr>\n",
       "    <tr>\n",
       "      <th>1</th>\n",
       "      <td>2</td>\n",
       "      <td>51</td>\n",
       "      <td>Male</td>\n",
       "      <td>No</td>\n",
       "      <td>No</td>\n",
       "      <td>High</td>\n",
       "      <td>Panic attacks</td>\n",
       "      <td>Mild</td>\n",
       "      <td>Mild</td>\n",
       "      <td>Urban</td>\n",
       "      <td>Asthma</td>\n",
       "      <td>Anxiety disorder</td>\n",
       "      <td>Drugs</td>\n",
       "      <td>Exercise</td>\n",
       "      <td>High</td>\n",
       "      <td>Sleep quality</td>\n",
       "      <td>0</td>\n",
       "    </tr>\n",
       "    <tr>\n",
       "      <th>2</th>\n",
       "      <td>3</td>\n",
       "      <td>32</td>\n",
       "      <td>Female</td>\n",
       "      <td>Yes</td>\n",
       "      <td>No</td>\n",
       "      <td>High</td>\n",
       "      <td>Panic attacks</td>\n",
       "      <td>Mild</td>\n",
       "      <td>Significant</td>\n",
       "      <td>Urban</td>\n",
       "      <td>Diabetes</td>\n",
       "      <td>Depressive disorder</td>\n",
       "      <td>NaN</td>\n",
       "      <td>Seeking therapy</td>\n",
       "      <td>Moderate</td>\n",
       "      <td>Exercise</td>\n",
       "      <td>0</td>\n",
       "    </tr>\n",
       "    <tr>\n",
       "      <th>3</th>\n",
       "      <td>4</td>\n",
       "      <td>64</td>\n",
       "      <td>Female</td>\n",
       "      <td>No</td>\n",
       "      <td>No</td>\n",
       "      <td>Moderate</td>\n",
       "      <td>Chest pain</td>\n",
       "      <td>Moderate</td>\n",
       "      <td>Moderate</td>\n",
       "      <td>Rural</td>\n",
       "      <td>Diabetes</td>\n",
       "      <td>NaN</td>\n",
       "      <td>NaN</td>\n",
       "      <td>Meditation</td>\n",
       "      <td>High</td>\n",
       "      <td>Exercise</td>\n",
       "      <td>0</td>\n",
       "    </tr>\n",
       "    <tr>\n",
       "      <th>4</th>\n",
       "      <td>5</td>\n",
       "      <td>31</td>\n",
       "      <td>Male</td>\n",
       "      <td>Yes</td>\n",
       "      <td>No</td>\n",
       "      <td>Moderate</td>\n",
       "      <td>Panic attacks</td>\n",
       "      <td>Mild</td>\n",
       "      <td>Moderate</td>\n",
       "      <td>Rural</td>\n",
       "      <td>Asthma</td>\n",
       "      <td>NaN</td>\n",
       "      <td>Drugs</td>\n",
       "      <td>Seeking therapy</td>\n",
       "      <td>Low</td>\n",
       "      <td>Sleep quality</td>\n",
       "      <td>0</td>\n",
       "    </tr>\n",
       "  </tbody>\n",
       "</table>\n",
       "</div>"
      ],
      "text/plain": [
       "   Participant ID  Age  Gender Family History Personal History  \\\n",
       "0               1   38    Male             No              Yes   \n",
       "1               2   51    Male             No               No   \n",
       "2               3   32  Female            Yes               No   \n",
       "3               4   64  Female             No               No   \n",
       "4               5   31    Male            Yes               No   \n",
       "\n",
       "  Current Stressors             Symptoms  Severity Impact on Life  \\\n",
       "0          Moderate  Shortness of breath      Mild           Mild   \n",
       "1              High        Panic attacks      Mild           Mild   \n",
       "2              High        Panic attacks      Mild    Significant   \n",
       "3          Moderate           Chest pain  Moderate       Moderate   \n",
       "4          Moderate        Panic attacks      Mild       Moderate   \n",
       "\n",
       "  Demographics Medical History  Psychiatric History Substance Use  \\\n",
       "0        Rural        Diabetes     Bipolar disorder           NaN   \n",
       "1        Urban          Asthma     Anxiety disorder         Drugs   \n",
       "2        Urban        Diabetes  Depressive disorder           NaN   \n",
       "3        Rural        Diabetes                  NaN           NaN   \n",
       "4        Rural          Asthma                  NaN         Drugs   \n",
       "\n",
       "  Coping Mechanisms Social Support Lifestyle Factors  Panic Disorder Diagnosis  \n",
       "0       Socializing           High     Sleep quality                         0  \n",
       "1          Exercise           High     Sleep quality                         0  \n",
       "2   Seeking therapy       Moderate          Exercise                         0  \n",
       "3        Meditation           High          Exercise                         0  \n",
       "4   Seeking therapy            Low     Sleep quality                         0  "
      ]
     },
     "execution_count": 4,
     "metadata": {},
     "output_type": "execute_result"
    }
   ],
   "source": [
    "data.head()"
   ]
  },
  {
   "cell_type": "code",
   "execution_count": 5,
   "id": "fdc23b31",
   "metadata": {},
   "outputs": [
    {
     "data": {
      "text/plain": [
       "(50000, 17)"
      ]
     },
     "execution_count": 5,
     "metadata": {},
     "output_type": "execute_result"
    }
   ],
   "source": [
    "data.shape"
   ]
  },
  {
   "cell_type": "code",
   "execution_count": 6,
   "id": "5d25e999",
   "metadata": {},
   "outputs": [
    {
     "data": {
      "text/plain": [
       "Index(['Participant ID', 'Age', 'Gender', 'Family History', 'Personal History',\n",
       "       'Current Stressors', 'Symptoms', 'Severity', 'Impact on Life',\n",
       "       'Demographics', 'Medical History', 'Psychiatric History',\n",
       "       'Substance Use', 'Coping Mechanisms', 'Social Support',\n",
       "       'Lifestyle Factors', 'Panic Disorder Diagnosis'],\n",
       "      dtype='object')"
      ]
     },
     "execution_count": 6,
     "metadata": {},
     "output_type": "execute_result"
    }
   ],
   "source": [
    "data.columns"
   ]
  },
  {
   "cell_type": "code",
   "execution_count": 7,
   "id": "72060f37",
   "metadata": {},
   "outputs": [
    {
     "data": {
      "text/html": [
       "<div>\n",
       "<style scoped>\n",
       "    .dataframe tbody tr th:only-of-type {\n",
       "        vertical-align: middle;\n",
       "    }\n",
       "\n",
       "    .dataframe tbody tr th {\n",
       "        vertical-align: top;\n",
       "    }\n",
       "\n",
       "    .dataframe thead th {\n",
       "        text-align: right;\n",
       "    }\n",
       "</style>\n",
       "<table border=\"1\" class=\"dataframe\">\n",
       "  <thead>\n",
       "    <tr style=\"text-align: right;\">\n",
       "      <th></th>\n",
       "      <th>Participant ID</th>\n",
       "      <th>Age</th>\n",
       "      <th>Panic Disorder Diagnosis</th>\n",
       "    </tr>\n",
       "  </thead>\n",
       "  <tbody>\n",
       "    <tr>\n",
       "      <th>count</th>\n",
       "      <td>50000.000000</td>\n",
       "      <td>50000.000000</td>\n",
       "      <td>50000.000000</td>\n",
       "    </tr>\n",
       "    <tr>\n",
       "      <th>mean</th>\n",
       "      <td>25000.500000</td>\n",
       "      <td>41.473520</td>\n",
       "      <td>0.042440</td>\n",
       "    </tr>\n",
       "    <tr>\n",
       "      <th>std</th>\n",
       "      <td>14433.901067</td>\n",
       "      <td>13.808309</td>\n",
       "      <td>0.201593</td>\n",
       "    </tr>\n",
       "    <tr>\n",
       "      <th>min</th>\n",
       "      <td>1.000000</td>\n",
       "      <td>18.000000</td>\n",
       "      <td>0.000000</td>\n",
       "    </tr>\n",
       "    <tr>\n",
       "      <th>25%</th>\n",
       "      <td>12500.750000</td>\n",
       "      <td>30.000000</td>\n",
       "      <td>0.000000</td>\n",
       "    </tr>\n",
       "    <tr>\n",
       "      <th>50%</th>\n",
       "      <td>25000.500000</td>\n",
       "      <td>42.000000</td>\n",
       "      <td>0.000000</td>\n",
       "    </tr>\n",
       "    <tr>\n",
       "      <th>75%</th>\n",
       "      <td>37500.250000</td>\n",
       "      <td>53.000000</td>\n",
       "      <td>0.000000</td>\n",
       "    </tr>\n",
       "    <tr>\n",
       "      <th>max</th>\n",
       "      <td>50000.000000</td>\n",
       "      <td>65.000000</td>\n",
       "      <td>1.000000</td>\n",
       "    </tr>\n",
       "  </tbody>\n",
       "</table>\n",
       "</div>"
      ],
      "text/plain": [
       "       Participant ID           Age  Panic Disorder Diagnosis\n",
       "count    50000.000000  50000.000000              50000.000000\n",
       "mean     25000.500000     41.473520                  0.042440\n",
       "std      14433.901067     13.808309                  0.201593\n",
       "min          1.000000     18.000000                  0.000000\n",
       "25%      12500.750000     30.000000                  0.000000\n",
       "50%      25000.500000     42.000000                  0.000000\n",
       "75%      37500.250000     53.000000                  0.000000\n",
       "max      50000.000000     65.000000                  1.000000"
      ]
     },
     "execution_count": 7,
     "metadata": {},
     "output_type": "execute_result"
    }
   ],
   "source": [
    "data.describe()"
   ]
  },
  {
   "cell_type": "code",
   "execution_count": 8,
   "id": "687dcc7a",
   "metadata": {},
   "outputs": [
    {
     "data": {
      "text/plain": [
       "Participant ID                  0\n",
       "Age                             0\n",
       "Gender                          0\n",
       "Family History                  0\n",
       "Personal History                0\n",
       "Current Stressors               0\n",
       "Symptoms                        0\n",
       "Severity                        0\n",
       "Impact on Life                  0\n",
       "Demographics                    0\n",
       "Medical History             12644\n",
       "Psychiatric History         12453\n",
       "Substance Use               16566\n",
       "Coping Mechanisms               0\n",
       "Social Support                  0\n",
       "Lifestyle Factors               0\n",
       "Panic Disorder Diagnosis        0\n",
       "dtype: int64"
      ]
     },
     "execution_count": 8,
     "metadata": {},
     "output_type": "execute_result"
    }
   ],
   "source": [
    "#missing value\n",
    "data.isnull().sum()"
   ]
  },
  {
   "cell_type": "code",
   "execution_count": 9,
   "id": "6a8ecde8",
   "metadata": {},
   "outputs": [
    {
     "data": {
      "text/plain": [
       "Participant ID               int64\n",
       "Age                          int64\n",
       "Gender                      object\n",
       "Family History              object\n",
       "Personal History            object\n",
       "Current Stressors           object\n",
       "Symptoms                    object\n",
       "Severity                    object\n",
       "Impact on Life              object\n",
       "Demographics                object\n",
       "Medical History             object\n",
       "Psychiatric History         object\n",
       "Substance Use               object\n",
       "Coping Mechanisms           object\n",
       "Social Support              object\n",
       "Lifestyle Factors           object\n",
       "Panic Disorder Diagnosis     int64\n",
       "dtype: object"
      ]
     },
     "execution_count": 9,
     "metadata": {},
     "output_type": "execute_result"
    }
   ],
   "source": [
    "data.dtypes"
   ]
  },
  {
   "cell_type": "code",
   "execution_count": 10,
   "id": "aaa5e111",
   "metadata": {},
   "outputs": [],
   "source": [
    "#renaming the columns\n",
    "data=data.rename(columns={\"Family History\":\"Family_History\"})\n",
    "data=data.rename(columns={\"Personal History\":\"Personal_History\"})\n",
    "data=data.rename(columns={\"Current Stressors\":\"Current_Stressors\"})\n",
    "data=data.rename(columns={\"Impact on Life\":\"Impact_on_Life\"})\n",
    "data=data.rename(columns={\"Medical History\":\"Medical_History\"})\n",
    "data=data.rename(columns={\"Psychiatric History\":\"Psychiatric_History\"})\n",
    "data=data.rename(columns={\"Substance Use\":\"Substance_Use\"})\n",
    "data=data.rename(columns={\"Coping Mechanisms\":\"Coping_Mechanisms\"})\n",
    "data=data.rename(columns={\"Social Support\":\"Social_Support\"})\n",
    "data=data.rename(columns={\"Lifestyle Factors\":\"Lifestyle_Factors\"})\n",
    "data=data.rename(columns={\"Panic Disorder Diagnosis\":\"Panic_Disorder_Diagnosis\"})"
   ]
  },
  {
   "cell_type": "code",
   "execution_count": 11,
   "id": "bd29c362",
   "metadata": {},
   "outputs": [
    {
     "data": {
      "text/plain": [
       "Index(['Participant ID', 'Age', 'Gender', 'Family_History', 'Personal_History',\n",
       "       'Current_Stressors', 'Symptoms', 'Severity', 'Impact_on_Life',\n",
       "       'Demographics', 'Medical_History', 'Psychiatric_History',\n",
       "       'Substance_Use', 'Coping_Mechanisms', 'Social_Support',\n",
       "       'Lifestyle_Factors', 'Panic_Disorder_Diagnosis'],\n",
       "      dtype='object')"
      ]
     },
     "execution_count": 11,
     "metadata": {},
     "output_type": "execute_result"
    }
   ],
   "source": [
    "data.columns"
   ]
  },
  {
   "cell_type": "code",
   "execution_count": 12,
   "id": "c963251a",
   "metadata": {},
   "outputs": [
    {
     "data": {
      "text/plain": [
       "Panic_Disorder_Diagnosis\n",
       "0    47878\n",
       "1     2122\n",
       "Name: count, dtype: int64"
      ]
     },
     "execution_count": 12,
     "metadata": {},
     "output_type": "execute_result"
    }
   ],
   "source": [
    "data.Panic_Disorder_Diagnosis.value_counts()#target"
   ]
  },
  {
   "cell_type": "code",
   "execution_count": 13,
   "id": "4e03e8d8",
   "metadata": {},
   "outputs": [
    {
     "data": {
      "text/plain": [
       "Medical_History\n",
       "Diabetes         12521\n",
       "Asthma           12449\n",
       "Heart disease    12386\n",
       "Name: count, dtype: int64"
      ]
     },
     "execution_count": 13,
     "metadata": {},
     "output_type": "execute_result"
    }
   ],
   "source": [
    "#missing value treatment\n",
    "data.Medical_History.value_counts()"
   ]
  },
  {
   "cell_type": "code",
   "execution_count": 14,
   "id": "8bbb1701",
   "metadata": {},
   "outputs": [],
   "source": [
    "data.Medical_History=data.Medical_History.fillna(\"others\")"
   ]
  },
  {
   "cell_type": "code",
   "execution_count": 15,
   "id": "bcf44bb5",
   "metadata": {},
   "outputs": [
    {
     "data": {
      "text/plain": [
       "Medical_History\n",
       "others           12644\n",
       "Diabetes         12521\n",
       "Asthma           12449\n",
       "Heart disease    12386\n",
       "Name: count, dtype: int64"
      ]
     },
     "execution_count": 15,
     "metadata": {},
     "output_type": "execute_result"
    }
   ],
   "source": [
    "data.Medical_History.value_counts()"
   ]
  },
  {
   "cell_type": "code",
   "execution_count": 16,
   "id": "53be9b70",
   "metadata": {},
   "outputs": [
    {
     "data": {
      "text/plain": [
       "Psychiatric_History\n",
       "Bipolar disorder       12611\n",
       "Anxiety disorder       12503\n",
       "Depressive disorder    12433\n",
       "Name: count, dtype: int64"
      ]
     },
     "execution_count": 16,
     "metadata": {},
     "output_type": "execute_result"
    }
   ],
   "source": [
    "data.Psychiatric_History.value_counts()"
   ]
  },
  {
   "cell_type": "code",
   "execution_count": 17,
   "id": "5d539e1b",
   "metadata": {},
   "outputs": [],
   "source": [
    "data.Psychiatric_History=data.Psychiatric_History.fillna(\"others\")"
   ]
  },
  {
   "cell_type": "code",
   "execution_count": 18,
   "id": "d4743c40",
   "metadata": {},
   "outputs": [
    {
     "data": {
      "text/plain": [
       "Psychiatric_History\n",
       "Bipolar disorder       12611\n",
       "Anxiety disorder       12503\n",
       "others                 12453\n",
       "Depressive disorder    12433\n",
       "Name: count, dtype: int64"
      ]
     },
     "execution_count": 18,
     "metadata": {},
     "output_type": "execute_result"
    }
   ],
   "source": [
    "data.Psychiatric_History.value_counts()"
   ]
  },
  {
   "cell_type": "code",
   "execution_count": 19,
   "id": "649df347",
   "metadata": {},
   "outputs": [
    {
     "data": {
      "text/plain": [
       "Substance_Use\n",
       "Alcohol    16755\n",
       "Drugs      16679\n",
       "Name: count, dtype: int64"
      ]
     },
     "execution_count": 19,
     "metadata": {},
     "output_type": "execute_result"
    }
   ],
   "source": [
    "data.Substance_Use.value_counts()"
   ]
  },
  {
   "cell_type": "code",
   "execution_count": 20,
   "id": "cffb2df3",
   "metadata": {},
   "outputs": [],
   "source": [
    "data.Substance_Use=data.Substance_Use.fillna(\"others\")"
   ]
  },
  {
   "cell_type": "code",
   "execution_count": 21,
   "id": "9d206e21",
   "metadata": {},
   "outputs": [
    {
     "data": {
      "text/plain": [
       "Substance_Use\n",
       "Alcohol    16755\n",
       "Drugs      16679\n",
       "others     16566\n",
       "Name: count, dtype: int64"
      ]
     },
     "execution_count": 21,
     "metadata": {},
     "output_type": "execute_result"
    }
   ],
   "source": [
    "data.Substance_Use.value_counts()"
   ]
  },
  {
   "cell_type": "code",
   "execution_count": 22,
   "id": "5ad45c33",
   "metadata": {},
   "outputs": [
    {
     "data": {
      "text/plain": [
       "Participant ID              0\n",
       "Age                         0\n",
       "Gender                      0\n",
       "Family_History              0\n",
       "Personal_History            0\n",
       "Current_Stressors           0\n",
       "Symptoms                    0\n",
       "Severity                    0\n",
       "Impact_on_Life              0\n",
       "Demographics                0\n",
       "Medical_History             0\n",
       "Psychiatric_History         0\n",
       "Substance_Use               0\n",
       "Coping_Mechanisms           0\n",
       "Social_Support              0\n",
       "Lifestyle_Factors           0\n",
       "Panic_Disorder_Diagnosis    0\n",
       "dtype: int64"
      ]
     },
     "execution_count": 22,
     "metadata": {},
     "output_type": "execute_result"
    }
   ],
   "source": [
    "data.isnull().sum()"
   ]
  },
  {
   "cell_type": "markdown",
   "id": "5ad170fa",
   "metadata": {},
   "source": [
    "# data type conversion"
   ]
  },
  {
   "cell_type": "code",
   "execution_count": 23,
   "id": "d731e34d",
   "metadata": {},
   "outputs": [],
   "source": [
    "#dtype coversion\n",
    "from sklearn.preprocessing import LabelEncoder\n",
    "le=LabelEncoder()"
   ]
  },
  {
   "cell_type": "code",
   "execution_count": 24,
   "id": "19b78043",
   "metadata": {},
   "outputs": [],
   "source": [
    "data.Gender=le.fit_transform(data.Gender)\n",
    "data.Family_History=le.fit_transform(data.Family_History)\n",
    "data.Personal_History=le.fit_transform(data.Personal_History)\n",
    "data.Current_Stressors=le.fit_transform(data.Current_Stressors)\n",
    "data.Symptoms=le.fit_transform(data.Symptoms)\n",
    "data.Severity=le.fit_transform(data.Severity)\n",
    "data.Impact_on_Life=le.fit_transform(data.Impact_on_Life)\n",
    "data.Demographics=le.fit_transform(data.Demographics)\n",
    "data.Medical_History=le.fit_transform(data.Medical_History)\n",
    "data.Psychiatric_History=le.fit_transform(data.Psychiatric_History)\n",
    "data.Substance_Use=le.fit_transform(data.Substance_Use)\n",
    "data.Coping_Mechanisms=le.fit_transform(data.Coping_Mechanisms)\n",
    "data.Social_Support=le.fit_transform(data.Social_Support)\n",
    "data.Lifestyle_Factors=le.fit_transform(data.Lifestyle_Factors)"
   ]
  },
  {
   "cell_type": "code",
   "execution_count": 25,
   "id": "c85a9342",
   "metadata": {},
   "outputs": [
    {
     "data": {
      "text/plain": [
       "Participant ID              int64\n",
       "Age                         int64\n",
       "Gender                      int32\n",
       "Family_History              int32\n",
       "Personal_History            int32\n",
       "Current_Stressors           int32\n",
       "Symptoms                    int32\n",
       "Severity                    int32\n",
       "Impact_on_Life              int32\n",
       "Demographics                int32\n",
       "Medical_History             int32\n",
       "Psychiatric_History         int32\n",
       "Substance_Use               int32\n",
       "Coping_Mechanisms           int32\n",
       "Social_Support              int32\n",
       "Lifestyle_Factors           int32\n",
       "Panic_Disorder_Diagnosis    int64\n",
       "dtype: object"
      ]
     },
     "execution_count": 25,
     "metadata": {},
     "output_type": "execute_result"
    }
   ],
   "source": [
    "data.dtypes"
   ]
  },
  {
   "cell_type": "code",
   "execution_count": 26,
   "id": "36f4caa2",
   "metadata": {},
   "outputs": [
    {
     "data": {
      "text/plain": [
       "0        False\n",
       "1        False\n",
       "2        False\n",
       "3        False\n",
       "4        False\n",
       "         ...  \n",
       "49995    False\n",
       "49996    False\n",
       "49997    False\n",
       "49998    False\n",
       "49999    False\n",
       "Length: 50000, dtype: bool"
      ]
     },
     "execution_count": 26,
     "metadata": {},
     "output_type": "execute_result"
    }
   ],
   "source": [
    "data.duplicated()"
   ]
  },
  {
   "cell_type": "code",
   "execution_count": 27,
   "id": "3350751e",
   "metadata": {},
   "outputs": [],
   "source": [
    "data=data.drop([\"Participant ID\"],axis=1)"
   ]
  },
  {
   "cell_type": "code",
   "execution_count": 28,
   "id": "d61167a6",
   "metadata": {},
   "outputs": [
    {
     "data": {
      "text/plain": [
       "(50000, 16)"
      ]
     },
     "execution_count": 28,
     "metadata": {},
     "output_type": "execute_result"
    }
   ],
   "source": [
    " data.shape"
   ]
  },
  {
   "cell_type": "markdown",
   "id": "83179de4",
   "metadata": {},
   "source": [
    "# model building"
   ]
  },
  {
   "cell_type": "code",
   "execution_count": 29,
   "id": "e53f587d",
   "metadata": {},
   "outputs": [],
   "source": [
    "x=data.iloc[:,:-1]\n",
    "y=data.iloc[:,-1]"
   ]
  },
  {
   "cell_type": "code",
   "execution_count": 30,
   "id": "c487c043",
   "metadata": {},
   "outputs": [
    {
     "data": {
      "text/html": [
       "<div>\n",
       "<style scoped>\n",
       "    .dataframe tbody tr th:only-of-type {\n",
       "        vertical-align: middle;\n",
       "    }\n",
       "\n",
       "    .dataframe tbody tr th {\n",
       "        vertical-align: top;\n",
       "    }\n",
       "\n",
       "    .dataframe thead th {\n",
       "        text-align: right;\n",
       "    }\n",
       "</style>\n",
       "<table border=\"1\" class=\"dataframe\">\n",
       "  <thead>\n",
       "    <tr style=\"text-align: right;\">\n",
       "      <th></th>\n",
       "      <th>Age</th>\n",
       "      <th>Gender</th>\n",
       "      <th>Family_History</th>\n",
       "      <th>Personal_History</th>\n",
       "      <th>Current_Stressors</th>\n",
       "      <th>Symptoms</th>\n",
       "      <th>Severity</th>\n",
       "      <th>Impact_on_Life</th>\n",
       "      <th>Demographics</th>\n",
       "      <th>Medical_History</th>\n",
       "      <th>Psychiatric_History</th>\n",
       "      <th>Substance_Use</th>\n",
       "      <th>Coping_Mechanisms</th>\n",
       "      <th>Social_Support</th>\n",
       "      <th>Lifestyle_Factors</th>\n",
       "    </tr>\n",
       "  </thead>\n",
       "  <tbody>\n",
       "    <tr>\n",
       "      <th>0</th>\n",
       "      <td>38</td>\n",
       "      <td>1</td>\n",
       "      <td>0</td>\n",
       "      <td>1</td>\n",
       "      <td>2</td>\n",
       "      <td>4</td>\n",
       "      <td>0</td>\n",
       "      <td>0</td>\n",
       "      <td>0</td>\n",
       "      <td>1</td>\n",
       "      <td>1</td>\n",
       "      <td>2</td>\n",
       "      <td>3</td>\n",
       "      <td>0</td>\n",
       "      <td>2</td>\n",
       "    </tr>\n",
       "  </tbody>\n",
       "</table>\n",
       "</div>"
      ],
      "text/plain": [
       "   Age  Gender  Family_History  Personal_History  Current_Stressors  Symptoms  \\\n",
       "0   38       1               0                 1                  2         4   \n",
       "\n",
       "   Severity  Impact_on_Life  Demographics  Medical_History  \\\n",
       "0         0               0             0                1   \n",
       "\n",
       "   Psychiatric_History  Substance_Use  Coping_Mechanisms  Social_Support  \\\n",
       "0                    1              2                  3               0   \n",
       "\n",
       "   Lifestyle_Factors  \n",
       "0                  2  "
      ]
     },
     "execution_count": 30,
     "metadata": {},
     "output_type": "execute_result"
    }
   ],
   "source": [
    "x.head(1)"
   ]
  },
  {
   "cell_type": "code",
   "execution_count": 31,
   "id": "a41d5ff6",
   "metadata": {},
   "outputs": [
    {
     "data": {
      "text/plain": [
       "0    0\n",
       "1    0\n",
       "2    0\n",
       "3    0\n",
       "4    0\n",
       "Name: Panic_Disorder_Diagnosis, dtype: int64"
      ]
     },
     "execution_count": 31,
     "metadata": {},
     "output_type": "execute_result"
    }
   ],
   "source": [
    "y.head()"
   ]
  },
  {
   "cell_type": "code",
   "execution_count": 32,
   "id": "9438d229",
   "metadata": {},
   "outputs": [],
   "source": [
    "from sklearn.model_selection import train_test_split"
   ]
  },
  {
   "cell_type": "code",
   "execution_count": 33,
   "id": "dbf6e953",
   "metadata": {},
   "outputs": [],
   "source": [
    "x_tr,x_te,y_tr,y_te=train_test_split(x,y,test_size=0.2,random_state=100)"
   ]
  },
  {
   "cell_type": "code",
   "execution_count": 34,
   "id": "2ccca525",
   "metadata": {},
   "outputs": [
    {
     "data": {
      "text/plain": [
       "((40000, 15), (10000, 15), (40000,), (10000,))"
      ]
     },
     "execution_count": 34,
     "metadata": {},
     "output_type": "execute_result"
    }
   ],
   "source": [
    "x_tr.shape,x_te.shape,y_tr.shape,y_te.shape"
   ]
  },
  {
   "cell_type": "markdown",
   "id": "b6ef6539",
   "metadata": {},
   "source": [
    "# LogisticRegression"
   ]
  },
  {
   "cell_type": "code",
   "execution_count": 35,
   "id": "7b1bd4d4",
   "metadata": {},
   "outputs": [],
   "source": [
    "\n",
    "from sklearn.linear_model import LogisticRegression\n",
    "lg=LogisticRegression()"
   ]
  },
  {
   "cell_type": "code",
   "execution_count": 36,
   "id": "0325132a",
   "metadata": {},
   "outputs": [],
   "source": [
    "from sklearn.metrics import confusion_matrix\n",
    "from sklearn.metrics import classification_report"
   ]
  },
  {
   "cell_type": "code",
   "execution_count": 37,
   "id": "e199706e",
   "metadata": {},
   "outputs": [
    {
     "data": {
      "text/html": [
       "<style>#sk-container-id-1 {color: black;}#sk-container-id-1 pre{padding: 0;}#sk-container-id-1 div.sk-toggleable {background-color: white;}#sk-container-id-1 label.sk-toggleable__label {cursor: pointer;display: block;width: 100%;margin-bottom: 0;padding: 0.3em;box-sizing: border-box;text-align: center;}#sk-container-id-1 label.sk-toggleable__label-arrow:before {content: \"▸\";float: left;margin-right: 0.25em;color: #696969;}#sk-container-id-1 label.sk-toggleable__label-arrow:hover:before {color: black;}#sk-container-id-1 div.sk-estimator:hover label.sk-toggleable__label-arrow:before {color: black;}#sk-container-id-1 div.sk-toggleable__content {max-height: 0;max-width: 0;overflow: hidden;text-align: left;background-color: #f0f8ff;}#sk-container-id-1 div.sk-toggleable__content pre {margin: 0.2em;color: black;border-radius: 0.25em;background-color: #f0f8ff;}#sk-container-id-1 input.sk-toggleable__control:checked~div.sk-toggleable__content {max-height: 200px;max-width: 100%;overflow: auto;}#sk-container-id-1 input.sk-toggleable__control:checked~label.sk-toggleable__label-arrow:before {content: \"▾\";}#sk-container-id-1 div.sk-estimator input.sk-toggleable__control:checked~label.sk-toggleable__label {background-color: #d4ebff;}#sk-container-id-1 div.sk-label input.sk-toggleable__control:checked~label.sk-toggleable__label {background-color: #d4ebff;}#sk-container-id-1 input.sk-hidden--visually {border: 0;clip: rect(1px 1px 1px 1px);clip: rect(1px, 1px, 1px, 1px);height: 1px;margin: -1px;overflow: hidden;padding: 0;position: absolute;width: 1px;}#sk-container-id-1 div.sk-estimator {font-family: monospace;background-color: #f0f8ff;border: 1px dotted black;border-radius: 0.25em;box-sizing: border-box;margin-bottom: 0.5em;}#sk-container-id-1 div.sk-estimator:hover {background-color: #d4ebff;}#sk-container-id-1 div.sk-parallel-item::after {content: \"\";width: 100%;border-bottom: 1px solid gray;flex-grow: 1;}#sk-container-id-1 div.sk-label:hover label.sk-toggleable__label {background-color: #d4ebff;}#sk-container-id-1 div.sk-serial::before {content: \"\";position: absolute;border-left: 1px solid gray;box-sizing: border-box;top: 0;bottom: 0;left: 50%;z-index: 0;}#sk-container-id-1 div.sk-serial {display: flex;flex-direction: column;align-items: center;background-color: white;padding-right: 0.2em;padding-left: 0.2em;position: relative;}#sk-container-id-1 div.sk-item {position: relative;z-index: 1;}#sk-container-id-1 div.sk-parallel {display: flex;align-items: stretch;justify-content: center;background-color: white;position: relative;}#sk-container-id-1 div.sk-item::before, #sk-container-id-1 div.sk-parallel-item::before {content: \"\";position: absolute;border-left: 1px solid gray;box-sizing: border-box;top: 0;bottom: 0;left: 50%;z-index: -1;}#sk-container-id-1 div.sk-parallel-item {display: flex;flex-direction: column;z-index: 1;position: relative;background-color: white;}#sk-container-id-1 div.sk-parallel-item:first-child::after {align-self: flex-end;width: 50%;}#sk-container-id-1 div.sk-parallel-item:last-child::after {align-self: flex-start;width: 50%;}#sk-container-id-1 div.sk-parallel-item:only-child::after {width: 0;}#sk-container-id-1 div.sk-dashed-wrapped {border: 1px dashed gray;margin: 0 0.4em 0.5em 0.4em;box-sizing: border-box;padding-bottom: 0.4em;background-color: white;}#sk-container-id-1 div.sk-label label {font-family: monospace;font-weight: bold;display: inline-block;line-height: 1.2em;}#sk-container-id-1 div.sk-label-container {text-align: center;}#sk-container-id-1 div.sk-container {/* jupyter's `normalize.less` sets `[hidden] { display: none; }` but bootstrap.min.css set `[hidden] { display: none !important; }` so we also need the `!important` here to be able to override the default hidden behavior on the sphinx rendered scikit-learn.org. See: https://github.com/scikit-learn/scikit-learn/issues/21755 */display: inline-block !important;position: relative;}#sk-container-id-1 div.sk-text-repr-fallback {display: none;}</style><div id=\"sk-container-id-1\" class=\"sk-top-container\"><div class=\"sk-text-repr-fallback\"><pre>LogisticRegression()</pre><b>In a Jupyter environment, please rerun this cell to show the HTML representation or trust the notebook. <br />On GitHub, the HTML representation is unable to render, please try loading this page with nbviewer.org.</b></div><div class=\"sk-container\" hidden><div class=\"sk-item\"><div class=\"sk-estimator sk-toggleable\"><input class=\"sk-toggleable__control sk-hidden--visually\" id=\"sk-estimator-id-1\" type=\"checkbox\" checked><label for=\"sk-estimator-id-1\" class=\"sk-toggleable__label sk-toggleable__label-arrow\">LogisticRegression</label><div class=\"sk-toggleable__content\"><pre>LogisticRegression()</pre></div></div></div></div></div>"
      ],
      "text/plain": [
       "LogisticRegression()"
      ]
     },
     "execution_count": 37,
     "metadata": {},
     "output_type": "execute_result"
    }
   ],
   "source": [
    "lg.fit(x_tr,y_tr)"
   ]
  },
  {
   "cell_type": "code",
   "execution_count": 38,
   "id": "781357a9",
   "metadata": {},
   "outputs": [
    {
     "data": {
      "text/plain": [
       "array([0, 0, 0, ..., 0, 0, 0], dtype=int64)"
      ]
     },
     "execution_count": 38,
     "metadata": {},
     "output_type": "execute_result"
    }
   ],
   "source": [
    "lg_p=lg.predict(x_te)\n",
    "lg_p"
   ]
  },
  {
   "cell_type": "code",
   "execution_count": 39,
   "id": "453e86f8",
   "metadata": {},
   "outputs": [
    {
     "data": {
      "text/plain": [
       "array([[9.99589450e-01, 4.10549737e-04],\n",
       "       [9.99994209e-01, 5.79074947e-06],\n",
       "       [9.99991682e-01, 8.31840495e-06],\n",
       "       ...,\n",
       "       [9.02217800e-01, 9.77821995e-02],\n",
       "       [9.99956548e-01, 4.34515872e-05],\n",
       "       [9.99982538e-01, 1.74620164e-05]])"
      ]
     },
     "execution_count": 39,
     "metadata": {},
     "output_type": "execute_result"
    }
   ],
   "source": [
    "pred_prob=lg.predict_proba(x_te)\n",
    "pred_prob"
   ]
  },
  {
   "cell_type": "code",
   "execution_count": 40,
   "id": "0ba1c667",
   "metadata": {},
   "outputs": [
    {
     "data": {
      "text/plain": [
       "array([[9511,  271],\n",
       "       [  61,  157]], dtype=int64)"
      ]
     },
     "execution_count": 40,
     "metadata": {},
     "output_type": "execute_result"
    }
   ],
   "source": [
    "lg_m=confusion_matrix(lg_p,y_te)\n",
    "lg_m"
   ]
  },
  {
   "cell_type": "code",
   "execution_count": 41,
   "id": "4e32a185",
   "metadata": {},
   "outputs": [
    {
     "data": {
      "text/plain": [
       "96.67999999999999"
      ]
     },
     "execution_count": 41,
     "metadata": {},
     "output_type": "execute_result"
    }
   ],
   "source": [
    "lg_acc=lg_m.diagonal().sum()/lg_m.sum()*100\n",
    "lg_acc"
   ]
  },
  {
   "cell_type": "code",
   "execution_count": 42,
   "id": "571920bf",
   "metadata": {},
   "outputs": [
    {
     "name": "stdout",
     "output_type": "stream",
     "text": [
      "              precision    recall  f1-score   support\n",
      "\n",
      "           0       0.99      0.97      0.98      9782\n",
      "           1       0.37      0.72      0.49       218\n",
      "\n",
      "    accuracy                           0.97     10000\n",
      "   macro avg       0.68      0.85      0.73     10000\n",
      "weighted avg       0.98      0.97      0.97     10000\n",
      "\n"
     ]
    }
   ],
   "source": [
    "print(classification_report(lg_p,y_te))"
   ]
  },
  {
   "cell_type": "code",
   "execution_count": 43,
   "id": "cb8dc34b",
   "metadata": {},
   "outputs": [
    {
     "data": {
      "text/plain": [
       "0.9936272461345591"
      ]
     },
     "execution_count": 43,
     "metadata": {},
     "output_type": "execute_result"
    }
   ],
   "source": [
    "#tpr=tp/(tp+fn)\n",
    "tpr=9511/(9511+61)\n",
    "tpr"
   ]
  },
  {
   "cell_type": "code",
   "execution_count": 44,
   "id": "8f2a0762",
   "metadata": {},
   "outputs": [
    {
     "data": {
      "text/plain": [
       "0.633177570093458"
      ]
     },
     "execution_count": 44,
     "metadata": {},
     "output_type": "execute_result"
    }
   ],
   "source": [
    "#fpr=fp/(fp+tn)\n",
    "fpr=271/(271+157)\n",
    "fpr"
   ]
  },
  {
   "cell_type": "code",
   "execution_count": 45,
   "id": "d5fbe06a",
   "metadata": {},
   "outputs": [
    {
     "data": {
      "text/plain": [
       "0.9837608605709557"
      ]
     },
     "execution_count": 45,
     "metadata": {},
     "output_type": "execute_result"
    }
   ],
   "source": [
    "#precision=tp/(tp+fp)\n",
    "precision=9511/(9511+157)\n",
    "precision"
   ]
  },
  {
   "cell_type": "code",
   "execution_count": 46,
   "id": "ff9ce98c",
   "metadata": {},
   "outputs": [
    {
     "data": {
      "text/plain": [
       "0.9886694386694386"
      ]
     },
     "execution_count": 46,
     "metadata": {},
     "output_type": "execute_result"
    }
   ],
   "source": [
    "#f1-score=2(precision*recall)/(precision+recall)\n",
    "f1score=(2*(precision*tpr))/(precision+tpr)\n",
    "f1score"
   ]
  },
  {
   "cell_type": "markdown",
   "id": "0a247aed",
   "metadata": {},
   "source": [
    "# DecisionTree"
   ]
  },
  {
   "cell_type": "code",
   "execution_count": 47,
   "id": "ff527d1d",
   "metadata": {},
   "outputs": [],
   "source": [
    "from sklearn.tree import DecisionTreeClassifier\n",
    "dt=DecisionTreeClassifier()"
   ]
  },
  {
   "cell_type": "code",
   "execution_count": 48,
   "id": "a7d33c95",
   "metadata": {},
   "outputs": [
    {
     "data": {
      "text/html": [
       "<style>#sk-container-id-2 {color: black;}#sk-container-id-2 pre{padding: 0;}#sk-container-id-2 div.sk-toggleable {background-color: white;}#sk-container-id-2 label.sk-toggleable__label {cursor: pointer;display: block;width: 100%;margin-bottom: 0;padding: 0.3em;box-sizing: border-box;text-align: center;}#sk-container-id-2 label.sk-toggleable__label-arrow:before {content: \"▸\";float: left;margin-right: 0.25em;color: #696969;}#sk-container-id-2 label.sk-toggleable__label-arrow:hover:before {color: black;}#sk-container-id-2 div.sk-estimator:hover label.sk-toggleable__label-arrow:before {color: black;}#sk-container-id-2 div.sk-toggleable__content {max-height: 0;max-width: 0;overflow: hidden;text-align: left;background-color: #f0f8ff;}#sk-container-id-2 div.sk-toggleable__content pre {margin: 0.2em;color: black;border-radius: 0.25em;background-color: #f0f8ff;}#sk-container-id-2 input.sk-toggleable__control:checked~div.sk-toggleable__content {max-height: 200px;max-width: 100%;overflow: auto;}#sk-container-id-2 input.sk-toggleable__control:checked~label.sk-toggleable__label-arrow:before {content: \"▾\";}#sk-container-id-2 div.sk-estimator input.sk-toggleable__control:checked~label.sk-toggleable__label {background-color: #d4ebff;}#sk-container-id-2 div.sk-label input.sk-toggleable__control:checked~label.sk-toggleable__label {background-color: #d4ebff;}#sk-container-id-2 input.sk-hidden--visually {border: 0;clip: rect(1px 1px 1px 1px);clip: rect(1px, 1px, 1px, 1px);height: 1px;margin: -1px;overflow: hidden;padding: 0;position: absolute;width: 1px;}#sk-container-id-2 div.sk-estimator {font-family: monospace;background-color: #f0f8ff;border: 1px dotted black;border-radius: 0.25em;box-sizing: border-box;margin-bottom: 0.5em;}#sk-container-id-2 div.sk-estimator:hover {background-color: #d4ebff;}#sk-container-id-2 div.sk-parallel-item::after {content: \"\";width: 100%;border-bottom: 1px solid gray;flex-grow: 1;}#sk-container-id-2 div.sk-label:hover label.sk-toggleable__label {background-color: #d4ebff;}#sk-container-id-2 div.sk-serial::before {content: \"\";position: absolute;border-left: 1px solid gray;box-sizing: border-box;top: 0;bottom: 0;left: 50%;z-index: 0;}#sk-container-id-2 div.sk-serial {display: flex;flex-direction: column;align-items: center;background-color: white;padding-right: 0.2em;padding-left: 0.2em;position: relative;}#sk-container-id-2 div.sk-item {position: relative;z-index: 1;}#sk-container-id-2 div.sk-parallel {display: flex;align-items: stretch;justify-content: center;background-color: white;position: relative;}#sk-container-id-2 div.sk-item::before, #sk-container-id-2 div.sk-parallel-item::before {content: \"\";position: absolute;border-left: 1px solid gray;box-sizing: border-box;top: 0;bottom: 0;left: 50%;z-index: -1;}#sk-container-id-2 div.sk-parallel-item {display: flex;flex-direction: column;z-index: 1;position: relative;background-color: white;}#sk-container-id-2 div.sk-parallel-item:first-child::after {align-self: flex-end;width: 50%;}#sk-container-id-2 div.sk-parallel-item:last-child::after {align-self: flex-start;width: 50%;}#sk-container-id-2 div.sk-parallel-item:only-child::after {width: 0;}#sk-container-id-2 div.sk-dashed-wrapped {border: 1px dashed gray;margin: 0 0.4em 0.5em 0.4em;box-sizing: border-box;padding-bottom: 0.4em;background-color: white;}#sk-container-id-2 div.sk-label label {font-family: monospace;font-weight: bold;display: inline-block;line-height: 1.2em;}#sk-container-id-2 div.sk-label-container {text-align: center;}#sk-container-id-2 div.sk-container {/* jupyter's `normalize.less` sets `[hidden] { display: none; }` but bootstrap.min.css set `[hidden] { display: none !important; }` so we also need the `!important` here to be able to override the default hidden behavior on the sphinx rendered scikit-learn.org. See: https://github.com/scikit-learn/scikit-learn/issues/21755 */display: inline-block !important;position: relative;}#sk-container-id-2 div.sk-text-repr-fallback {display: none;}</style><div id=\"sk-container-id-2\" class=\"sk-top-container\"><div class=\"sk-text-repr-fallback\"><pre>DecisionTreeClassifier()</pre><b>In a Jupyter environment, please rerun this cell to show the HTML representation or trust the notebook. <br />On GitHub, the HTML representation is unable to render, please try loading this page with nbviewer.org.</b></div><div class=\"sk-container\" hidden><div class=\"sk-item\"><div class=\"sk-estimator sk-toggleable\"><input class=\"sk-toggleable__control sk-hidden--visually\" id=\"sk-estimator-id-2\" type=\"checkbox\" checked><label for=\"sk-estimator-id-2\" class=\"sk-toggleable__label sk-toggleable__label-arrow\">DecisionTreeClassifier</label><div class=\"sk-toggleable__content\"><pre>DecisionTreeClassifier()</pre></div></div></div></div></div>"
      ],
      "text/plain": [
       "DecisionTreeClassifier()"
      ]
     },
     "execution_count": 48,
     "metadata": {},
     "output_type": "execute_result"
    }
   ],
   "source": [
    "dt.fit(x_tr,y_tr)"
   ]
  },
  {
   "cell_type": "code",
   "execution_count": 49,
   "id": "1829488a",
   "metadata": {},
   "outputs": [
    {
     "data": {
      "text/plain": [
       "array([0, 0, 0, ..., 0, 0, 0], dtype=int64)"
      ]
     },
     "execution_count": 49,
     "metadata": {},
     "output_type": "execute_result"
    }
   ],
   "source": [
    "dt_p=dt.predict(x_te)\n",
    "dt_p"
   ]
  },
  {
   "cell_type": "code",
   "execution_count": 50,
   "id": "f005cf79",
   "metadata": {},
   "outputs": [
    {
     "data": {
      "text/plain": [
       "array([[9565,    4],\n",
       "       [   7,  424]], dtype=int64)"
      ]
     },
     "execution_count": 50,
     "metadata": {},
     "output_type": "execute_result"
    }
   ],
   "source": [
    "dt_m=confusion_matrix(dt_p,y_te)\n",
    "dt_m"
   ]
  },
  {
   "cell_type": "code",
   "execution_count": 51,
   "id": "886c7b2c",
   "metadata": {},
   "outputs": [
    {
     "data": {
      "text/plain": [
       "99.89"
      ]
     },
     "execution_count": 51,
     "metadata": {},
     "output_type": "execute_result"
    }
   ],
   "source": [
    "dt_acc=dt_m.diagonal().sum()/dt_m.sum()*100\n",
    "dt_acc"
   ]
  },
  {
   "cell_type": "code",
   "execution_count": 52,
   "id": "8a333daf",
   "metadata": {},
   "outputs": [
    {
     "name": "stdout",
     "output_type": "stream",
     "text": [
      "              precision    recall  f1-score   support\n",
      "\n",
      "           0       1.00      1.00      1.00      9569\n",
      "           1       0.99      0.98      0.99       431\n",
      "\n",
      "    accuracy                           1.00     10000\n",
      "   macro avg       0.99      0.99      0.99     10000\n",
      "weighted avg       1.00      1.00      1.00     10000\n",
      "\n"
     ]
    }
   ],
   "source": [
    "print(classification_report(dt_p,y_te))"
   ]
  },
  {
   "cell_type": "code",
   "execution_count": 53,
   "id": "a505677e",
   "metadata": {},
   "outputs": [
    {
     "data": {
      "text/plain": [
       "0.9992687003760969"
      ]
     },
     "execution_count": 53,
     "metadata": {},
     "output_type": "execute_result"
    }
   ],
   "source": [
    "#tpr=tp/(tp+fn)\n",
    "tpr1=9565/(9565+7)\n",
    "tpr1"
   ]
  },
  {
   "cell_type": "code",
   "execution_count": 54,
   "id": "a7078a4e",
   "metadata": {},
   "outputs": [
    {
     "data": {
      "text/plain": [
       "0.009345794392523364"
      ]
     },
     "execution_count": 54,
     "metadata": {},
     "output_type": "execute_result"
    }
   ],
   "source": [
    "#fpr=fp/(fp+tn)\n",
    "fpr1= 4/(4+424)\n",
    "fpr1"
   ]
  },
  {
   "cell_type": "code",
   "execution_count": 55,
   "id": "6a9498f4",
   "metadata": {},
   "outputs": [
    {
     "data": {
      "text/plain": [
       "0.9995819834883478"
      ]
     },
     "execution_count": 55,
     "metadata": {},
     "output_type": "execute_result"
    }
   ],
   "source": [
    "#precision=tp/(tp+fp)\n",
    "precision1=9565/(9565+4)\n",
    "precision1"
   ]
  },
  {
   "cell_type": "code",
   "execution_count": 56,
   "id": "8dacd9ca",
   "metadata": {},
   "outputs": [
    {
     "data": {
      "text/plain": [
       "0.9937829789457187"
      ]
     },
     "execution_count": 56,
     "metadata": {},
     "output_type": "execute_result"
    }
   ],
   "source": [
    "#f1-score=2(precision*recall)/(precision+recall)\n",
    "f1score1=(2*(precision1*tpr))/(precision1+tpr1)\n",
    "f1score1"
   ]
  },
  {
   "cell_type": "markdown",
   "id": "1517666d",
   "metadata": {},
   "source": [
    "# RandomForest"
   ]
  },
  {
   "cell_type": "code",
   "execution_count": 57,
   "id": "d9acf963",
   "metadata": {},
   "outputs": [],
   "source": [
    "from sklearn.ensemble import RandomForestClassifier\n",
    "rf=RandomForestClassifier()"
   ]
  },
  {
   "cell_type": "code",
   "execution_count": 58,
   "id": "c9c2db27",
   "metadata": {},
   "outputs": [
    {
     "data": {
      "text/html": [
       "<style>#sk-container-id-3 {color: black;}#sk-container-id-3 pre{padding: 0;}#sk-container-id-3 div.sk-toggleable {background-color: white;}#sk-container-id-3 label.sk-toggleable__label {cursor: pointer;display: block;width: 100%;margin-bottom: 0;padding: 0.3em;box-sizing: border-box;text-align: center;}#sk-container-id-3 label.sk-toggleable__label-arrow:before {content: \"▸\";float: left;margin-right: 0.25em;color: #696969;}#sk-container-id-3 label.sk-toggleable__label-arrow:hover:before {color: black;}#sk-container-id-3 div.sk-estimator:hover label.sk-toggleable__label-arrow:before {color: black;}#sk-container-id-3 div.sk-toggleable__content {max-height: 0;max-width: 0;overflow: hidden;text-align: left;background-color: #f0f8ff;}#sk-container-id-3 div.sk-toggleable__content pre {margin: 0.2em;color: black;border-radius: 0.25em;background-color: #f0f8ff;}#sk-container-id-3 input.sk-toggleable__control:checked~div.sk-toggleable__content {max-height: 200px;max-width: 100%;overflow: auto;}#sk-container-id-3 input.sk-toggleable__control:checked~label.sk-toggleable__label-arrow:before {content: \"▾\";}#sk-container-id-3 div.sk-estimator input.sk-toggleable__control:checked~label.sk-toggleable__label {background-color: #d4ebff;}#sk-container-id-3 div.sk-label input.sk-toggleable__control:checked~label.sk-toggleable__label {background-color: #d4ebff;}#sk-container-id-3 input.sk-hidden--visually {border: 0;clip: rect(1px 1px 1px 1px);clip: rect(1px, 1px, 1px, 1px);height: 1px;margin: -1px;overflow: hidden;padding: 0;position: absolute;width: 1px;}#sk-container-id-3 div.sk-estimator {font-family: monospace;background-color: #f0f8ff;border: 1px dotted black;border-radius: 0.25em;box-sizing: border-box;margin-bottom: 0.5em;}#sk-container-id-3 div.sk-estimator:hover {background-color: #d4ebff;}#sk-container-id-3 div.sk-parallel-item::after {content: \"\";width: 100%;border-bottom: 1px solid gray;flex-grow: 1;}#sk-container-id-3 div.sk-label:hover label.sk-toggleable__label {background-color: #d4ebff;}#sk-container-id-3 div.sk-serial::before {content: \"\";position: absolute;border-left: 1px solid gray;box-sizing: border-box;top: 0;bottom: 0;left: 50%;z-index: 0;}#sk-container-id-3 div.sk-serial {display: flex;flex-direction: column;align-items: center;background-color: white;padding-right: 0.2em;padding-left: 0.2em;position: relative;}#sk-container-id-3 div.sk-item {position: relative;z-index: 1;}#sk-container-id-3 div.sk-parallel {display: flex;align-items: stretch;justify-content: center;background-color: white;position: relative;}#sk-container-id-3 div.sk-item::before, #sk-container-id-3 div.sk-parallel-item::before {content: \"\";position: absolute;border-left: 1px solid gray;box-sizing: border-box;top: 0;bottom: 0;left: 50%;z-index: -1;}#sk-container-id-3 div.sk-parallel-item {display: flex;flex-direction: column;z-index: 1;position: relative;background-color: white;}#sk-container-id-3 div.sk-parallel-item:first-child::after {align-self: flex-end;width: 50%;}#sk-container-id-3 div.sk-parallel-item:last-child::after {align-self: flex-start;width: 50%;}#sk-container-id-3 div.sk-parallel-item:only-child::after {width: 0;}#sk-container-id-3 div.sk-dashed-wrapped {border: 1px dashed gray;margin: 0 0.4em 0.5em 0.4em;box-sizing: border-box;padding-bottom: 0.4em;background-color: white;}#sk-container-id-3 div.sk-label label {font-family: monospace;font-weight: bold;display: inline-block;line-height: 1.2em;}#sk-container-id-3 div.sk-label-container {text-align: center;}#sk-container-id-3 div.sk-container {/* jupyter's `normalize.less` sets `[hidden] { display: none; }` but bootstrap.min.css set `[hidden] { display: none !important; }` so we also need the `!important` here to be able to override the default hidden behavior on the sphinx rendered scikit-learn.org. See: https://github.com/scikit-learn/scikit-learn/issues/21755 */display: inline-block !important;position: relative;}#sk-container-id-3 div.sk-text-repr-fallback {display: none;}</style><div id=\"sk-container-id-3\" class=\"sk-top-container\"><div class=\"sk-text-repr-fallback\"><pre>RandomForestClassifier()</pre><b>In a Jupyter environment, please rerun this cell to show the HTML representation or trust the notebook. <br />On GitHub, the HTML representation is unable to render, please try loading this page with nbviewer.org.</b></div><div class=\"sk-container\" hidden><div class=\"sk-item\"><div class=\"sk-estimator sk-toggleable\"><input class=\"sk-toggleable__control sk-hidden--visually\" id=\"sk-estimator-id-3\" type=\"checkbox\" checked><label for=\"sk-estimator-id-3\" class=\"sk-toggleable__label sk-toggleable__label-arrow\">RandomForestClassifier</label><div class=\"sk-toggleable__content\"><pre>RandomForestClassifier()</pre></div></div></div></div></div>"
      ],
      "text/plain": [
       "RandomForestClassifier()"
      ]
     },
     "execution_count": 58,
     "metadata": {},
     "output_type": "execute_result"
    }
   ],
   "source": [
    "rf.fit(x_tr,y_tr)"
   ]
  },
  {
   "cell_type": "code",
   "execution_count": 59,
   "id": "0c06cd18",
   "metadata": {},
   "outputs": [
    {
     "data": {
      "text/plain": [
       "array([0, 0, 0, ..., 0, 0, 0], dtype=int64)"
      ]
     },
     "execution_count": 59,
     "metadata": {},
     "output_type": "execute_result"
    }
   ],
   "source": [
    "rf_pre=rf.predict(x_te)\n",
    "rf_pre"
   ]
  },
  {
   "cell_type": "code",
   "execution_count": 60,
   "id": "181b6364",
   "metadata": {},
   "outputs": [
    {
     "data": {
      "text/plain": [
       "array([[9572,   52],\n",
       "       [   0,  376]], dtype=int64)"
      ]
     },
     "execution_count": 60,
     "metadata": {},
     "output_type": "execute_result"
    }
   ],
   "source": [
    "rf_mat=confusion_matrix(rf_pre,y_te)\n",
    "rf_mat"
   ]
  },
  {
   "cell_type": "code",
   "execution_count": 61,
   "id": "34557a8a",
   "metadata": {},
   "outputs": [
    {
     "data": {
      "text/plain": [
       "99.48"
      ]
     },
     "execution_count": 61,
     "metadata": {},
     "output_type": "execute_result"
    }
   ],
   "source": [
    "rf_acc=rf_mat.diagonal().sum()/rf_mat.sum()*100\n",
    "rf_acc"
   ]
  },
  {
   "cell_type": "code",
   "execution_count": 62,
   "id": "681041c8",
   "metadata": {},
   "outputs": [
    {
     "name": "stdout",
     "output_type": "stream",
     "text": [
      "              precision    recall  f1-score   support\n",
      "\n",
      "           0       1.00      0.99      1.00      9624\n",
      "           1       0.88      1.00      0.94       376\n",
      "\n",
      "    accuracy                           0.99     10000\n",
      "   macro avg       0.94      1.00      0.97     10000\n",
      "weighted avg       1.00      0.99      0.99     10000\n",
      "\n"
     ]
    }
   ],
   "source": [
    "print(classification_report (rf_pre,y_te))"
   ]
  },
  {
   "cell_type": "code",
   "execution_count": 63,
   "id": "91541e2e",
   "metadata": {},
   "outputs": [
    {
     "data": {
      "text/plain": [
       "1.0"
      ]
     },
     "execution_count": 63,
     "metadata": {},
     "output_type": "execute_result"
    }
   ],
   "source": [
    "#tpr=tp/(tp+fn)\n",
    "tpr2=9572/(9572+0)\n",
    "tpr2"
   ]
  },
  {
   "cell_type": "code",
   "execution_count": 64,
   "id": "b112087d",
   "metadata": {},
   "outputs": [
    {
     "data": {
      "text/plain": [
       "0.12149532710280374"
      ]
     },
     "execution_count": 64,
     "metadata": {},
     "output_type": "execute_result"
    }
   ],
   "source": [
    "#fpr=fp/(fp+tn)\n",
    "fpr2= 52/(52+376)\n",
    "fpr2"
   ]
  },
  {
   "cell_type": "code",
   "execution_count": 65,
   "id": "0d43df9c",
   "metadata": {},
   "outputs": [
    {
     "data": {
      "text/plain": [
       "0.9945968412302577"
      ]
     },
     "execution_count": 65,
     "metadata": {},
     "output_type": "execute_result"
    }
   ],
   "source": [
    "#precision=tp/(tp+fp)\n",
    "precision2=9572/(9572+52)\n",
    "precision2"
   ]
  },
  {
   "cell_type": "code",
   "execution_count": 66,
   "id": "fc992a13",
   "metadata": {},
   "outputs": [
    {
     "data": {
      "text/plain": [
       "0.9972911023129819"
      ]
     },
     "execution_count": 66,
     "metadata": {},
     "output_type": "execute_result"
    }
   ],
   "source": [
    "#f1-score=2(precision*recall)/(precision+recall)\n",
    "f1score2=(2*(precision2*tpr2))/(precision2+tpr2)\n",
    "f1score2"
   ]
  },
  {
   "cell_type": "markdown",
   "id": "101072e2",
   "metadata": {},
   "source": [
    "# Naive baye's"
   ]
  },
  {
   "cell_type": "code",
   "execution_count": 67,
   "id": "f3ea25a7",
   "metadata": {},
   "outputs": [],
   "source": [
    "from sklearn.naive_bayes import MultinomialNB\n",
    "nb=MultinomialNB()"
   ]
  },
  {
   "cell_type": "code",
   "execution_count": 68,
   "id": "fa3c8c17",
   "metadata": {},
   "outputs": [
    {
     "data": {
      "text/html": [
       "<style>#sk-container-id-4 {color: black;}#sk-container-id-4 pre{padding: 0;}#sk-container-id-4 div.sk-toggleable {background-color: white;}#sk-container-id-4 label.sk-toggleable__label {cursor: pointer;display: block;width: 100%;margin-bottom: 0;padding: 0.3em;box-sizing: border-box;text-align: center;}#sk-container-id-4 label.sk-toggleable__label-arrow:before {content: \"▸\";float: left;margin-right: 0.25em;color: #696969;}#sk-container-id-4 label.sk-toggleable__label-arrow:hover:before {color: black;}#sk-container-id-4 div.sk-estimator:hover label.sk-toggleable__label-arrow:before {color: black;}#sk-container-id-4 div.sk-toggleable__content {max-height: 0;max-width: 0;overflow: hidden;text-align: left;background-color: #f0f8ff;}#sk-container-id-4 div.sk-toggleable__content pre {margin: 0.2em;color: black;border-radius: 0.25em;background-color: #f0f8ff;}#sk-container-id-4 input.sk-toggleable__control:checked~div.sk-toggleable__content {max-height: 200px;max-width: 100%;overflow: auto;}#sk-container-id-4 input.sk-toggleable__control:checked~label.sk-toggleable__label-arrow:before {content: \"▾\";}#sk-container-id-4 div.sk-estimator input.sk-toggleable__control:checked~label.sk-toggleable__label {background-color: #d4ebff;}#sk-container-id-4 div.sk-label input.sk-toggleable__control:checked~label.sk-toggleable__label {background-color: #d4ebff;}#sk-container-id-4 input.sk-hidden--visually {border: 0;clip: rect(1px 1px 1px 1px);clip: rect(1px, 1px, 1px, 1px);height: 1px;margin: -1px;overflow: hidden;padding: 0;position: absolute;width: 1px;}#sk-container-id-4 div.sk-estimator {font-family: monospace;background-color: #f0f8ff;border: 1px dotted black;border-radius: 0.25em;box-sizing: border-box;margin-bottom: 0.5em;}#sk-container-id-4 div.sk-estimator:hover {background-color: #d4ebff;}#sk-container-id-4 div.sk-parallel-item::after {content: \"\";width: 100%;border-bottom: 1px solid gray;flex-grow: 1;}#sk-container-id-4 div.sk-label:hover label.sk-toggleable__label {background-color: #d4ebff;}#sk-container-id-4 div.sk-serial::before {content: \"\";position: absolute;border-left: 1px solid gray;box-sizing: border-box;top: 0;bottom: 0;left: 50%;z-index: 0;}#sk-container-id-4 div.sk-serial {display: flex;flex-direction: column;align-items: center;background-color: white;padding-right: 0.2em;padding-left: 0.2em;position: relative;}#sk-container-id-4 div.sk-item {position: relative;z-index: 1;}#sk-container-id-4 div.sk-parallel {display: flex;align-items: stretch;justify-content: center;background-color: white;position: relative;}#sk-container-id-4 div.sk-item::before, #sk-container-id-4 div.sk-parallel-item::before {content: \"\";position: absolute;border-left: 1px solid gray;box-sizing: border-box;top: 0;bottom: 0;left: 50%;z-index: -1;}#sk-container-id-4 div.sk-parallel-item {display: flex;flex-direction: column;z-index: 1;position: relative;background-color: white;}#sk-container-id-4 div.sk-parallel-item:first-child::after {align-self: flex-end;width: 50%;}#sk-container-id-4 div.sk-parallel-item:last-child::after {align-self: flex-start;width: 50%;}#sk-container-id-4 div.sk-parallel-item:only-child::after {width: 0;}#sk-container-id-4 div.sk-dashed-wrapped {border: 1px dashed gray;margin: 0 0.4em 0.5em 0.4em;box-sizing: border-box;padding-bottom: 0.4em;background-color: white;}#sk-container-id-4 div.sk-label label {font-family: monospace;font-weight: bold;display: inline-block;line-height: 1.2em;}#sk-container-id-4 div.sk-label-container {text-align: center;}#sk-container-id-4 div.sk-container {/* jupyter's `normalize.less` sets `[hidden] { display: none; }` but bootstrap.min.css set `[hidden] { display: none !important; }` so we also need the `!important` here to be able to override the default hidden behavior on the sphinx rendered scikit-learn.org. See: https://github.com/scikit-learn/scikit-learn/issues/21755 */display: inline-block !important;position: relative;}#sk-container-id-4 div.sk-text-repr-fallback {display: none;}</style><div id=\"sk-container-id-4\" class=\"sk-top-container\"><div class=\"sk-text-repr-fallback\"><pre>MultinomialNB()</pre><b>In a Jupyter environment, please rerun this cell to show the HTML representation or trust the notebook. <br />On GitHub, the HTML representation is unable to render, please try loading this page with nbviewer.org.</b></div><div class=\"sk-container\" hidden><div class=\"sk-item\"><div class=\"sk-estimator sk-toggleable\"><input class=\"sk-toggleable__control sk-hidden--visually\" id=\"sk-estimator-id-4\" type=\"checkbox\" checked><label for=\"sk-estimator-id-4\" class=\"sk-toggleable__label sk-toggleable__label-arrow\">MultinomialNB</label><div class=\"sk-toggleable__content\"><pre>MultinomialNB()</pre></div></div></div></div></div>"
      ],
      "text/plain": [
       "MultinomialNB()"
      ]
     },
     "execution_count": 68,
     "metadata": {},
     "output_type": "execute_result"
    }
   ],
   "source": [
    "nb.fit(x_tr,y_tr)"
   ]
  },
  {
   "cell_type": "code",
   "execution_count": 69,
   "id": "6026e474",
   "metadata": {},
   "outputs": [],
   "source": [
    "nb_p=nb.predict(x_te)"
   ]
  },
  {
   "cell_type": "code",
   "execution_count": 70,
   "id": "5a8fd2a6",
   "metadata": {},
   "outputs": [
    {
     "data": {
      "text/plain": [
       "array([[9572,  428],\n",
       "       [   0,    0]], dtype=int64)"
      ]
     },
     "execution_count": 70,
     "metadata": {},
     "output_type": "execute_result"
    }
   ],
   "source": [
    "nb_m=confusion_matrix(nb_p,y_te)\n",
    "nb_m\n"
   ]
  },
  {
   "cell_type": "code",
   "execution_count": 71,
   "id": "c696ffb8",
   "metadata": {},
   "outputs": [
    {
     "data": {
      "text/plain": [
       "95.72"
      ]
     },
     "execution_count": 71,
     "metadata": {},
     "output_type": "execute_result"
    }
   ],
   "source": [
    "nb_acc=nb_m.diagonal().sum()/nb_m.sum()*100\n",
    "nb_acc"
   ]
  },
  {
   "cell_type": "code",
   "execution_count": 72,
   "id": "bb221862",
   "metadata": {},
   "outputs": [
    {
     "name": "stdout",
     "output_type": "stream",
     "text": [
      "              precision    recall  f1-score   support\n",
      "\n",
      "           0       1.00      0.96      0.98     10000\n",
      "           1       0.00      0.00      0.00         0\n",
      "\n",
      "    accuracy                           0.96     10000\n",
      "   macro avg       0.50      0.48      0.49     10000\n",
      "weighted avg       1.00      0.96      0.98     10000\n",
      "\n"
     ]
    }
   ],
   "source": [
    "print(classification_report(nb_p,y_te))"
   ]
  },
  {
   "cell_type": "code",
   "execution_count": 73,
   "id": "29a8ec7f",
   "metadata": {},
   "outputs": [
    {
     "data": {
      "text/plain": [
       "1.0"
      ]
     },
     "execution_count": 73,
     "metadata": {},
     "output_type": "execute_result"
    }
   ],
   "source": [
    "#tpr=tp/(tp+fn)\n",
    "tpr3=9572/(9572+0)\n",
    "tpr3"
   ]
  },
  {
   "cell_type": "code",
   "execution_count": 74,
   "id": "d23d0b92",
   "metadata": {},
   "outputs": [
    {
     "data": {
      "text/plain": [
       "1.0"
      ]
     },
     "execution_count": 74,
     "metadata": {},
     "output_type": "execute_result"
    }
   ],
   "source": [
    "#fpr=fp/(fp+tn)\n",
    "fpr3= 428/(428+0)\n",
    "fpr3"
   ]
  },
  {
   "cell_type": "code",
   "execution_count": 75,
   "id": "95ea7861",
   "metadata": {},
   "outputs": [
    {
     "data": {
      "text/plain": [
       "0.9572"
      ]
     },
     "execution_count": 75,
     "metadata": {},
     "output_type": "execute_result"
    }
   ],
   "source": [
    "#precision=tp/(tp+fp)\n",
    "precision3=9572/(9572+428)\n",
    "precision3"
   ]
  },
  {
   "cell_type": "code",
   "execution_count": 76,
   "id": "2f6edde0",
   "metadata": {},
   "outputs": [
    {
     "data": {
      "text/plain": [
       "0.9781320253423258"
      ]
     },
     "execution_count": 76,
     "metadata": {},
     "output_type": "execute_result"
    }
   ],
   "source": [
    "#f1-score=2(precision*recall)/(precision+recall)\n",
    "f1score3=(2*(precision3*tpr3))/(precision3+tpr3)\n",
    "f1score3"
   ]
  },
  {
   "cell_type": "markdown",
   "id": "7d4d4e3f",
   "metadata": {},
   "source": [
    "# Support Vector Machine"
   ]
  },
  {
   "cell_type": "code",
   "execution_count": 77,
   "id": "ca7a1d9e",
   "metadata": {},
   "outputs": [],
   "source": [
    "\n",
    "from sklearn.svm import SVC\n",
    "svc=SVC()"
   ]
  },
  {
   "cell_type": "code",
   "execution_count": 78,
   "id": "c0fbae5e",
   "metadata": {},
   "outputs": [
    {
     "data": {
      "text/html": [
       "<style>#sk-container-id-5 {color: black;}#sk-container-id-5 pre{padding: 0;}#sk-container-id-5 div.sk-toggleable {background-color: white;}#sk-container-id-5 label.sk-toggleable__label {cursor: pointer;display: block;width: 100%;margin-bottom: 0;padding: 0.3em;box-sizing: border-box;text-align: center;}#sk-container-id-5 label.sk-toggleable__label-arrow:before {content: \"▸\";float: left;margin-right: 0.25em;color: #696969;}#sk-container-id-5 label.sk-toggleable__label-arrow:hover:before {color: black;}#sk-container-id-5 div.sk-estimator:hover label.sk-toggleable__label-arrow:before {color: black;}#sk-container-id-5 div.sk-toggleable__content {max-height: 0;max-width: 0;overflow: hidden;text-align: left;background-color: #f0f8ff;}#sk-container-id-5 div.sk-toggleable__content pre {margin: 0.2em;color: black;border-radius: 0.25em;background-color: #f0f8ff;}#sk-container-id-5 input.sk-toggleable__control:checked~div.sk-toggleable__content {max-height: 200px;max-width: 100%;overflow: auto;}#sk-container-id-5 input.sk-toggleable__control:checked~label.sk-toggleable__label-arrow:before {content: \"▾\";}#sk-container-id-5 div.sk-estimator input.sk-toggleable__control:checked~label.sk-toggleable__label {background-color: #d4ebff;}#sk-container-id-5 div.sk-label input.sk-toggleable__control:checked~label.sk-toggleable__label {background-color: #d4ebff;}#sk-container-id-5 input.sk-hidden--visually {border: 0;clip: rect(1px 1px 1px 1px);clip: rect(1px, 1px, 1px, 1px);height: 1px;margin: -1px;overflow: hidden;padding: 0;position: absolute;width: 1px;}#sk-container-id-5 div.sk-estimator {font-family: monospace;background-color: #f0f8ff;border: 1px dotted black;border-radius: 0.25em;box-sizing: border-box;margin-bottom: 0.5em;}#sk-container-id-5 div.sk-estimator:hover {background-color: #d4ebff;}#sk-container-id-5 div.sk-parallel-item::after {content: \"\";width: 100%;border-bottom: 1px solid gray;flex-grow: 1;}#sk-container-id-5 div.sk-label:hover label.sk-toggleable__label {background-color: #d4ebff;}#sk-container-id-5 div.sk-serial::before {content: \"\";position: absolute;border-left: 1px solid gray;box-sizing: border-box;top: 0;bottom: 0;left: 50%;z-index: 0;}#sk-container-id-5 div.sk-serial {display: flex;flex-direction: column;align-items: center;background-color: white;padding-right: 0.2em;padding-left: 0.2em;position: relative;}#sk-container-id-5 div.sk-item {position: relative;z-index: 1;}#sk-container-id-5 div.sk-parallel {display: flex;align-items: stretch;justify-content: center;background-color: white;position: relative;}#sk-container-id-5 div.sk-item::before, #sk-container-id-5 div.sk-parallel-item::before {content: \"\";position: absolute;border-left: 1px solid gray;box-sizing: border-box;top: 0;bottom: 0;left: 50%;z-index: -1;}#sk-container-id-5 div.sk-parallel-item {display: flex;flex-direction: column;z-index: 1;position: relative;background-color: white;}#sk-container-id-5 div.sk-parallel-item:first-child::after {align-self: flex-end;width: 50%;}#sk-container-id-5 div.sk-parallel-item:last-child::after {align-self: flex-start;width: 50%;}#sk-container-id-5 div.sk-parallel-item:only-child::after {width: 0;}#sk-container-id-5 div.sk-dashed-wrapped {border: 1px dashed gray;margin: 0 0.4em 0.5em 0.4em;box-sizing: border-box;padding-bottom: 0.4em;background-color: white;}#sk-container-id-5 div.sk-label label {font-family: monospace;font-weight: bold;display: inline-block;line-height: 1.2em;}#sk-container-id-5 div.sk-label-container {text-align: center;}#sk-container-id-5 div.sk-container {/* jupyter's `normalize.less` sets `[hidden] { display: none; }` but bootstrap.min.css set `[hidden] { display: none !important; }` so we also need the `!important` here to be able to override the default hidden behavior on the sphinx rendered scikit-learn.org. See: https://github.com/scikit-learn/scikit-learn/issues/21755 */display: inline-block !important;position: relative;}#sk-container-id-5 div.sk-text-repr-fallback {display: none;}</style><div id=\"sk-container-id-5\" class=\"sk-top-container\"><div class=\"sk-text-repr-fallback\"><pre>SVC()</pre><b>In a Jupyter environment, please rerun this cell to show the HTML representation or trust the notebook. <br />On GitHub, the HTML representation is unable to render, please try loading this page with nbviewer.org.</b></div><div class=\"sk-container\" hidden><div class=\"sk-item\"><div class=\"sk-estimator sk-toggleable\"><input class=\"sk-toggleable__control sk-hidden--visually\" id=\"sk-estimator-id-5\" type=\"checkbox\" checked><label for=\"sk-estimator-id-5\" class=\"sk-toggleable__label sk-toggleable__label-arrow\">SVC</label><div class=\"sk-toggleable__content\"><pre>SVC()</pre></div></div></div></div></div>"
      ],
      "text/plain": [
       "SVC()"
      ]
     },
     "execution_count": 78,
     "metadata": {},
     "output_type": "execute_result"
    }
   ],
   "source": [
    "svc.fit(x_tr,y_tr)"
   ]
  },
  {
   "cell_type": "code",
   "execution_count": 79,
   "id": "2f5198b1",
   "metadata": {},
   "outputs": [],
   "source": [
    "svc_p=svc.predict(x_te)"
   ]
  },
  {
   "cell_type": "code",
   "execution_count": 80,
   "id": "43a31f37",
   "metadata": {},
   "outputs": [
    {
     "data": {
      "text/plain": [
       "array([[9572,  428],\n",
       "       [   0,    0]], dtype=int64)"
      ]
     },
     "execution_count": 80,
     "metadata": {},
     "output_type": "execute_result"
    }
   ],
   "source": [
    "svc_m=confusion_matrix(svc_p,y_te)\n",
    "svc_m"
   ]
  },
  {
   "cell_type": "code",
   "execution_count": 81,
   "id": "f9d28958",
   "metadata": {},
   "outputs": [
    {
     "data": {
      "text/plain": [
       "95.72"
      ]
     },
     "execution_count": 81,
     "metadata": {},
     "output_type": "execute_result"
    }
   ],
   "source": [
    "svc_acc=svc_m.diagonal().sum()/svc_m.sum()*100\n",
    "svc_acc"
   ]
  },
  {
   "cell_type": "code",
   "execution_count": 82,
   "id": "77690683",
   "metadata": {},
   "outputs": [
    {
     "name": "stdout",
     "output_type": "stream",
     "text": [
      "              precision    recall  f1-score   support\n",
      "\n",
      "           0       1.00      0.96      0.98     10000\n",
      "           1       0.00      0.00      0.00         0\n",
      "\n",
      "    accuracy                           0.96     10000\n",
      "   macro avg       0.50      0.48      0.49     10000\n",
      "weighted avg       1.00      0.96      0.98     10000\n",
      "\n"
     ]
    }
   ],
   "source": [
    "print(classification_report(svc_p,y_te))"
   ]
  },
  {
   "cell_type": "code",
   "execution_count": 83,
   "id": "f011f29b",
   "metadata": {},
   "outputs": [
    {
     "data": {
      "text/plain": [
       "1.0"
      ]
     },
     "execution_count": 83,
     "metadata": {},
     "output_type": "execute_result"
    }
   ],
   "source": [
    "#tpr=tp/(tp+fn)\n",
    "tpr4=9572/(9572+0)\n",
    "tpr4"
   ]
  },
  {
   "cell_type": "code",
   "execution_count": 84,
   "id": "36a05836",
   "metadata": {},
   "outputs": [
    {
     "data": {
      "text/plain": [
       "1.0"
      ]
     },
     "execution_count": 84,
     "metadata": {},
     "output_type": "execute_result"
    }
   ],
   "source": [
    "#fpr=fp/(fp+tn)\n",
    "fpr4= 428/(428+0)\n",
    "fpr4"
   ]
  },
  {
   "cell_type": "code",
   "execution_count": 85,
   "id": "fc58222f",
   "metadata": {},
   "outputs": [
    {
     "data": {
      "text/plain": [
       "0.9572"
      ]
     },
     "execution_count": 85,
     "metadata": {},
     "output_type": "execute_result"
    }
   ],
   "source": [
    "#precision=tp/(tp+fp)\n",
    "precision4=9572/(9572+ 428)\n",
    "precision4"
   ]
  },
  {
   "cell_type": "code",
   "execution_count": 87,
   "id": "afb40a2f",
   "metadata": {},
   "outputs": [
    {
     "data": {
      "text/plain": [
       "0.9781320253423258"
      ]
     },
     "execution_count": 87,
     "metadata": {},
     "output_type": "execute_result"
    }
   ],
   "source": [
    "#f1-score=2(precision*recall)/(precision+recall)\n",
    "f1score4=(2*(precision4*tpr4))/(precision4+tpr4)\n",
    "f1score4"
   ]
  },
  {
   "cell_type": "markdown",
   "id": "669227f1",
   "metadata": {},
   "source": [
    "# knn"
   ]
  },
  {
   "cell_type": "code",
   "execution_count": 88,
   "id": "e62713b3",
   "metadata": {},
   "outputs": [],
   "source": [
    "from sklearn.neighbors import KNeighborsClassifier\n",
    "knn=KNeighborsClassifier(n_neighbors=15)"
   ]
  },
  {
   "cell_type": "code",
   "execution_count": 89,
   "id": "39fa0e6f",
   "metadata": {},
   "outputs": [
    {
     "data": {
      "text/html": [
       "<style>#sk-container-id-6 {color: black;}#sk-container-id-6 pre{padding: 0;}#sk-container-id-6 div.sk-toggleable {background-color: white;}#sk-container-id-6 label.sk-toggleable__label {cursor: pointer;display: block;width: 100%;margin-bottom: 0;padding: 0.3em;box-sizing: border-box;text-align: center;}#sk-container-id-6 label.sk-toggleable__label-arrow:before {content: \"▸\";float: left;margin-right: 0.25em;color: #696969;}#sk-container-id-6 label.sk-toggleable__label-arrow:hover:before {color: black;}#sk-container-id-6 div.sk-estimator:hover label.sk-toggleable__label-arrow:before {color: black;}#sk-container-id-6 div.sk-toggleable__content {max-height: 0;max-width: 0;overflow: hidden;text-align: left;background-color: #f0f8ff;}#sk-container-id-6 div.sk-toggleable__content pre {margin: 0.2em;color: black;border-radius: 0.25em;background-color: #f0f8ff;}#sk-container-id-6 input.sk-toggleable__control:checked~div.sk-toggleable__content {max-height: 200px;max-width: 100%;overflow: auto;}#sk-container-id-6 input.sk-toggleable__control:checked~label.sk-toggleable__label-arrow:before {content: \"▾\";}#sk-container-id-6 div.sk-estimator input.sk-toggleable__control:checked~label.sk-toggleable__label {background-color: #d4ebff;}#sk-container-id-6 div.sk-label input.sk-toggleable__control:checked~label.sk-toggleable__label {background-color: #d4ebff;}#sk-container-id-6 input.sk-hidden--visually {border: 0;clip: rect(1px 1px 1px 1px);clip: rect(1px, 1px, 1px, 1px);height: 1px;margin: -1px;overflow: hidden;padding: 0;position: absolute;width: 1px;}#sk-container-id-6 div.sk-estimator {font-family: monospace;background-color: #f0f8ff;border: 1px dotted black;border-radius: 0.25em;box-sizing: border-box;margin-bottom: 0.5em;}#sk-container-id-6 div.sk-estimator:hover {background-color: #d4ebff;}#sk-container-id-6 div.sk-parallel-item::after {content: \"\";width: 100%;border-bottom: 1px solid gray;flex-grow: 1;}#sk-container-id-6 div.sk-label:hover label.sk-toggleable__label {background-color: #d4ebff;}#sk-container-id-6 div.sk-serial::before {content: \"\";position: absolute;border-left: 1px solid gray;box-sizing: border-box;top: 0;bottom: 0;left: 50%;z-index: 0;}#sk-container-id-6 div.sk-serial {display: flex;flex-direction: column;align-items: center;background-color: white;padding-right: 0.2em;padding-left: 0.2em;position: relative;}#sk-container-id-6 div.sk-item {position: relative;z-index: 1;}#sk-container-id-6 div.sk-parallel {display: flex;align-items: stretch;justify-content: center;background-color: white;position: relative;}#sk-container-id-6 div.sk-item::before, #sk-container-id-6 div.sk-parallel-item::before {content: \"\";position: absolute;border-left: 1px solid gray;box-sizing: border-box;top: 0;bottom: 0;left: 50%;z-index: -1;}#sk-container-id-6 div.sk-parallel-item {display: flex;flex-direction: column;z-index: 1;position: relative;background-color: white;}#sk-container-id-6 div.sk-parallel-item:first-child::after {align-self: flex-end;width: 50%;}#sk-container-id-6 div.sk-parallel-item:last-child::after {align-self: flex-start;width: 50%;}#sk-container-id-6 div.sk-parallel-item:only-child::after {width: 0;}#sk-container-id-6 div.sk-dashed-wrapped {border: 1px dashed gray;margin: 0 0.4em 0.5em 0.4em;box-sizing: border-box;padding-bottom: 0.4em;background-color: white;}#sk-container-id-6 div.sk-label label {font-family: monospace;font-weight: bold;display: inline-block;line-height: 1.2em;}#sk-container-id-6 div.sk-label-container {text-align: center;}#sk-container-id-6 div.sk-container {/* jupyter's `normalize.less` sets `[hidden] { display: none; }` but bootstrap.min.css set `[hidden] { display: none !important; }` so we also need the `!important` here to be able to override the default hidden behavior on the sphinx rendered scikit-learn.org. See: https://github.com/scikit-learn/scikit-learn/issues/21755 */display: inline-block !important;position: relative;}#sk-container-id-6 div.sk-text-repr-fallback {display: none;}</style><div id=\"sk-container-id-6\" class=\"sk-top-container\"><div class=\"sk-text-repr-fallback\"><pre>KNeighborsClassifier(n_neighbors=15)</pre><b>In a Jupyter environment, please rerun this cell to show the HTML representation or trust the notebook. <br />On GitHub, the HTML representation is unable to render, please try loading this page with nbviewer.org.</b></div><div class=\"sk-container\" hidden><div class=\"sk-item\"><div class=\"sk-estimator sk-toggleable\"><input class=\"sk-toggleable__control sk-hidden--visually\" id=\"sk-estimator-id-6\" type=\"checkbox\" checked><label for=\"sk-estimator-id-6\" class=\"sk-toggleable__label sk-toggleable__label-arrow\">KNeighborsClassifier</label><div class=\"sk-toggleable__content\"><pre>KNeighborsClassifier(n_neighbors=15)</pre></div></div></div></div></div>"
      ],
      "text/plain": [
       "KNeighborsClassifier(n_neighbors=15)"
      ]
     },
     "execution_count": 89,
     "metadata": {},
     "output_type": "execute_result"
    }
   ],
   "source": [
    "knn.fit(x_tr,y_tr)"
   ]
  },
  {
   "cell_type": "code",
   "execution_count": 90,
   "id": "58a94ad6",
   "metadata": {},
   "outputs": [],
   "source": [
    "knn_p=knn.predict(x_te)"
   ]
  },
  {
   "cell_type": "code",
   "execution_count": 91,
   "id": "7fc1434e",
   "metadata": {},
   "outputs": [
    {
     "data": {
      "text/plain": [
       "array([[9571,  425],\n",
       "       [   1,    3]], dtype=int64)"
      ]
     },
     "execution_count": 91,
     "metadata": {},
     "output_type": "execute_result"
    }
   ],
   "source": [
    "knn_m=confusion_matrix(knn_p,y_te)\n",
    "knn_m"
   ]
  },
  {
   "cell_type": "code",
   "execution_count": 92,
   "id": "8cfbef5f",
   "metadata": {},
   "outputs": [
    {
     "data": {
      "text/plain": [
       "95.74000000000001"
      ]
     },
     "execution_count": 92,
     "metadata": {},
     "output_type": "execute_result"
    }
   ],
   "source": [
    "knn_acc=knn_m.diagonal().sum()/knn_m.sum()*100\n",
    "knn_acc"
   ]
  },
  {
   "cell_type": "code",
   "execution_count": 93,
   "id": "d2ecd117",
   "metadata": {},
   "outputs": [
    {
     "name": "stdout",
     "output_type": "stream",
     "text": [
      "              precision    recall  f1-score   support\n",
      "\n",
      "           0       1.00      0.96      0.98      9996\n",
      "           1       0.01      0.75      0.01         4\n",
      "\n",
      "    accuracy                           0.96     10000\n",
      "   macro avg       0.50      0.85      0.50     10000\n",
      "weighted avg       1.00      0.96      0.98     10000\n",
      "\n"
     ]
    }
   ],
   "source": [
    "print(classification_report(knn_p,y_te))"
   ]
  },
  {
   "cell_type": "code",
   "execution_count": 94,
   "id": "9172d2ef",
   "metadata": {},
   "outputs": [
    {
     "data": {
      "text/plain": [
       "0.9998955286251567"
      ]
     },
     "execution_count": 94,
     "metadata": {},
     "output_type": "execute_result"
    }
   ],
   "source": [
    "#tpr=tp/(tp+fn)\n",
    "tpr5=9571/(9571+1)\n",
    "tpr5"
   ]
  },
  {
   "cell_type": "code",
   "execution_count": 95,
   "id": "c932057f",
   "metadata": {},
   "outputs": [
    {
     "data": {
      "text/plain": [
       "0.9929906542056075"
      ]
     },
     "execution_count": 95,
     "metadata": {},
     "output_type": "execute_result"
    }
   ],
   "source": [
    "#fpr=fp/(fp+tn)\n",
    "fpr5= 425/(425+3)\n",
    "fpr5"
   ]
  },
  {
   "cell_type": "code",
   "execution_count": 96,
   "id": "2591a45a",
   "metadata": {},
   "outputs": [
    {
     "data": {
      "text/plain": [
       "0.9574829931972789"
      ]
     },
     "execution_count": 96,
     "metadata": {},
     "output_type": "execute_result"
    }
   ],
   "source": [
    "#precision=tp/(tp+fp)\n",
    "precision5=9571/(9571+425)\n",
    "precision5"
   ]
  },
  {
   "cell_type": "code",
   "execution_count": 97,
   "id": "0d8e5737",
   "metadata": {},
   "outputs": [
    {
     "data": {
      "text/plain": [
       "0.9782297628781684"
      ]
     },
     "execution_count": 97,
     "metadata": {},
     "output_type": "execute_result"
    }
   ],
   "source": [
    "#f1-score=2(precision*recall)/(precision+recall)\n",
    "f1score5=(2*(precision5*tpr5))/(precision5+tpr5)\n",
    "f1score5"
   ]
  },
  {
   "cell_type": "markdown",
   "id": "5800cf84",
   "metadata": {},
   "source": [
    "# AdaBoost"
   ]
  },
  {
   "cell_type": "code",
   "execution_count": 98,
   "id": "9cc62e9e",
   "metadata": {},
   "outputs": [],
   "source": [
    "from sklearn.ensemble import AdaBoostClassifier\n",
    "from sklearn.tree import DecisionTreeClassifier"
   ]
  },
  {
   "cell_type": "code",
   "execution_count": 99,
   "id": "75e9d01d",
   "metadata": {},
   "outputs": [],
   "source": [
    "adbo=AdaBoostClassifier(DecisionTreeClassifier(),n_estimators=5)"
   ]
  },
  {
   "cell_type": "code",
   "execution_count": 100,
   "id": "5a07f02c",
   "metadata": {},
   "outputs": [
    {
     "data": {
      "text/html": [
       "<style>#sk-container-id-7 {color: black;}#sk-container-id-7 pre{padding: 0;}#sk-container-id-7 div.sk-toggleable {background-color: white;}#sk-container-id-7 label.sk-toggleable__label {cursor: pointer;display: block;width: 100%;margin-bottom: 0;padding: 0.3em;box-sizing: border-box;text-align: center;}#sk-container-id-7 label.sk-toggleable__label-arrow:before {content: \"▸\";float: left;margin-right: 0.25em;color: #696969;}#sk-container-id-7 label.sk-toggleable__label-arrow:hover:before {color: black;}#sk-container-id-7 div.sk-estimator:hover label.sk-toggleable__label-arrow:before {color: black;}#sk-container-id-7 div.sk-toggleable__content {max-height: 0;max-width: 0;overflow: hidden;text-align: left;background-color: #f0f8ff;}#sk-container-id-7 div.sk-toggleable__content pre {margin: 0.2em;color: black;border-radius: 0.25em;background-color: #f0f8ff;}#sk-container-id-7 input.sk-toggleable__control:checked~div.sk-toggleable__content {max-height: 200px;max-width: 100%;overflow: auto;}#sk-container-id-7 input.sk-toggleable__control:checked~label.sk-toggleable__label-arrow:before {content: \"▾\";}#sk-container-id-7 div.sk-estimator input.sk-toggleable__control:checked~label.sk-toggleable__label {background-color: #d4ebff;}#sk-container-id-7 div.sk-label input.sk-toggleable__control:checked~label.sk-toggleable__label {background-color: #d4ebff;}#sk-container-id-7 input.sk-hidden--visually {border: 0;clip: rect(1px 1px 1px 1px);clip: rect(1px, 1px, 1px, 1px);height: 1px;margin: -1px;overflow: hidden;padding: 0;position: absolute;width: 1px;}#sk-container-id-7 div.sk-estimator {font-family: monospace;background-color: #f0f8ff;border: 1px dotted black;border-radius: 0.25em;box-sizing: border-box;margin-bottom: 0.5em;}#sk-container-id-7 div.sk-estimator:hover {background-color: #d4ebff;}#sk-container-id-7 div.sk-parallel-item::after {content: \"\";width: 100%;border-bottom: 1px solid gray;flex-grow: 1;}#sk-container-id-7 div.sk-label:hover label.sk-toggleable__label {background-color: #d4ebff;}#sk-container-id-7 div.sk-serial::before {content: \"\";position: absolute;border-left: 1px solid gray;box-sizing: border-box;top: 0;bottom: 0;left: 50%;z-index: 0;}#sk-container-id-7 div.sk-serial {display: flex;flex-direction: column;align-items: center;background-color: white;padding-right: 0.2em;padding-left: 0.2em;position: relative;}#sk-container-id-7 div.sk-item {position: relative;z-index: 1;}#sk-container-id-7 div.sk-parallel {display: flex;align-items: stretch;justify-content: center;background-color: white;position: relative;}#sk-container-id-7 div.sk-item::before, #sk-container-id-7 div.sk-parallel-item::before {content: \"\";position: absolute;border-left: 1px solid gray;box-sizing: border-box;top: 0;bottom: 0;left: 50%;z-index: -1;}#sk-container-id-7 div.sk-parallel-item {display: flex;flex-direction: column;z-index: 1;position: relative;background-color: white;}#sk-container-id-7 div.sk-parallel-item:first-child::after {align-self: flex-end;width: 50%;}#sk-container-id-7 div.sk-parallel-item:last-child::after {align-self: flex-start;width: 50%;}#sk-container-id-7 div.sk-parallel-item:only-child::after {width: 0;}#sk-container-id-7 div.sk-dashed-wrapped {border: 1px dashed gray;margin: 0 0.4em 0.5em 0.4em;box-sizing: border-box;padding-bottom: 0.4em;background-color: white;}#sk-container-id-7 div.sk-label label {font-family: monospace;font-weight: bold;display: inline-block;line-height: 1.2em;}#sk-container-id-7 div.sk-label-container {text-align: center;}#sk-container-id-7 div.sk-container {/* jupyter's `normalize.less` sets `[hidden] { display: none; }` but bootstrap.min.css set `[hidden] { display: none !important; }` so we also need the `!important` here to be able to override the default hidden behavior on the sphinx rendered scikit-learn.org. See: https://github.com/scikit-learn/scikit-learn/issues/21755 */display: inline-block !important;position: relative;}#sk-container-id-7 div.sk-text-repr-fallback {display: none;}</style><div id=\"sk-container-id-7\" class=\"sk-top-container\"><div class=\"sk-text-repr-fallback\"><pre>AdaBoostClassifier(estimator=DecisionTreeClassifier(), n_estimators=5)</pre><b>In a Jupyter environment, please rerun this cell to show the HTML representation or trust the notebook. <br />On GitHub, the HTML representation is unable to render, please try loading this page with nbviewer.org.</b></div><div class=\"sk-container\" hidden><div class=\"sk-item sk-dashed-wrapped\"><div class=\"sk-label-container\"><div class=\"sk-label sk-toggleable\"><input class=\"sk-toggleable__control sk-hidden--visually\" id=\"sk-estimator-id-7\" type=\"checkbox\" ><label for=\"sk-estimator-id-7\" class=\"sk-toggleable__label sk-toggleable__label-arrow\">AdaBoostClassifier</label><div class=\"sk-toggleable__content\"><pre>AdaBoostClassifier(estimator=DecisionTreeClassifier(), n_estimators=5)</pre></div></div></div><div class=\"sk-parallel\"><div class=\"sk-parallel-item\"><div class=\"sk-item\"><div class=\"sk-label-container\"><div class=\"sk-label sk-toggleable\"><input class=\"sk-toggleable__control sk-hidden--visually\" id=\"sk-estimator-id-8\" type=\"checkbox\" ><label for=\"sk-estimator-id-8\" class=\"sk-toggleable__label sk-toggleable__label-arrow\">estimator: DecisionTreeClassifier</label><div class=\"sk-toggleable__content\"><pre>DecisionTreeClassifier()</pre></div></div></div><div class=\"sk-serial\"><div class=\"sk-item\"><div class=\"sk-estimator sk-toggleable\"><input class=\"sk-toggleable__control sk-hidden--visually\" id=\"sk-estimator-id-9\" type=\"checkbox\" ><label for=\"sk-estimator-id-9\" class=\"sk-toggleable__label sk-toggleable__label-arrow\">DecisionTreeClassifier</label><div class=\"sk-toggleable__content\"><pre>DecisionTreeClassifier()</pre></div></div></div></div></div></div></div></div></div></div>"
      ],
      "text/plain": [
       "AdaBoostClassifier(estimator=DecisionTreeClassifier(), n_estimators=5)"
      ]
     },
     "execution_count": 100,
     "metadata": {},
     "output_type": "execute_result"
    }
   ],
   "source": [
    "adbo.fit(x_tr,y_tr)"
   ]
  },
  {
   "cell_type": "code",
   "execution_count": 101,
   "id": "f17ea7b8",
   "metadata": {},
   "outputs": [],
   "source": [
    "adbo_p=adbo.predict(x_te)"
   ]
  },
  {
   "cell_type": "code",
   "execution_count": 102,
   "id": "2bab088e",
   "metadata": {},
   "outputs": [
    {
     "data": {
      "text/plain": [
       "array([[9565,    4],\n",
       "       [   7,  424]], dtype=int64)"
      ]
     },
     "execution_count": 102,
     "metadata": {},
     "output_type": "execute_result"
    }
   ],
   "source": [
    "adboo_m=confusion_matrix(adbo_p,y_te)\n",
    "adboo_m"
   ]
  },
  {
   "cell_type": "code",
   "execution_count": 103,
   "id": "0c36b45e",
   "metadata": {},
   "outputs": [
    {
     "data": {
      "text/plain": [
       "99.89"
      ]
     },
     "execution_count": 103,
     "metadata": {},
     "output_type": "execute_result"
    }
   ],
   "source": [
    "adbo_acc=adboo_m.diagonal().sum()/adboo_m.sum()*100\n",
    "adbo_acc"
   ]
  },
  {
   "cell_type": "code",
   "execution_count": 104,
   "id": "b2d0366c",
   "metadata": {},
   "outputs": [
    {
     "name": "stdout",
     "output_type": "stream",
     "text": [
      "              precision    recall  f1-score   support\n",
      "\n",
      "           0       1.00      1.00      1.00      9569\n",
      "           1       0.99      0.98      0.99       431\n",
      "\n",
      "    accuracy                           1.00     10000\n",
      "   macro avg       0.99      0.99      0.99     10000\n",
      "weighted avg       1.00      1.00      1.00     10000\n",
      "\n"
     ]
    }
   ],
   "source": [
    "print(classification_report(adbo_p,y_te))"
   ]
  },
  {
   "cell_type": "code",
   "execution_count": 105,
   "id": "6d169ce4",
   "metadata": {},
   "outputs": [
    {
     "data": {
      "text/plain": [
       "0.9992687003760969"
      ]
     },
     "execution_count": 105,
     "metadata": {},
     "output_type": "execute_result"
    }
   ],
   "source": [
    "#tpr=tp/(tp+fn)\n",
    "tpr6=9565/(9565+7)\n",
    "tpr6"
   ]
  },
  {
   "cell_type": "code",
   "execution_count": 106,
   "id": "e5877bb0",
   "metadata": {},
   "outputs": [
    {
     "data": {
      "text/plain": [
       "0.009345794392523364"
      ]
     },
     "execution_count": 106,
     "metadata": {},
     "output_type": "execute_result"
    }
   ],
   "source": [
    "#fpr=fp/(fp+tn)\n",
    "fpr6= 4/(4+ 424)\n",
    "fpr6"
   ]
  },
  {
   "cell_type": "code",
   "execution_count": 107,
   "id": "9799647c",
   "metadata": {},
   "outputs": [
    {
     "data": {
      "text/plain": [
       "0.9995819834883478"
      ]
     },
     "execution_count": 107,
     "metadata": {},
     "output_type": "execute_result"
    }
   ],
   "source": [
    "#precision=tp/(tp+fp)\n",
    "precision6=9565/(9565+4)\n",
    "precision6"
   ]
  },
  {
   "cell_type": "code",
   "execution_count": 108,
   "id": "202d5ee1",
   "metadata": {},
   "outputs": [
    {
     "data": {
      "text/plain": [
       "0.9994253173815371"
      ]
     },
     "execution_count": 108,
     "metadata": {},
     "output_type": "execute_result"
    }
   ],
   "source": [
    "#f1-score=2(precision*recall)/(precision+recall)\n",
    "f1score6=(2*(precision6*tpr6))/(precision6+tpr6)\n",
    "f1score6"
   ]
  },
  {
   "cell_type": "code",
   "execution_count": 122,
   "id": "0dceec39",
   "metadata": {},
   "outputs": [],
   "source": [
    "#AUC-ROC Curve\n",
    "from sklearn.metrics import roc_auc_score\n",
    "from sklearn.metrics import roc_curve"
   ]
  },
  {
   "cell_type": "code",
   "execution_count": 123,
   "id": "32f501eb",
   "metadata": {},
   "outputs": [],
   "source": [
    "fpr6,tpr6,threshold6=roc_curve(y_te,adbo_p)"
   ]
  },
  {
   "cell_type": "code",
   "execution_count": 125,
   "id": "2dd8f8b5",
   "metadata": {},
   "outputs": [
    {
     "data": {
      "text/plain": [
       "[<matplotlib.lines.Line2D at 0x142264b3490>]"
      ]
     },
     "execution_count": 125,
     "metadata": {},
     "output_type": "execute_result"
    },
    {
     "data": {
      "image/png": "[encoded data removed]",
      "text/plain": [
       "<Figure size 640x480 with 1 Axes>"
      ]
     },
     "metadata": {},
     "output_type": "display_data"
    }
   ],
   "source": [
    "plt.title(\"AUC-ROC Curve\")\n",
    "plt.xlabel(\"FPR\")\n",
    "plt.ylabel(\"TPR\")\n",
    "plt.plot(fpr6,tpr6)"
   ]
  },
  {
   "cell_type": "markdown",
   "id": "ccd20237",
   "metadata": {},
   "source": [
    "# XG Boost"
   ]
  },
  {
   "cell_type": "code",
   "execution_count": 109,
   "id": "5b1daa2e",
   "metadata": {},
   "outputs": [],
   "source": [
    "from xgboost import XGBClassifier\n",
    "xgb=XGBClassifier()"
   ]
  },
  {
   "cell_type": "code",
   "execution_count": 110,
   "id": "13b26361",
   "metadata": {},
   "outputs": [
    {
     "data": {
      "text/html": [
       "<style>#sk-container-id-8 {color: black;}#sk-container-id-8 pre{padding: 0;}#sk-container-id-8 div.sk-toggleable {background-color: white;}#sk-container-id-8 label.sk-toggleable__label {cursor: pointer;display: block;width: 100%;margin-bottom: 0;padding: 0.3em;box-sizing: border-box;text-align: center;}#sk-container-id-8 label.sk-toggleable__label-arrow:before {content: \"▸\";float: left;margin-right: 0.25em;color: #696969;}#sk-container-id-8 label.sk-toggleable__label-arrow:hover:before {color: black;}#sk-container-id-8 div.sk-estimator:hover label.sk-toggleable__label-arrow:before {color: black;}#sk-container-id-8 div.sk-toggleable__content {max-height: 0;max-width: 0;overflow: hidden;text-align: left;background-color: #f0f8ff;}#sk-container-id-8 div.sk-toggleable__content pre {margin: 0.2em;color: black;border-radius: 0.25em;background-color: #f0f8ff;}#sk-container-id-8 input.sk-toggleable__control:checked~div.sk-toggleable__content {max-height: 200px;max-width: 100%;overflow: auto;}#sk-container-id-8 input.sk-toggleable__control:checked~label.sk-toggleable__label-arrow:before {content: \"▾\";}#sk-container-id-8 div.sk-estimator input.sk-toggleable__control:checked~label.sk-toggleable__label {background-color: #d4ebff;}#sk-container-id-8 div.sk-label input.sk-toggleable__control:checked~label.sk-toggleable__label {background-color: #d4ebff;}#sk-container-id-8 input.sk-hidden--visually {border: 0;clip: rect(1px 1px 1px 1px);clip: rect(1px, 1px, 1px, 1px);height: 1px;margin: -1px;overflow: hidden;padding: 0;position: absolute;width: 1px;}#sk-container-id-8 div.sk-estimator {font-family: monospace;background-color: #f0f8ff;border: 1px dotted black;border-radius: 0.25em;box-sizing: border-box;margin-bottom: 0.5em;}#sk-container-id-8 div.sk-estimator:hover {background-color: #d4ebff;}#sk-container-id-8 div.sk-parallel-item::after {content: \"\";width: 100%;border-bottom: 1px solid gray;flex-grow: 1;}#sk-container-id-8 div.sk-label:hover label.sk-toggleable__label {background-color: #d4ebff;}#sk-container-id-8 div.sk-serial::before {content: \"\";position: absolute;border-left: 1px solid gray;box-sizing: border-box;top: 0;bottom: 0;left: 50%;z-index: 0;}#sk-container-id-8 div.sk-serial {display: flex;flex-direction: column;align-items: center;background-color: white;padding-right: 0.2em;padding-left: 0.2em;position: relative;}#sk-container-id-8 div.sk-item {position: relative;z-index: 1;}#sk-container-id-8 div.sk-parallel {display: flex;align-items: stretch;justify-content: center;background-color: white;position: relative;}#sk-container-id-8 div.sk-item::before, #sk-container-id-8 div.sk-parallel-item::before {content: \"\";position: absolute;border-left: 1px solid gray;box-sizing: border-box;top: 0;bottom: 0;left: 50%;z-index: -1;}#sk-container-id-8 div.sk-parallel-item {display: flex;flex-direction: column;z-index: 1;position: relative;background-color: white;}#sk-container-id-8 div.sk-parallel-item:first-child::after {align-self: flex-end;width: 50%;}#sk-container-id-8 div.sk-parallel-item:last-child::after {align-self: flex-start;width: 50%;}#sk-container-id-8 div.sk-parallel-item:only-child::after {width: 0;}#sk-container-id-8 div.sk-dashed-wrapped {border: 1px dashed gray;margin: 0 0.4em 0.5em 0.4em;box-sizing: border-box;padding-bottom: 0.4em;background-color: white;}#sk-container-id-8 div.sk-label label {font-family: monospace;font-weight: bold;display: inline-block;line-height: 1.2em;}#sk-container-id-8 div.sk-label-container {text-align: center;}#sk-container-id-8 div.sk-container {/* jupyter's `normalize.less` sets `[hidden] { display: none; }` but bootstrap.min.css set `[hidden] { display: none !important; }` so we also need the `!important` here to be able to override the default hidden behavior on the sphinx rendered scikit-learn.org. See: https://github.com/scikit-learn/scikit-learn/issues/21755 */display: inline-block !important;position: relative;}#sk-container-id-8 div.sk-text-repr-fallback {display: none;}</style><div id=\"sk-container-id-8\" class=\"sk-top-container\"><div class=\"sk-text-repr-fallback\"><pre>XGBClassifier(base_score=None, booster=None, callbacks=None,\n",
       "              colsample_bylevel=None, colsample_bynode=None,\n",
       "              colsample_bytree=None, device=None, early_stopping_rounds=None,\n",
       "              enable_categorical=False, eval_metric=None, feature_types=None,\n",
       "              gamma=None, grow_policy=None, importance_type=None,\n",
       "              interaction_constraints=None, learning_rate=None, max_bin=None,\n",
       "              max_cat_threshold=None, max_cat_to_onehot=None,\n",
       "              max_delta_step=None, max_depth=None, max_leaves=None,\n",
       "              min_child_weight=None, missing=nan, monotone_constraints=None,\n",
       "              multi_strategy=None, n_estimators=None, n_jobs=None,\n",
       "              num_parallel_tree=None, random_state=None, ...)</pre><b>In a Jupyter environment, please rerun this cell to show the HTML representation or trust the notebook. <br />On GitHub, the HTML representation is unable to render, please try loading this page with nbviewer.org.</b></div><div class=\"sk-container\" hidden><div class=\"sk-item\"><div class=\"sk-estimator sk-toggleable\"><input class=\"sk-toggleable__control sk-hidden--visually\" id=\"sk-estimator-id-10\" type=\"checkbox\" checked><label for=\"sk-estimator-id-10\" class=\"sk-toggleable__label sk-toggleable__label-arrow\">XGBClassifier</label><div class=\"sk-toggleable__content\"><pre>XGBClassifier(base_score=None, booster=None, callbacks=None,\n",
       "              colsample_bylevel=None, colsample_bynode=None,\n",
       "              colsample_bytree=None, device=None, early_stopping_rounds=None,\n",
       "              enable_categorical=False, eval_metric=None, feature_types=None,\n",
       "              gamma=None, grow_policy=None, importance_type=None,\n",
       "              interaction_constraints=None, learning_rate=None, max_bin=None,\n",
       "              max_cat_threshold=None, max_cat_to_onehot=None,\n",
       "              max_delta_step=None, max_depth=None, max_leaves=None,\n",
       "              min_child_weight=None, missing=nan, monotone_constraints=None,\n",
       "              multi_strategy=None, n_estimators=None, n_jobs=None,\n",
       "              num_parallel_tree=None, random_state=None, ...)</pre></div></div></div></div></div>"
      ],
      "text/plain": [
       "XGBClassifier(base_score=None, booster=None, callbacks=None,\n",
       "              colsample_bylevel=None, colsample_bynode=None,\n",
       "              colsample_bytree=None, device=None, early_stopping_rounds=None,\n",
       "              enable_categorical=False, eval_metric=None, feature_types=None,\n",
       "              gamma=None, grow_policy=None, importance_type=None,\n",
       "              interaction_constraints=None, learning_rate=None, max_bin=None,\n",
       "              max_cat_threshold=None, max_cat_to_onehot=None,\n",
       "              max_delta_step=None, max_depth=None, max_leaves=None,\n",
       "              min_child_weight=None, missing=nan, monotone_constraints=None,\n",
       "              multi_strategy=None, n_estimators=None, n_jobs=None,\n",
       "              num_parallel_tree=None, random_state=None, ...)"
      ]
     },
     "execution_count": 110,
     "metadata": {},
     "output_type": "execute_result"
    }
   ],
   "source": [
    "xgb.fit(x_tr,y_tr)"
   ]
  },
  {
   "cell_type": "code",
   "execution_count": 111,
   "id": "88b156ab",
   "metadata": {},
   "outputs": [],
   "source": [
    "xgb_p=xgb.predict(x_te)"
   ]
  },
  {
   "cell_type": "code",
   "execution_count": 112,
   "id": "60fcb5b7",
   "metadata": {},
   "outputs": [
    {
     "data": {
      "text/plain": [
       "array([[9572,    0],\n",
       "       [   0,  428]], dtype=int64)"
      ]
     },
     "execution_count": 112,
     "metadata": {},
     "output_type": "execute_result"
    }
   ],
   "source": [
    "xgb_m=confusion_matrix(xgb_p,y_te)\n",
    "xgb_m"
   ]
  },
  {
   "cell_type": "code",
   "execution_count": 113,
   "id": "7264ebba",
   "metadata": {},
   "outputs": [
    {
     "data": {
      "text/plain": [
       "100.0"
      ]
     },
     "execution_count": 113,
     "metadata": {},
     "output_type": "execute_result"
    }
   ],
   "source": [
    "xgb_acc=xgb_m.diagonal().sum()/xgb_m.sum()*100\n",
    "xgb_acc"
   ]
  },
  {
   "cell_type": "code",
   "execution_count": 114,
   "id": "7ecf6bdc",
   "metadata": {},
   "outputs": [
    {
     "name": "stdout",
     "output_type": "stream",
     "text": [
      "              precision    recall  f1-score   support\n",
      "\n",
      "           0       1.00      1.00      1.00      9572\n",
      "           1       1.00      1.00      1.00       428\n",
      "\n",
      "    accuracy                           1.00     10000\n",
      "   macro avg       1.00      1.00      1.00     10000\n",
      "weighted avg       1.00      1.00      1.00     10000\n",
      "\n"
     ]
    }
   ],
   "source": [
    "print(classification_report(xgb_p,y_te))"
   ]
  },
  {
   "cell_type": "code",
   "execution_count": 115,
   "id": "11575a13",
   "metadata": {},
   "outputs": [
    {
     "data": {
      "text/plain": [
       "1.0"
      ]
     },
     "execution_count": 115,
     "metadata": {},
     "output_type": "execute_result"
    }
   ],
   "source": [
    "#tpr=tp/(tp+fn)\n",
    "tpr7=9572/(9572+0)\n",
    "tpr7"
   ]
  },
  {
   "cell_type": "code",
   "execution_count": 116,
   "id": "9432e187",
   "metadata": {},
   "outputs": [
    {
     "data": {
      "text/plain": [
       "0.0"
      ]
     },
     "execution_count": 116,
     "metadata": {},
     "output_type": "execute_result"
    }
   ],
   "source": [
    "#fpr=fp/(fp+tn)\n",
    "fpr7= 0/(0+ 428)\n",
    "fpr7"
   ]
  },
  {
   "cell_type": "code",
   "execution_count": 117,
   "id": "767adb8b",
   "metadata": {},
   "outputs": [
    {
     "data": {
      "text/plain": [
       "1.0"
      ]
     },
     "execution_count": 117,
     "metadata": {},
     "output_type": "execute_result"
    }
   ],
   "source": [
    "#precision=tp/(tp+fp)\n",
    "precision7=9572/(9572+0)\n",
    "precision7"
   ]
  },
  {
   "cell_type": "code",
   "execution_count": 118,
   "id": "3f3904e8",
   "metadata": {},
   "outputs": [
    {
     "data": {
      "text/plain": [
       "1.0"
      ]
     },
     "execution_count": 118,
     "metadata": {},
     "output_type": "execute_result"
    }
   ],
   "source": [
    "#f1-score=2(precision*recall)/(precision+recall)\n",
    "f1score7=(2*(precision7*tpr7))/(precision7+tpr7)\n",
    "f1score7"
   ]
  },
  {
   "cell_type": "code",
   "execution_count": 119,
   "id": "555b7bd5",
   "metadata": {},
   "outputs": [],
   "source": [
    "#df -1\n",
    "l1=[\"log\",\"dt\",\"rf\",\"nb\",\"svc\",\"knn\",\"adaboost\",\"xgboost\"]\n",
    "l2=[lg_acc,dt_acc,rf_acc,nb_acc,svc_acc,knn_acc,adbo_acc,xgb_acc]\n",
    "l3=[fpr,fpr1,fpr2,fpr3,fpr4,fpr5,fpr6,fpr7]\n",
    "l4=[tpr,tpr1,tpr2,tpr3,tpr4,tpr5,tpr6,tpr7]\n",
    "l5=[f1score,f1score1,f1score3,f1score3,f1score4,f1score5,f1score6,f1score7]"
   ]
  },
  {
   "cell_type": "code",
   "execution_count": 120,
   "id": "455ab4f5",
   "metadata": {},
   "outputs": [
    {
     "data": {
      "text/html": [
       "<div>\n",
       "<style scoped>\n",
       "    .dataframe tbody tr th:only-of-type {\n",
       "        vertical-align: middle;\n",
       "    }\n",
       "\n",
       "    .dataframe tbody tr th {\n",
       "        vertical-align: top;\n",
       "    }\n",
       "\n",
       "    .dataframe thead th {\n",
       "        text-align: right;\n",
       "    }\n",
       "</style>\n",
       "<table border=\"1\" class=\"dataframe\">\n",
       "  <thead>\n",
       "    <tr style=\"text-align: right;\">\n",
       "      <th></th>\n",
       "      <th>Model_Name</th>\n",
       "      <th>accuracy</th>\n",
       "      <th>fpr</th>\n",
       "      <th>tpr</th>\n",
       "      <th>f1score</th>\n",
       "    </tr>\n",
       "  </thead>\n",
       "  <tbody>\n",
       "    <tr>\n",
       "      <th>0</th>\n",
       "      <td>log</td>\n",
       "      <td>96.68</td>\n",
       "      <td>0.633178</td>\n",
       "      <td>0.993627</td>\n",
       "      <td>0.988669</td>\n",
       "    </tr>\n",
       "    <tr>\n",
       "      <th>1</th>\n",
       "      <td>dt</td>\n",
       "      <td>99.89</td>\n",
       "      <td>0.009346</td>\n",
       "      <td>0.999269</td>\n",
       "      <td>0.993783</td>\n",
       "    </tr>\n",
       "    <tr>\n",
       "      <th>2</th>\n",
       "      <td>rf</td>\n",
       "      <td>99.48</td>\n",
       "      <td>0.121495</td>\n",
       "      <td>1.000000</td>\n",
       "      <td>0.978132</td>\n",
       "    </tr>\n",
       "    <tr>\n",
       "      <th>3</th>\n",
       "      <td>nb</td>\n",
       "      <td>95.72</td>\n",
       "      <td>1.000000</td>\n",
       "      <td>1.000000</td>\n",
       "      <td>0.978132</td>\n",
       "    </tr>\n",
       "    <tr>\n",
       "      <th>4</th>\n",
       "      <td>svc</td>\n",
       "      <td>95.72</td>\n",
       "      <td>1.000000</td>\n",
       "      <td>1.000000</td>\n",
       "      <td>0.978132</td>\n",
       "    </tr>\n",
       "    <tr>\n",
       "      <th>5</th>\n",
       "      <td>knn</td>\n",
       "      <td>95.74</td>\n",
       "      <td>0.992991</td>\n",
       "      <td>0.999896</td>\n",
       "      <td>0.978230</td>\n",
       "    </tr>\n",
       "    <tr>\n",
       "      <th>6</th>\n",
       "      <td>adaboost</td>\n",
       "      <td>99.89</td>\n",
       "      <td>0.009346</td>\n",
       "      <td>0.999269</td>\n",
       "      <td>0.999425</td>\n",
       "    </tr>\n",
       "    <tr>\n",
       "      <th>7</th>\n",
       "      <td>xgboost</td>\n",
       "      <td>100.00</td>\n",
       "      <td>0.000000</td>\n",
       "      <td>1.000000</td>\n",
       "      <td>1.000000</td>\n",
       "    </tr>\n",
       "  </tbody>\n",
       "</table>\n",
       "</div>"
      ],
      "text/plain": [
       "  Model_Name  accuracy       fpr       tpr   f1score\n",
       "0        log     96.68  0.633178  0.993627  0.988669\n",
       "1         dt     99.89  0.009346  0.999269  0.993783\n",
       "2         rf     99.48  0.121495  1.000000  0.978132\n",
       "3         nb     95.72  1.000000  1.000000  0.978132\n",
       "4        svc     95.72  1.000000  1.000000  0.978132\n",
       "5        knn     95.74  0.992991  0.999896  0.978230\n",
       "6   adaboost     99.89  0.009346  0.999269  0.999425\n",
       "7    xgboost    100.00  0.000000  1.000000  1.000000"
      ]
     },
     "execution_count": 120,
     "metadata": {},
     "output_type": "execute_result"
    }
   ],
   "source": [
    "final=pd.DataFrame({\"Model_Name\":l1,\"accuracy\":l2,\"fpr\":l3,\"tpr\":l4,\"f1score\":l5})\n",
    "final"
   ]
  },
  {
   "cell_type": "raw",
   "id": "74a7deb2",
   "metadata": {},
   "source": [
    "#For this model ada boost is best fitted model it having (99.89%) accuracy and (0.99) f1 score and (0.99) tpr and fpr is low(0.009)  "
   ]
  },
  {
   "cell_type": "markdown",
   "id": "369e000d",
   "metadata": {},
   "source": [
    "# class imbalance"
   ]
  },
  {
   "cell_type": "code",
   "execution_count": 126,
   "id": "ee3026d9",
   "metadata": {},
   "outputs": [
    {
     "data": {
      "text/plain": [
       "(47878, 2122)"
      ]
     },
     "execution_count": 126,
     "metadata": {},
     "output_type": "execute_result"
    }
   ],
   "source": [
    "#Random undersampling\n",
    "c_0,c_1=data[\"Panic_Disorder_Diagnosis\"].value_counts()\n",
    "c_0,c_1"
   ]
  },
  {
   "cell_type": "code",
   "execution_count": 127,
   "id": "0630af1a",
   "metadata": {},
   "outputs": [],
   "source": [
    "train_0=data[data[\"Panic_Disorder_Diagnosis\"]==0]\n",
    "train_1=data[data[\"Panic_Disorder_Diagnosis\"]==1]"
   ]
  },
  {
   "cell_type": "code",
   "execution_count": 128,
   "id": "eadbbde8",
   "metadata": {},
   "outputs": [
    {
     "data": {
      "text/plain": [
       "((47878, 16), (2122, 16))"
      ]
     },
     "execution_count": 128,
     "metadata": {},
     "output_type": "execute_result"
    }
   ],
   "source": [
    "train_0.shape,train_1.shape"
   ]
  },
  {
   "cell_type": "code",
   "execution_count": 129,
   "id": "35a5efb9",
   "metadata": {},
   "outputs": [],
   "source": [
    "train_0under=train_0.sample(c_1,replace=True)"
   ]
  },
  {
   "cell_type": "code",
   "execution_count": 130,
   "id": "05d31934",
   "metadata": {},
   "outputs": [
    {
     "data": {
      "text/plain": [
       "(2122, 16)"
      ]
     },
     "execution_count": 130,
     "metadata": {},
     "output_type": "execute_result"
    }
   ],
   "source": [
    "train_0under.shape"
   ]
  },
  {
   "cell_type": "code",
   "execution_count": 131,
   "id": "847412cc",
   "metadata": {},
   "outputs": [],
   "source": [
    "class_1=pd.concat([train_0under,train_1],axis=0)"
   ]
  },
  {
   "cell_type": "code",
   "execution_count": 132,
   "id": "fd5a75cc",
   "metadata": {},
   "outputs": [
    {
     "data": {
      "text/plain": [
       "(4244, 16)"
      ]
     },
     "execution_count": 132,
     "metadata": {},
     "output_type": "execute_result"
    }
   ],
   "source": [
    "class_1.shape"
   ]
  },
  {
   "cell_type": "code",
   "execution_count": 133,
   "id": "2da0a47c",
   "metadata": {},
   "outputs": [
    {
     "data": {
      "text/plain": [
       "Panic_Disorder_Diagnosis\n",
       "0    2122\n",
       "1    2122\n",
       "Name: count, dtype: int64"
      ]
     },
     "execution_count": 133,
     "metadata": {},
     "output_type": "execute_result"
    }
   ],
   "source": [
    "class_1.Panic_Disorder_Diagnosis.value_counts()"
   ]
  },
  {
   "cell_type": "markdown",
   "id": "51b689ec",
   "metadata": {},
   "source": [
    "# Outlier"
   ]
  },
  {
   "cell_type": "code",
   "execution_count": 134,
   "id": "62e970aa",
   "metadata": {},
   "outputs": [
    {
     "data": {
      "text/plain": [
       "<Axes: >"
      ]
     },
     "execution_count": 134,
     "metadata": {},
     "output_type": "execute_result"
    },
    {
     "data": {
      "image/png": "[encoded data removed]",
      "text/plain": [
       "<Figure size 640x480 with 1 Axes>"
      ]
     },
     "metadata": {},
     "output_type": "display_data"
    }
   ],
   "source": [
    "class_1.boxplot(column=\"Age\")"
   ]
  },
  {
   "cell_type": "markdown",
   "id": "895d9acb",
   "metadata": {},
   "source": [
    "# skewness"
   ]
  },
  {
   "cell_type": "code",
   "execution_count": 135,
   "id": "3929f803",
   "metadata": {},
   "outputs": [
    {
     "data": {
      "text/plain": [
       "Age                        -0.008807\n",
       "Gender                     -0.002829\n",
       "Family_History             -0.274074\n",
       "Personal_History           -0.339493\n",
       "Current_Stressors           0.567941\n",
       "Symptoms                   -0.236476\n",
       "Severity                   -0.349027\n",
       "Impact_on_Life             -0.389893\n",
       "Demographics                0.164609\n",
       "Medical_History             0.088535\n",
       "Psychiatric_History         0.064240\n",
       "Substance_Use               0.089089\n",
       "Coping_Mechanisms          -0.142881\n",
       "Social_Support             -0.024380\n",
       "Lifestyle_Factors          -1.052516\n",
       "Panic_Disorder_Diagnosis    0.000000\n",
       "dtype: float64"
      ]
     },
     "execution_count": 135,
     "metadata": {},
     "output_type": "execute_result"
    }
   ],
   "source": [
    "class_1.skew()"
   ]
  },
  {
   "cell_type": "markdown",
   "id": "62a0e7eb",
   "metadata": {},
   "source": [
    "# visualization"
   ]
  },
  {
   "cell_type": "code",
   "execution_count": 159,
   "id": "39420ac9",
   "metadata": {},
   "outputs": [
    {
     "data": {
      "text/plain": [
       "<Axes: xlabel='Panic_Disorder_Diagnosis', ylabel='count'>"
      ]
     },
     "execution_count": 159,
     "metadata": {},
     "output_type": "execute_result"
    },
    {
     "data": {
      "image/png": "[encoded data removed]",
      "text/plain": [
       "<Figure size 640x480 with 1 Axes>"
      ]
     },
     "metadata": {},
     "output_type": "display_data"
    }
   ],
   "source": [
    "sns.countplot(x=\"Panic_Disorder_Diagnosis\", data=data)"
   ]
  },
  {
   "cell_type": "raw",
   "id": "c0648b6b",
   "metadata": {},
   "source": [
    "#before class imbalance value count of target variable"
   ]
  },
  {
   "cell_type": "code",
   "execution_count": 161,
   "id": "6a6635d4",
   "metadata": {},
   "outputs": [
    {
     "data": {
      "text/plain": [
       "<Axes: xlabel='Panic_Disorder_Diagnosis', ylabel='count'>"
      ]
     },
     "execution_count": 161,
     "metadata": {},
     "output_type": "execute_result"
    },
    {
     "data": {
      "image/png": "[encoded data removed]",
      "text/plain": [
       "<Figure size 640x480 with 1 Axes>"
      ]
     },
     "metadata": {},
     "output_type": "display_data"
    }
   ],
   "source": [
    "sns.countplot(x=\"Panic_Disorder_Diagnosis\", data=class_1)"
   ]
  },
  {
   "cell_type": "raw",
   "id": "990d8ebe",
   "metadata": {},
   "source": [
    "#after class imbalance value count of target variable"
   ]
  },
  {
   "cell_type": "code",
   "execution_count": 163,
   "id": "bd07ede3",
   "metadata": {},
   "outputs": [
    {
     "data": {
      "text/plain": [
       "<Axes: xlabel='Family_History'>"
      ]
     },
     "execution_count": 163,
     "metadata": {},
     "output_type": "execute_result"
    },
    {
     "data": {
      "image/png": "[encoded data removed]",
      "text/plain": [
       "<Figure size 640x480 with 1 Axes>"
      ]
     },
     "metadata": {},
     "output_type": "display_data"
    }
   ],
   "source": [
    "class_1[\"Family_History\"].value_counts().plot.bar()"
   ]
  },
  {
   "cell_type": "raw",
   "id": "850cf009",
   "metadata": {},
   "source": [
    "#this graph indicate how many people having family history and don't have"
   ]
  },
  {
   "cell_type": "code",
   "execution_count": 165,
   "id": "9a9013e1",
   "metadata": {},
   "outputs": [
    {
     "data": {
      "text/plain": [
       "<Axes: xlabel='Personal_History'>"
      ]
     },
     "execution_count": 165,
     "metadata": {},
     "output_type": "execute_result"
    },
    {
     "data": {
      "image/png": "[encoded data removed]",
      "text/plain": [
       "<Figure size 640x480 with 1 Axes>"
      ]
     },
     "metadata": {},
     "output_type": "display_data"
    }
   ],
   "source": [
    "class_1[\"Personal_History\"].value_counts().plot.bar()"
   ]
  },
  {
   "cell_type": "raw",
   "id": "cfe22f2b",
   "metadata": {},
   "source": [
    "#this graph shows personal history of the person 0 means no and 1 means yes"
   ]
  },
  {
   "cell_type": "code",
   "execution_count": 167,
   "id": "a034f27e",
   "metadata": {},
   "outputs": [
    {
     "data": {
      "text/plain": [
       "<Axes: xlabel='Current_Stressors', ylabel='count'>"
      ]
     },
     "execution_count": 167,
     "metadata": {},
     "output_type": "execute_result"
    },
    {
     "data": {
      "image/png": "[encoded data removed]",
      "text/plain": [
       "<Figure size 640x480 with 1 Axes>"
      ]
     },
     "metadata": {},
     "output_type": "display_data"
    }
   ],
   "source": [
    "sns.countplot(x=\"Current_Stressors\", data=class_1)"
   ]
  },
  {
   "cell_type": "raw",
   "id": "ab7c17f2",
   "metadata": {},
   "source": [
    "#the graph shows levels of Current_Stressors high,moderate,low"
   ]
  },
  {
   "cell_type": "code",
   "execution_count": 169,
   "id": "85be726a",
   "metadata": {},
   "outputs": [
    {
     "data": {
      "text/plain": [
       "<Axes: xlabel='Substance_Use', ylabel='count'>"
      ]
     },
     "execution_count": 169,
     "metadata": {},
     "output_type": "execute_result"
    },
    {
     "data": {
      "image/png": "[encoded data removed]",
      "text/plain": [
       "<Figure size 640x480 with 1 Axes>"
      ]
     },
     "metadata": {},
     "output_type": "display_data"
    }
   ],
   "source": [
    "sns.countplot(x=\"Substance_Use\", data=class_1)"
   ]
  },
  {
   "cell_type": "raw",
   "id": "78738402",
   "metadata": {},
   "source": [
    "#this graph indicate what kind of substance the person use alcohol,others,drugs"
   ]
  },
  {
   "cell_type": "code",
   "execution_count": 234,
   "id": "5f37e0a0",
   "metadata": {},
   "outputs": [
    {
     "data": {
      "text/html": [
       "<div>\n",
       "<style scoped>\n",
       "    .dataframe tbody tr th:only-of-type {\n",
       "        vertical-align: middle;\n",
       "    }\n",
       "\n",
       "    .dataframe tbody tr th {\n",
       "        vertical-align: top;\n",
       "    }\n",
       "\n",
       "    .dataframe thead th {\n",
       "        text-align: right;\n",
       "    }\n",
       "</style>\n",
       "<table border=\"1\" class=\"dataframe\">\n",
       "  <thead>\n",
       "    <tr style=\"text-align: right;\">\n",
       "      <th></th>\n",
       "      <th>Age</th>\n",
       "      <th>Gender</th>\n",
       "      <th>Family_History</th>\n",
       "      <th>Personal_History</th>\n",
       "      <th>Current_Stressors</th>\n",
       "      <th>Symptoms</th>\n",
       "      <th>Severity</th>\n",
       "      <th>Impact_on_Life</th>\n",
       "      <th>Demographics</th>\n",
       "      <th>Medical_History</th>\n",
       "      <th>Psychiatric_History</th>\n",
       "      <th>Substance_Use</th>\n",
       "      <th>Coping_Mechanisms</th>\n",
       "      <th>Social_Support</th>\n",
       "      <th>Lifestyle_Factors</th>\n",
       "      <th>Panic_Disorder_Diagnosis</th>\n",
       "    </tr>\n",
       "  </thead>\n",
       "  <tbody>\n",
       "    <tr>\n",
       "      <th>Age</th>\n",
       "      <td>1.000000</td>\n",
       "      <td>-0.004713</td>\n",
       "      <td>0.008973</td>\n",
       "      <td>0.001285</td>\n",
       "      <td>-0.008658</td>\n",
       "      <td>-0.011399</td>\n",
       "      <td>0.020452</td>\n",
       "      <td>-0.023056</td>\n",
       "      <td>0.012213</td>\n",
       "      <td>0.003294</td>\n",
       "      <td>0.015733</td>\n",
       "      <td>-0.000246</td>\n",
       "      <td>0.011414</td>\n",
       "      <td>0.017882</td>\n",
       "      <td>-0.005250</td>\n",
       "      <td>-0.004670</td>\n",
       "    </tr>\n",
       "    <tr>\n",
       "      <th>Gender</th>\n",
       "      <td>-0.004713</td>\n",
       "      <td>1.000000</td>\n",
       "      <td>0.010746</td>\n",
       "      <td>-0.000240</td>\n",
       "      <td>-0.003496</td>\n",
       "      <td>0.007844</td>\n",
       "      <td>0.006481</td>\n",
       "      <td>0.003043</td>\n",
       "      <td>0.028014</td>\n",
       "      <td>0.003185</td>\n",
       "      <td>0.018781</td>\n",
       "      <td>-0.007514</td>\n",
       "      <td>-0.001933</td>\n",
       "      <td>-0.008918</td>\n",
       "      <td>-0.009371</td>\n",
       "      <td>0.006126</td>\n",
       "    </tr>\n",
       "    <tr>\n",
       "      <th>Family_History</th>\n",
       "      <td>0.008973</td>\n",
       "      <td>0.010746</td>\n",
       "      <td>1.000000</td>\n",
       "      <td>-0.189692</td>\n",
       "      <td>-0.064500</td>\n",
       "      <td>-0.000364</td>\n",
       "      <td>0.063885</td>\n",
       "      <td>0.038860</td>\n",
       "      <td>-0.011638</td>\n",
       "      <td>-0.014690</td>\n",
       "      <td>-0.014709</td>\n",
       "      <td>-0.032386</td>\n",
       "      <td>0.015146</td>\n",
       "      <td>0.012605</td>\n",
       "      <td>0.098046</td>\n",
       "      <td>0.179797</td>\n",
       "    </tr>\n",
       "    <tr>\n",
       "      <th>Personal_History</th>\n",
       "      <td>0.001285</td>\n",
       "      <td>-0.000240</td>\n",
       "      <td>-0.189692</td>\n",
       "      <td>1.000000</td>\n",
       "      <td>-0.046382</td>\n",
       "      <td>0.007275</td>\n",
       "      <td>0.037732</td>\n",
       "      <td>0.059961</td>\n",
       "      <td>-0.028724</td>\n",
       "      <td>-0.009606</td>\n",
       "      <td>0.003738</td>\n",
       "      <td>0.014467</td>\n",
       "      <td>-0.006800</td>\n",
       "      <td>-0.001113</td>\n",
       "      <td>0.113382</td>\n",
       "      <td>0.186894</td>\n",
       "    </tr>\n",
       "    <tr>\n",
       "      <th>Current_Stressors</th>\n",
       "      <td>-0.008658</td>\n",
       "      <td>-0.003496</td>\n",
       "      <td>-0.064500</td>\n",
       "      <td>-0.046382</td>\n",
       "      <td>1.000000</td>\n",
       "      <td>0.089881</td>\n",
       "      <td>-0.071807</td>\n",
       "      <td>-0.068396</td>\n",
       "      <td>0.048885</td>\n",
       "      <td>-0.002273</td>\n",
       "      <td>0.027891</td>\n",
       "      <td>0.011665</td>\n",
       "      <td>-0.060396</td>\n",
       "      <td>0.002655</td>\n",
       "      <td>-0.204719</td>\n",
       "      <td>-0.350685</td>\n",
       "    </tr>\n",
       "    <tr>\n",
       "      <th>Symptoms</th>\n",
       "      <td>-0.011399</td>\n",
       "      <td>0.007844</td>\n",
       "      <td>-0.000364</td>\n",
       "      <td>0.007275</td>\n",
       "      <td>0.089881</td>\n",
       "      <td>1.000000</td>\n",
       "      <td>0.027360</td>\n",
       "      <td>0.020734</td>\n",
       "      <td>0.002157</td>\n",
       "      <td>-0.038923</td>\n",
       "      <td>-0.013257</td>\n",
       "      <td>0.027774</td>\n",
       "      <td>0.015778</td>\n",
       "      <td>0.003919</td>\n",
       "      <td>0.064510</td>\n",
       "      <td>0.100730</td>\n",
       "    </tr>\n",
       "    <tr>\n",
       "      <th>Severity</th>\n",
       "      <td>0.020452</td>\n",
       "      <td>0.006481</td>\n",
       "      <td>0.063885</td>\n",
       "      <td>0.037732</td>\n",
       "      <td>-0.071807</td>\n",
       "      <td>0.027360</td>\n",
       "      <td>1.000000</td>\n",
       "      <td>-0.172109</td>\n",
       "      <td>-0.015049</td>\n",
       "      <td>-0.022331</td>\n",
       "      <td>-0.045599</td>\n",
       "      <td>-0.001530</td>\n",
       "      <td>0.034478</td>\n",
       "      <td>0.009076</td>\n",
       "      <td>0.121574</td>\n",
       "      <td>0.239863</td>\n",
       "    </tr>\n",
       "    <tr>\n",
       "      <th>Impact_on_Life</th>\n",
       "      <td>-0.023056</td>\n",
       "      <td>0.003043</td>\n",
       "      <td>0.038860</td>\n",
       "      <td>0.059961</td>\n",
       "      <td>-0.068396</td>\n",
       "      <td>0.020734</td>\n",
       "      <td>-0.172109</td>\n",
       "      <td>1.000000</td>\n",
       "      <td>-0.026096</td>\n",
       "      <td>-0.031022</td>\n",
       "      <td>-0.044289</td>\n",
       "      <td>-0.027733</td>\n",
       "      <td>0.031216</td>\n",
       "      <td>0.023179</td>\n",
       "      <td>0.190828</td>\n",
       "      <td>0.294170</td>\n",
       "    </tr>\n",
       "    <tr>\n",
       "      <th>Demographics</th>\n",
       "      <td>0.012213</td>\n",
       "      <td>0.028014</td>\n",
       "      <td>-0.011638</td>\n",
       "      <td>-0.028724</td>\n",
       "      <td>0.048885</td>\n",
       "      <td>0.002157</td>\n",
       "      <td>-0.015049</td>\n",
       "      <td>-0.026096</td>\n",
       "      <td>1.000000</td>\n",
       "      <td>-0.139436</td>\n",
       "      <td>-0.021361</td>\n",
       "      <td>0.002623</td>\n",
       "      <td>-0.022187</td>\n",
       "      <td>-0.003345</td>\n",
       "      <td>-0.034241</td>\n",
       "      <td>-0.073764</td>\n",
       "    </tr>\n",
       "    <tr>\n",
       "      <th>Medical_History</th>\n",
       "      <td>0.003294</td>\n",
       "      <td>0.003185</td>\n",
       "      <td>-0.014690</td>\n",
       "      <td>-0.009606</td>\n",
       "      <td>-0.002273</td>\n",
       "      <td>-0.038923</td>\n",
       "      <td>-0.022331</td>\n",
       "      <td>-0.031022</td>\n",
       "      <td>-0.139436</td>\n",
       "      <td>1.000000</td>\n",
       "      <td>0.014252</td>\n",
       "      <td>0.003811</td>\n",
       "      <td>-0.018262</td>\n",
       "      <td>0.019361</td>\n",
       "      <td>-0.051303</td>\n",
       "      <td>-0.100492</td>\n",
       "    </tr>\n",
       "    <tr>\n",
       "      <th>Psychiatric_History</th>\n",
       "      <td>0.015733</td>\n",
       "      <td>0.018781</td>\n",
       "      <td>-0.014709</td>\n",
       "      <td>0.003738</td>\n",
       "      <td>0.027891</td>\n",
       "      <td>-0.013257</td>\n",
       "      <td>-0.045599</td>\n",
       "      <td>-0.044289</td>\n",
       "      <td>-0.021361</td>\n",
       "      <td>0.014252</td>\n",
       "      <td>1.000000</td>\n",
       "      <td>-0.077979</td>\n",
       "      <td>-0.004619</td>\n",
       "      <td>0.025892</td>\n",
       "      <td>-0.057316</td>\n",
       "      <td>-0.072023</td>\n",
       "    </tr>\n",
       "    <tr>\n",
       "      <th>Substance_Use</th>\n",
       "      <td>-0.000246</td>\n",
       "      <td>-0.007514</td>\n",
       "      <td>-0.032386</td>\n",
       "      <td>0.014467</td>\n",
       "      <td>0.011665</td>\n",
       "      <td>0.027774</td>\n",
       "      <td>-0.001530</td>\n",
       "      <td>-0.027733</td>\n",
       "      <td>0.002623</td>\n",
       "      <td>0.003811</td>\n",
       "      <td>-0.077979</td>\n",
       "      <td>1.000000</td>\n",
       "      <td>0.000461</td>\n",
       "      <td>-0.000793</td>\n",
       "      <td>-0.045964</td>\n",
       "      <td>-0.059045</td>\n",
       "    </tr>\n",
       "    <tr>\n",
       "      <th>Coping_Mechanisms</th>\n",
       "      <td>0.011414</td>\n",
       "      <td>-0.001933</td>\n",
       "      <td>0.015146</td>\n",
       "      <td>-0.006800</td>\n",
       "      <td>-0.060396</td>\n",
       "      <td>0.015778</td>\n",
       "      <td>0.034478</td>\n",
       "      <td>0.031216</td>\n",
       "      <td>-0.022187</td>\n",
       "      <td>-0.018262</td>\n",
       "      <td>-0.004619</td>\n",
       "      <td>0.000461</td>\n",
       "      <td>1.000000</td>\n",
       "      <td>-0.001305</td>\n",
       "      <td>0.100246</td>\n",
       "      <td>0.164519</td>\n",
       "    </tr>\n",
       "    <tr>\n",
       "      <th>Social_Support</th>\n",
       "      <td>0.017882</td>\n",
       "      <td>-0.008918</td>\n",
       "      <td>0.012605</td>\n",
       "      <td>-0.001113</td>\n",
       "      <td>0.002655</td>\n",
       "      <td>0.003919</td>\n",
       "      <td>0.009076</td>\n",
       "      <td>0.023179</td>\n",
       "      <td>-0.003345</td>\n",
       "      <td>0.019361</td>\n",
       "      <td>0.025892</td>\n",
       "      <td>-0.000793</td>\n",
       "      <td>-0.001305</td>\n",
       "      <td>1.000000</td>\n",
       "      <td>0.005882</td>\n",
       "      <td>0.007115</td>\n",
       "    </tr>\n",
       "    <tr>\n",
       "      <th>Lifestyle_Factors</th>\n",
       "      <td>-0.005250</td>\n",
       "      <td>-0.009371</td>\n",
       "      <td>0.098046</td>\n",
       "      <td>0.113382</td>\n",
       "      <td>-0.204719</td>\n",
       "      <td>0.064510</td>\n",
       "      <td>0.121574</td>\n",
       "      <td>0.190828</td>\n",
       "      <td>-0.034241</td>\n",
       "      <td>-0.051303</td>\n",
       "      <td>-0.057316</td>\n",
       "      <td>-0.045964</td>\n",
       "      <td>0.100246</td>\n",
       "      <td>0.005882</td>\n",
       "      <td>1.000000</td>\n",
       "      <td>0.675445</td>\n",
       "    </tr>\n",
       "    <tr>\n",
       "      <th>Panic_Disorder_Diagnosis</th>\n",
       "      <td>-0.004670</td>\n",
       "      <td>0.006126</td>\n",
       "      <td>0.179797</td>\n",
       "      <td>0.186894</td>\n",
       "      <td>-0.350685</td>\n",
       "      <td>0.100730</td>\n",
       "      <td>0.239863</td>\n",
       "      <td>0.294170</td>\n",
       "      <td>-0.073764</td>\n",
       "      <td>-0.100492</td>\n",
       "      <td>-0.072023</td>\n",
       "      <td>-0.059045</td>\n",
       "      <td>0.164519</td>\n",
       "      <td>0.007115</td>\n",
       "      <td>0.675445</td>\n",
       "      <td>1.000000</td>\n",
       "    </tr>\n",
       "  </tbody>\n",
       "</table>\n",
       "</div>"
      ],
      "text/plain": [
       "                               Age    Gender  Family_History  \\\n",
       "Age                       1.000000 -0.004713        0.008973   \n",
       "Gender                   -0.004713  1.000000        0.010746   \n",
       "Family_History            0.008973  0.010746        1.000000   \n",
       "Personal_History          0.001285 -0.000240       -0.189692   \n",
       "Current_Stressors        -0.008658 -0.003496       -0.064500   \n",
       "Symptoms                 -0.011399  0.007844       -0.000364   \n",
       "Severity                  0.020452  0.006481        0.063885   \n",
       "Impact_on_Life           -0.023056  0.003043        0.038860   \n",
       "Demographics              0.012213  0.028014       -0.011638   \n",
       "Medical_History           0.003294  0.003185       -0.014690   \n",
       "Psychiatric_History       0.015733  0.018781       -0.014709   \n",
       "Substance_Use            -0.000246 -0.007514       -0.032386   \n",
       "Coping_Mechanisms         0.011414 -0.001933        0.015146   \n",
       "Social_Support            0.017882 -0.008918        0.012605   \n",
       "Lifestyle_Factors        -0.005250 -0.009371        0.098046   \n",
       "Panic_Disorder_Diagnosis -0.004670  0.006126        0.179797   \n",
       "\n",
       "                          Personal_History  Current_Stressors  Symptoms  \\\n",
       "Age                               0.001285          -0.008658 -0.011399   \n",
       "Gender                           -0.000240          -0.003496  0.007844   \n",
       "Family_History                   -0.189692          -0.064500 -0.000364   \n",
       "Personal_History                  1.000000          -0.046382  0.007275   \n",
       "Current_Stressors                -0.046382           1.000000  0.089881   \n",
       "Symptoms                          0.007275           0.089881  1.000000   \n",
       "Severity                          0.037732          -0.071807  0.027360   \n",
       "Impact_on_Life                    0.059961          -0.068396  0.020734   \n",
       "Demographics                     -0.028724           0.048885  0.002157   \n",
       "Medical_History                  -0.009606          -0.002273 -0.038923   \n",
       "Psychiatric_History               0.003738           0.027891 -0.013257   \n",
       "Substance_Use                     0.014467           0.011665  0.027774   \n",
       "Coping_Mechanisms                -0.006800          -0.060396  0.015778   \n",
       "Social_Support                   -0.001113           0.002655  0.003919   \n",
       "Lifestyle_Factors                 0.113382          -0.204719  0.064510   \n",
       "Panic_Disorder_Diagnosis          0.186894          -0.350685  0.100730   \n",
       "\n",
       "                          Severity  Impact_on_Life  Demographics  \\\n",
       "Age                       0.020452       -0.023056      0.012213   \n",
       "Gender                    0.006481        0.003043      0.028014   \n",
       "Family_History            0.063885        0.038860     -0.011638   \n",
       "Personal_History          0.037732        0.059961     -0.028724   \n",
       "Current_Stressors        -0.071807       -0.068396      0.048885   \n",
       "Symptoms                  0.027360        0.020734      0.002157   \n",
       "Severity                  1.000000       -0.172109     -0.015049   \n",
       "Impact_on_Life           -0.172109        1.000000     -0.026096   \n",
       "Demographics             -0.015049       -0.026096      1.000000   \n",
       "Medical_History          -0.022331       -0.031022     -0.139436   \n",
       "Psychiatric_History      -0.045599       -0.044289     -0.021361   \n",
       "Substance_Use            -0.001530       -0.027733      0.002623   \n",
       "Coping_Mechanisms         0.034478        0.031216     -0.022187   \n",
       "Social_Support            0.009076        0.023179     -0.003345   \n",
       "Lifestyle_Factors         0.121574        0.190828     -0.034241   \n",
       "Panic_Disorder_Diagnosis  0.239863        0.294170     -0.073764   \n",
       "\n",
       "                          Medical_History  Psychiatric_History  Substance_Use  \\\n",
       "Age                              0.003294             0.015733      -0.000246   \n",
       "Gender                           0.003185             0.018781      -0.007514   \n",
       "Family_History                  -0.014690            -0.014709      -0.032386   \n",
       "Personal_History                -0.009606             0.003738       0.014467   \n",
       "Current_Stressors               -0.002273             0.027891       0.011665   \n",
       "Symptoms                        -0.038923            -0.013257       0.027774   \n",
       "Severity                        -0.022331            -0.045599      -0.001530   \n",
       "Impact_on_Life                  -0.031022            -0.044289      -0.027733   \n",
       "Demographics                    -0.139436            -0.021361       0.002623   \n",
       "Medical_History                  1.000000             0.014252       0.003811   \n",
       "Psychiatric_History              0.014252             1.000000      -0.077979   \n",
       "Substance_Use                    0.003811            -0.077979       1.000000   \n",
       "Coping_Mechanisms               -0.018262            -0.004619       0.000461   \n",
       "Social_Support                   0.019361             0.025892      -0.000793   \n",
       "Lifestyle_Factors               -0.051303            -0.057316      -0.045964   \n",
       "Panic_Disorder_Diagnosis        -0.100492            -0.072023      -0.059045   \n",
       "\n",
       "                          Coping_Mechanisms  Social_Support  \\\n",
       "Age                                0.011414        0.017882   \n",
       "Gender                            -0.001933       -0.008918   \n",
       "Family_History                     0.015146        0.012605   \n",
       "Personal_History                  -0.006800       -0.001113   \n",
       "Current_Stressors                 -0.060396        0.002655   \n",
       "Symptoms                           0.015778        0.003919   \n",
       "Severity                           0.034478        0.009076   \n",
       "Impact_on_Life                     0.031216        0.023179   \n",
       "Demographics                      -0.022187       -0.003345   \n",
       "Medical_History                   -0.018262        0.019361   \n",
       "Psychiatric_History               -0.004619        0.025892   \n",
       "Substance_Use                      0.000461       -0.000793   \n",
       "Coping_Mechanisms                  1.000000       -0.001305   \n",
       "Social_Support                    -0.001305        1.000000   \n",
       "Lifestyle_Factors                  0.100246        0.005882   \n",
       "Panic_Disorder_Diagnosis           0.164519        0.007115   \n",
       "\n",
       "                          Lifestyle_Factors  Panic_Disorder_Diagnosis  \n",
       "Age                               -0.005250                 -0.004670  \n",
       "Gender                            -0.009371                  0.006126  \n",
       "Family_History                     0.098046                  0.179797  \n",
       "Personal_History                   0.113382                  0.186894  \n",
       "Current_Stressors                 -0.204719                 -0.350685  \n",
       "Symptoms                           0.064510                  0.100730  \n",
       "Severity                           0.121574                  0.239863  \n",
       "Impact_on_Life                     0.190828                  0.294170  \n",
       "Demographics                      -0.034241                 -0.073764  \n",
       "Medical_History                   -0.051303                 -0.100492  \n",
       "Psychiatric_History               -0.057316                 -0.072023  \n",
       "Substance_Use                     -0.045964                 -0.059045  \n",
       "Coping_Mechanisms                  0.100246                  0.164519  \n",
       "Social_Support                     0.005882                  0.007115  \n",
       "Lifestyle_Factors                  1.000000                  0.675445  \n",
       "Panic_Disorder_Diagnosis           0.675445                  1.000000  "
      ]
     },
     "execution_count": 234,
     "metadata": {},
     "output_type": "execute_result"
    }
   ],
   "source": [
    "cor=class_1.corr()\n",
    "cor"
   ]
  },
  {
   "cell_type": "code",
   "execution_count": 235,
   "id": "07057583",
   "metadata": {},
   "outputs": [
    {
     "data": {
      "text/plain": [
       "<Axes: >"
      ]
     },
     "execution_count": 235,
     "metadata": {},
     "output_type": "execute_result"
    },
    {
     "data": {
      "image/png": "[encoded data removed]",
      "text/plain": [
       "<Figure size 640x480 with 2 Axes>"
      ]
     },
     "metadata": {},
     "output_type": "display_data"
    }
   ],
   "source": [
    "sns.heatmap(cor)"
   ]
  },
  {
   "cell_type": "markdown",
   "id": "77176ebd",
   "metadata": {},
   "source": [
    "# model building"
   ]
  },
  {
   "cell_type": "code",
   "execution_count": 136,
   "id": "b97c425d",
   "metadata": {},
   "outputs": [],
   "source": [
    "xo=class_1.iloc[:,:-1]\n",
    "yo=class_1.iloc[:,-1]"
   ]
  },
  {
   "cell_type": "code",
   "execution_count": 137,
   "id": "bf0b37ff",
   "metadata": {},
   "outputs": [],
   "source": [
    "x1_tr,x1_te,y1_tr,y1_te=train_test_split(xo,yo,test_size=0.2,random_state=100)"
   ]
  },
  {
   "cell_type": "code",
   "execution_count": 138,
   "id": "5f243cca",
   "metadata": {},
   "outputs": [
    {
     "data": {
      "text/plain": [
       "((3395, 15), (849, 15), (3395,), (849,))"
      ]
     },
     "execution_count": 138,
     "metadata": {},
     "output_type": "execute_result"
    }
   ],
   "source": [
    "x1_tr.shape,x1_te.shape,y1_tr.shape,y1_te.shape"
   ]
  },
  {
   "cell_type": "markdown",
   "id": "7102bfe9",
   "metadata": {},
   "source": [
    "# LogisticRegression"
   ]
  },
  {
   "cell_type": "code",
   "execution_count": 139,
   "id": "0abb7a54",
   "metadata": {},
   "outputs": [],
   "source": [
    "from sklearn.linear_model import LogisticRegression\n",
    "lg=LogisticRegression()"
   ]
  },
  {
   "cell_type": "code",
   "execution_count": 140,
   "id": "087b0af3",
   "metadata": {},
   "outputs": [
    {
     "data": {
      "text/html": [
       "<style>#sk-container-id-9 {color: black;}#sk-container-id-9 pre{padding: 0;}#sk-container-id-9 div.sk-toggleable {background-color: white;}#sk-container-id-9 label.sk-toggleable__label {cursor: pointer;display: block;width: 100%;margin-bottom: 0;padding: 0.3em;box-sizing: border-box;text-align: center;}#sk-container-id-9 label.sk-toggleable__label-arrow:before {content: \"▸\";float: left;margin-right: 0.25em;color: #696969;}#sk-container-id-9 label.sk-toggleable__label-arrow:hover:before {color: black;}#sk-container-id-9 div.sk-estimator:hover label.sk-toggleable__label-arrow:before {color: black;}#sk-container-id-9 div.sk-toggleable__content {max-height: 0;max-width: 0;overflow: hidden;text-align: left;background-color: #f0f8ff;}#sk-container-id-9 div.sk-toggleable__content pre {margin: 0.2em;color: black;border-radius: 0.25em;background-color: #f0f8ff;}#sk-container-id-9 input.sk-toggleable__control:checked~div.sk-toggleable__content {max-height: 200px;max-width: 100%;overflow: auto;}#sk-container-id-9 input.sk-toggleable__control:checked~label.sk-toggleable__label-arrow:before {content: \"▾\";}#sk-container-id-9 div.sk-estimator input.sk-toggleable__control:checked~label.sk-toggleable__label {background-color: #d4ebff;}#sk-container-id-9 div.sk-label input.sk-toggleable__control:checked~label.sk-toggleable__label {background-color: #d4ebff;}#sk-container-id-9 input.sk-hidden--visually {border: 0;clip: rect(1px 1px 1px 1px);clip: rect(1px, 1px, 1px, 1px);height: 1px;margin: -1px;overflow: hidden;padding: 0;position: absolute;width: 1px;}#sk-container-id-9 div.sk-estimator {font-family: monospace;background-color: #f0f8ff;border: 1px dotted black;border-radius: 0.25em;box-sizing: border-box;margin-bottom: 0.5em;}#sk-container-id-9 div.sk-estimator:hover {background-color: #d4ebff;}#sk-container-id-9 div.sk-parallel-item::after {content: \"\";width: 100%;border-bottom: 1px solid gray;flex-grow: 1;}#sk-container-id-9 div.sk-label:hover label.sk-toggleable__label {background-color: #d4ebff;}#sk-container-id-9 div.sk-serial::before {content: \"\";position: absolute;border-left: 1px solid gray;box-sizing: border-box;top: 0;bottom: 0;left: 50%;z-index: 0;}#sk-container-id-9 div.sk-serial {display: flex;flex-direction: column;align-items: center;background-color: white;padding-right: 0.2em;padding-left: 0.2em;position: relative;}#sk-container-id-9 div.sk-item {position: relative;z-index: 1;}#sk-container-id-9 div.sk-parallel {display: flex;align-items: stretch;justify-content: center;background-color: white;position: relative;}#sk-container-id-9 div.sk-item::before, #sk-container-id-9 div.sk-parallel-item::before {content: \"\";position: absolute;border-left: 1px solid gray;box-sizing: border-box;top: 0;bottom: 0;left: 50%;z-index: -1;}#sk-container-id-9 div.sk-parallel-item {display: flex;flex-direction: column;z-index: 1;position: relative;background-color: white;}#sk-container-id-9 div.sk-parallel-item:first-child::after {align-self: flex-end;width: 50%;}#sk-container-id-9 div.sk-parallel-item:last-child::after {align-self: flex-start;width: 50%;}#sk-container-id-9 div.sk-parallel-item:only-child::after {width: 0;}#sk-container-id-9 div.sk-dashed-wrapped {border: 1px dashed gray;margin: 0 0.4em 0.5em 0.4em;box-sizing: border-box;padding-bottom: 0.4em;background-color: white;}#sk-container-id-9 div.sk-label label {font-family: monospace;font-weight: bold;display: inline-block;line-height: 1.2em;}#sk-container-id-9 div.sk-label-container {text-align: center;}#sk-container-id-9 div.sk-container {/* jupyter's `normalize.less` sets `[hidden] { display: none; }` but bootstrap.min.css set `[hidden] { display: none !important; }` so we also need the `!important` here to be able to override the default hidden behavior on the sphinx rendered scikit-learn.org. See: https://github.com/scikit-learn/scikit-learn/issues/21755 */display: inline-block !important;position: relative;}#sk-container-id-9 div.sk-text-repr-fallback {display: none;}</style><div id=\"sk-container-id-9\" class=\"sk-top-container\"><div class=\"sk-text-repr-fallback\"><pre>LogisticRegression()</pre><b>In a Jupyter environment, please rerun this cell to show the HTML representation or trust the notebook. <br />On GitHub, the HTML representation is unable to render, please try loading this page with nbviewer.org.</b></div><div class=\"sk-container\" hidden><div class=\"sk-item\"><div class=\"sk-estimator sk-toggleable\"><input class=\"sk-toggleable__control sk-hidden--visually\" id=\"sk-estimator-id-11\" type=\"checkbox\" checked><label for=\"sk-estimator-id-11\" class=\"sk-toggleable__label sk-toggleable__label-arrow\">LogisticRegression</label><div class=\"sk-toggleable__content\"><pre>LogisticRegression()</pre></div></div></div></div></div>"
      ],
      "text/plain": [
       "LogisticRegression()"
      ]
     },
     "execution_count": 140,
     "metadata": {},
     "output_type": "execute_result"
    }
   ],
   "source": [
    "lg.fit(x1_tr,y1_tr)"
   ]
  },
  {
   "cell_type": "code",
   "execution_count": 141,
   "id": "9c386a85",
   "metadata": {},
   "outputs": [
    {
     "data": {
      "text/plain": [
       "array([1, 0, 1, 0, 1, 0, 0, 0, 0, 1, 0, 1, 1, 0, 0, 1, 1, 1, 1, 1, 1, 0,\n",
       "       0, 1, 1, 0, 0, 0, 0, 1, 1, 1, 1, 1, 0, 1, 1, 0, 0, 1, 1, 0, 1, 1,\n",
       "       1, 0, 0, 1, 0, 1, 0, 1, 0, 0, 0, 1, 1, 0, 0, 0, 1, 0, 1, 1, 0, 1,\n",
       "       0, 1, 1, 1, 0, 0, 1, 1, 0, 0, 0, 0, 1, 0, 0, 1, 1, 0, 1, 0, 1, 0,\n",
       "       1, 1, 1, 1, 0, 1, 1, 0, 1, 0, 0, 0, 1, 0, 1, 0, 0, 0, 1, 0, 0, 0,\n",
       "       1, 0, 1, 1, 1, 0, 0, 0, 0, 0, 0, 0, 1, 0, 0, 0, 1, 1, 1, 0, 1, 0,\n",
       "       0, 0, 1, 1, 1, 0, 1, 0, 0, 1, 1, 1, 0, 1, 1, 0, 1, 0, 0, 0, 1, 0,\n",
       "       0, 1, 0, 0, 0, 0, 0, 1, 1, 1, 0, 0, 1, 0, 0, 1, 0, 1, 0, 0, 0, 0,\n",
       "       0, 0, 0, 1, 0, 1, 1, 1, 1, 0, 1, 0, 0, 1, 1, 0, 0, 0, 0, 0, 0, 1,\n",
       "       1, 1, 1, 1, 1, 1, 0, 1, 1, 0, 1, 0, 0, 0, 1, 1, 0, 0, 1, 1, 0, 0,\n",
       "       1, 0, 1, 1, 0, 1, 1, 1, 1, 0, 0, 0, 1, 1, 0, 0, 1, 0, 0, 1, 0, 1,\n",
       "       1, 0, 1, 1, 1, 1, 1, 1, 0, 1, 0, 1, 1, 1, 1, 0, 1, 1, 0, 0, 0, 0,\n",
       "       1, 1, 0, 1, 0, 0, 0, 0, 0, 1, 0, 0, 1, 0, 1, 1, 0, 0, 1, 1, 0, 0,\n",
       "       0, 1, 1, 1, 0, 1, 0, 1, 0, 0, 1, 1, 1, 1, 0, 0, 1, 1, 0, 1, 0, 0,\n",
       "       1, 0, 1, 1, 1, 0, 0, 1, 0, 1, 1, 0, 0, 0, 1, 0, 1, 1, 1, 0, 1, 1,\n",
       "       1, 1, 1, 0, 0, 0, 1, 1, 1, 0, 0, 1, 1, 0, 0, 0, 0, 1, 1, 1, 1, 0,\n",
       "       1, 0, 1, 1, 1, 1, 0, 0, 0, 0, 0, 0, 0, 0, 0, 0, 0, 1, 1, 1, 1, 0,\n",
       "       1, 1, 1, 1, 1, 1, 0, 0, 1, 0, 1, 1, 0, 0, 0, 1, 1, 0, 0, 1, 0, 0,\n",
       "       1, 1, 1, 0, 1, 0, 0, 1, 0, 0, 0, 0, 0, 1, 0, 0, 1, 0, 0, 1, 0, 1,\n",
       "       0, 0, 1, 0, 1, 0, 0, 1, 0, 0, 0, 1, 1, 1, 0, 0, 0, 1, 1, 0, 1, 0,\n",
       "       0, 1, 1, 0, 0, 1, 1, 0, 1, 1, 1, 0, 1, 0, 0, 1, 1, 0, 0, 0, 0, 1,\n",
       "       0, 1, 0, 0, 1, 1, 1, 1, 1, 0, 1, 0, 0, 1, 0, 1, 0, 1, 1, 0, 0, 1,\n",
       "       1, 1, 0, 0, 1, 1, 1, 0, 0, 0, 1, 0, 1, 0, 1, 0, 1, 0, 1, 0, 0, 1,\n",
       "       0, 1, 0, 1, 1, 1, 0, 1, 1, 1, 1, 0, 1, 0, 1, 0, 0, 1, 1, 1, 1, 0,\n",
       "       1, 1, 1, 0, 1, 0, 0, 1, 0, 1, 0, 1, 1, 0, 0, 1, 1, 0, 0, 0, 1, 1,\n",
       "       1, 1, 0, 1, 1, 1, 0, 0, 1, 1, 0, 1, 1, 1, 1, 0, 0, 1, 1, 0, 1, 0,\n",
       "       1, 0, 1, 1, 1, 1, 0, 1, 0, 0, 1, 0, 1, 0, 0, 1, 1, 0, 1, 1, 1, 1,\n",
       "       1, 1, 1, 1, 0, 0, 0, 0, 1, 1, 1, 0, 0, 1, 1, 0, 0, 1, 1, 0, 1, 0,\n",
       "       0, 0, 1, 0, 0, 1, 1, 1, 1, 1, 0, 0, 0, 1, 1, 0, 0, 1, 0, 0, 0, 1,\n",
       "       1, 0, 0, 0, 1, 1, 1, 1, 1, 0, 0, 0, 0, 0, 0, 0, 1, 0, 1, 1, 0, 0,\n",
       "       0, 0, 0, 1, 1, 0, 1, 1, 1, 1, 0, 1, 0, 1, 0, 1, 1, 0, 0, 0, 1, 1,\n",
       "       0, 0, 0, 1, 1, 0, 0, 0, 1, 0, 1, 0, 0, 0, 0, 0, 1, 0, 1, 0, 1, 1,\n",
       "       1, 1, 0, 1, 1, 0, 1, 1, 1, 1, 0, 1, 1, 1, 0, 0, 1, 1, 0, 1, 1, 1,\n",
       "       1, 1, 1, 1, 0, 1, 1, 0, 1, 1, 1, 0, 1, 1, 1, 1, 0, 1, 1, 0, 1, 0,\n",
       "       0, 0, 0, 1, 1, 1, 0, 0, 1, 1, 0, 1, 1, 0, 1, 0, 1, 1, 0, 1, 1, 0,\n",
       "       1, 0, 0, 1, 1, 1, 1, 0, 1, 0, 1, 1, 0, 0, 1, 0, 1, 1, 0, 0, 1, 1,\n",
       "       0, 0, 1, 0, 1, 1, 0, 0, 1, 0, 0, 1, 1, 1, 1, 1, 1, 0, 0, 0, 0, 1,\n",
       "       1, 0, 1, 1, 0, 1, 1, 0, 0, 0, 0, 0, 1, 0, 1, 1, 1, 0, 1, 1, 0, 1,\n",
       "       0, 0, 0, 1, 1, 1, 0, 1, 0, 0, 0, 1, 1], dtype=int64)"
      ]
     },
     "execution_count": 141,
     "metadata": {},
     "output_type": "execute_result"
    }
   ],
   "source": [
    "lg_p1=lg.predict(x1_te)\n",
    "lg_p1"
   ]
  },
  {
   "cell_type": "code",
   "execution_count": 142,
   "id": "bda9f446",
   "metadata": {},
   "outputs": [
    {
     "data": {
      "text/plain": [
       "array([[386,  23],\n",
       "       [ 55, 385]], dtype=int64)"
      ]
     },
     "execution_count": 142,
     "metadata": {},
     "output_type": "execute_result"
    }
   ],
   "source": [
    "lg_m1=confusion_matrix(lg_p1,y1_te)\n",
    "lg_m1"
   ]
  },
  {
   "cell_type": "code",
   "execution_count": 143,
   "id": "b862de87",
   "metadata": {},
   "outputs": [
    {
     "data": {
      "text/plain": [
       "90.81272084805654"
      ]
     },
     "execution_count": 143,
     "metadata": {},
     "output_type": "execute_result"
    }
   ],
   "source": [
    "lg_acc1=lg_m1.diagonal().sum()/lg_m1.sum()*100\n",
    "lg_acc1"
   ]
  },
  {
   "cell_type": "code",
   "execution_count": 144,
   "id": "66f9b2db",
   "metadata": {},
   "outputs": [
    {
     "name": "stdout",
     "output_type": "stream",
     "text": [
      "              precision    recall  f1-score   support\n",
      "\n",
      "           0       0.88      0.94      0.91       409\n",
      "           1       0.94      0.88      0.91       440\n",
      "\n",
      "    accuracy                           0.91       849\n",
      "   macro avg       0.91      0.91      0.91       849\n",
      "weighted avg       0.91      0.91      0.91       849\n",
      "\n"
     ]
    }
   ],
   "source": [
    "print(classification_report(lg_p1,y1_te))"
   ]
  },
  {
   "cell_type": "code",
   "execution_count": 145,
   "id": "ca087963",
   "metadata": {},
   "outputs": [
    {
     "data": {
      "text/plain": [
       "0.8752834467120182"
      ]
     },
     "execution_count": 145,
     "metadata": {},
     "output_type": "execute_result"
    }
   ],
   "source": [
    "#tpr=tp/(tp+fn)\n",
    "tpr8=386/(386+55)\n",
    "tpr8"
   ]
  },
  {
   "cell_type": "code",
   "execution_count": 146,
   "id": "f7fa4e7d",
   "metadata": {},
   "outputs": [
    {
     "data": {
      "text/plain": [
       "0.056372549019607844"
      ]
     },
     "execution_count": 146,
     "metadata": {},
     "output_type": "execute_result"
    }
   ],
   "source": [
    "#fpr=fp/(fp+tn)\n",
    "fpr8= 23/(23+385)\n",
    "fpr8"
   ]
  },
  {
   "cell_type": "code",
   "execution_count": 147,
   "id": "8c94099e",
   "metadata": {},
   "outputs": [
    {
     "data": {
      "text/plain": [
       "0.9437652811735942"
      ]
     },
     "execution_count": 147,
     "metadata": {},
     "output_type": "execute_result"
    }
   ],
   "source": [
    "#precision=tp/(tp+fp)\n",
    "precision8=386/(386+23)\n",
    "precision8"
   ]
  },
  {
   "cell_type": "code",
   "execution_count": 148,
   "id": "986a170f",
   "metadata": {},
   "outputs": [
    {
     "data": {
      "text/plain": [
       "0.9082352941176471"
      ]
     },
     "execution_count": 148,
     "metadata": {},
     "output_type": "execute_result"
    }
   ],
   "source": [
    "#f1-score=2(precision*recall)/(precision+recall)\n",
    "f1score8=(2*(precision8*tpr8))/(precision8+tpr8)\n",
    "f1score8\n"
   ]
  },
  {
   "cell_type": "markdown",
   "id": "707db624",
   "metadata": {},
   "source": [
    "# DecisionTree"
   ]
  },
  {
   "cell_type": "code",
   "execution_count": 149,
   "id": "35f06815",
   "metadata": {},
   "outputs": [],
   "source": [
    "from sklearn.tree import DecisionTreeClassifier\n",
    "dt=DecisionTreeClassifier()"
   ]
  },
  {
   "cell_type": "code",
   "execution_count": 150,
   "id": "99d3879d",
   "metadata": {},
   "outputs": [
    {
     "data": {
      "text/html": [
       "<style>#sk-container-id-10 {color: black;}#sk-container-id-10 pre{padding: 0;}#sk-container-id-10 div.sk-toggleable {background-color: white;}#sk-container-id-10 label.sk-toggleable__label {cursor: pointer;display: block;width: 100%;margin-bottom: 0;padding: 0.3em;box-sizing: border-box;text-align: center;}#sk-container-id-10 label.sk-toggleable__label-arrow:before {content: \"▸\";float: left;margin-right: 0.25em;color: #696969;}#sk-container-id-10 label.sk-toggleable__label-arrow:hover:before {color: black;}#sk-container-id-10 div.sk-estimator:hover label.sk-toggleable__label-arrow:before {color: black;}#sk-container-id-10 div.sk-toggleable__content {max-height: 0;max-width: 0;overflow: hidden;text-align: left;background-color: #f0f8ff;}#sk-container-id-10 div.sk-toggleable__content pre {margin: 0.2em;color: black;border-radius: 0.25em;background-color: #f0f8ff;}#sk-container-id-10 input.sk-toggleable__control:checked~div.sk-toggleable__content {max-height: 200px;max-width: 100%;overflow: auto;}#sk-container-id-10 input.sk-toggleable__control:checked~label.sk-toggleable__label-arrow:before {content: \"▾\";}#sk-container-id-10 div.sk-estimator input.sk-toggleable__control:checked~label.sk-toggleable__label {background-color: #d4ebff;}#sk-container-id-10 div.sk-label input.sk-toggleable__control:checked~label.sk-toggleable__label {background-color: #d4ebff;}#sk-container-id-10 input.sk-hidden--visually {border: 0;clip: rect(1px 1px 1px 1px);clip: rect(1px, 1px, 1px, 1px);height: 1px;margin: -1px;overflow: hidden;padding: 0;position: absolute;width: 1px;}#sk-container-id-10 div.sk-estimator {font-family: monospace;background-color: #f0f8ff;border: 1px dotted black;border-radius: 0.25em;box-sizing: border-box;margin-bottom: 0.5em;}#sk-container-id-10 div.sk-estimator:hover {background-color: #d4ebff;}#sk-container-id-10 div.sk-parallel-item::after {content: \"\";width: 100%;border-bottom: 1px solid gray;flex-grow: 1;}#sk-container-id-10 div.sk-label:hover label.sk-toggleable__label {background-color: #d4ebff;}#sk-container-id-10 div.sk-serial::before {content: \"\";position: absolute;border-left: 1px solid gray;box-sizing: border-box;top: 0;bottom: 0;left: 50%;z-index: 0;}#sk-container-id-10 div.sk-serial {display: flex;flex-direction: column;align-items: center;background-color: white;padding-right: 0.2em;padding-left: 0.2em;position: relative;}#sk-container-id-10 div.sk-item {position: relative;z-index: 1;}#sk-container-id-10 div.sk-parallel {display: flex;align-items: stretch;justify-content: center;background-color: white;position: relative;}#sk-container-id-10 div.sk-item::before, #sk-container-id-10 div.sk-parallel-item::before {content: \"\";position: absolute;border-left: 1px solid gray;box-sizing: border-box;top: 0;bottom: 0;left: 50%;z-index: -1;}#sk-container-id-10 div.sk-parallel-item {display: flex;flex-direction: column;z-index: 1;position: relative;background-color: white;}#sk-container-id-10 div.sk-parallel-item:first-child::after {align-self: flex-end;width: 50%;}#sk-container-id-10 div.sk-parallel-item:last-child::after {align-self: flex-start;width: 50%;}#sk-container-id-10 div.sk-parallel-item:only-child::after {width: 0;}#sk-container-id-10 div.sk-dashed-wrapped {border: 1px dashed gray;margin: 0 0.4em 0.5em 0.4em;box-sizing: border-box;padding-bottom: 0.4em;background-color: white;}#sk-container-id-10 div.sk-label label {font-family: monospace;font-weight: bold;display: inline-block;line-height: 1.2em;}#sk-container-id-10 div.sk-label-container {text-align: center;}#sk-container-id-10 div.sk-container {/* jupyter's `normalize.less` sets `[hidden] { display: none; }` but bootstrap.min.css set `[hidden] { display: none !important; }` so we also need the `!important` here to be able to override the default hidden behavior on the sphinx rendered scikit-learn.org. See: https://github.com/scikit-learn/scikit-learn/issues/21755 */display: inline-block !important;position: relative;}#sk-container-id-10 div.sk-text-repr-fallback {display: none;}</style><div id=\"sk-container-id-10\" class=\"sk-top-container\"><div class=\"sk-text-repr-fallback\"><pre>DecisionTreeClassifier()</pre><b>In a Jupyter environment, please rerun this cell to show the HTML representation or trust the notebook. <br />On GitHub, the HTML representation is unable to render, please try loading this page with nbviewer.org.</b></div><div class=\"sk-container\" hidden><div class=\"sk-item\"><div class=\"sk-estimator sk-toggleable\"><input class=\"sk-toggleable__control sk-hidden--visually\" id=\"sk-estimator-id-12\" type=\"checkbox\" checked><label for=\"sk-estimator-id-12\" class=\"sk-toggleable__label sk-toggleable__label-arrow\">DecisionTreeClassifier</label><div class=\"sk-toggleable__content\"><pre>DecisionTreeClassifier()</pre></div></div></div></div></div>"
      ],
      "text/plain": [
       "DecisionTreeClassifier()"
      ]
     },
     "execution_count": 150,
     "metadata": {},
     "output_type": "execute_result"
    }
   ],
   "source": [
    "dt.fit(x1_tr,y1_tr)"
   ]
  },
  {
   "cell_type": "code",
   "execution_count": 151,
   "id": "0649cc9d",
   "metadata": {},
   "outputs": [
    {
     "data": {
      "text/plain": [
       "array([1, 0, 1, 0, 1, 0, 0, 0, 0, 1, 0, 1, 1, 0, 0, 1, 1, 1, 1, 1, 1, 0,\n",
       "       0, 1, 0, 0, 0, 0, 1, 1, 1, 1, 1, 1, 0, 1, 1, 0, 0, 1, 0, 0, 1, 1,\n",
       "       1, 0, 0, 1, 0, 1, 0, 0, 0, 0, 0, 1, 1, 0, 0, 0, 1, 1, 0, 1, 0, 1,\n",
       "       0, 1, 1, 1, 0, 0, 1, 1, 0, 0, 0, 0, 1, 0, 1, 1, 1, 0, 1, 0, 1, 0,\n",
       "       0, 1, 1, 1, 0, 0, 1, 0, 0, 0, 0, 0, 1, 0, 1, 0, 0, 0, 1, 0, 0, 0,\n",
       "       1, 0, 0, 1, 1, 0, 0, 0, 0, 0, 0, 0, 1, 0, 0, 0, 1, 1, 1, 0, 1, 0,\n",
       "       0, 0, 0, 1, 1, 0, 1, 0, 0, 1, 1, 1, 0, 1, 1, 0, 1, 0, 0, 0, 1, 0,\n",
       "       0, 1, 0, 0, 0, 0, 1, 1, 1, 0, 0, 0, 1, 0, 0, 1, 0, 1, 0, 0, 0, 0,\n",
       "       0, 0, 0, 0, 1, 1, 1, 1, 1, 1, 1, 0, 0, 1, 1, 0, 0, 0, 0, 0, 0, 1,\n",
       "       1, 0, 0, 1, 0, 1, 0, 1, 1, 0, 1, 0, 0, 0, 1, 1, 0, 0, 1, 1, 0, 0,\n",
       "       1, 1, 1, 1, 0, 1, 1, 1, 1, 0, 0, 0, 1, 1, 0, 0, 1, 0, 0, 1, 0, 1,\n",
       "       1, 0, 1, 1, 0, 1, 1, 1, 0, 1, 0, 0, 1, 1, 1, 0, 1, 1, 0, 0, 0, 0,\n",
       "       1, 1, 0, 1, 1, 0, 0, 0, 0, 1, 0, 0, 1, 0, 1, 1, 0, 0, 1, 1, 0, 0,\n",
       "       0, 1, 1, 1, 0, 1, 0, 1, 0, 0, 1, 1, 0, 1, 1, 0, 1, 1, 0, 1, 1, 0,\n",
       "       1, 0, 1, 1, 1, 0, 0, 0, 1, 1, 1, 0, 0, 0, 1, 0, 1, 1, 0, 0, 1, 0,\n",
       "       0, 1, 1, 0, 0, 0, 1, 1, 1, 0, 0, 1, 1, 0, 0, 0, 0, 0, 1, 1, 1, 0,\n",
       "       1, 0, 0, 1, 1, 1, 0, 0, 0, 0, 0, 0, 0, 0, 0, 0, 0, 1, 1, 1, 1, 0,\n",
       "       1, 1, 1, 1, 1, 1, 0, 1, 1, 0, 1, 1, 0, 0, 0, 1, 1, 0, 0, 1, 0, 0,\n",
       "       1, 0, 1, 0, 1, 0, 0, 1, 0, 1, 0, 0, 0, 1, 0, 0, 1, 0, 0, 1, 0, 1,\n",
       "       0, 0, 1, 0, 1, 0, 1, 1, 0, 0, 0, 1, 1, 0, 0, 0, 0, 1, 1, 0, 1, 0,\n",
       "       0, 1, 1, 0, 0, 1, 1, 0, 1, 1, 1, 0, 1, 0, 0, 1, 1, 0, 1, 0, 0, 1,\n",
       "       0, 1, 0, 0, 1, 1, 1, 1, 1, 0, 1, 0, 0, 1, 0, 1, 0, 1, 1, 0, 0, 1,\n",
       "       1, 1, 0, 0, 1, 1, 1, 0, 0, 0, 1, 0, 1, 0, 1, 1, 1, 0, 0, 0, 0, 1,\n",
       "       0, 1, 0, 1, 1, 1, 0, 1, 1, 1, 1, 0, 1, 0, 1, 0, 0, 1, 1, 1, 0, 1,\n",
       "       0, 1, 1, 0, 0, 0, 0, 1, 0, 1, 1, 1, 0, 0, 0, 1, 1, 0, 0, 0, 0, 1,\n",
       "       1, 1, 0, 1, 1, 1, 0, 1, 1, 1, 0, 1, 1, 1, 1, 0, 0, 0, 1, 0, 1, 0,\n",
       "       1, 0, 1, 1, 1, 1, 0, 1, 0, 0, 0, 0, 1, 0, 0, 1, 1, 0, 1, 1, 0, 1,\n",
       "       1, 1, 1, 1, 0, 1, 0, 0, 1, 1, 0, 0, 1, 1, 0, 0, 0, 1, 1, 0, 1, 0,\n",
       "       0, 0, 1, 0, 0, 1, 0, 1, 1, 1, 0, 0, 0, 1, 1, 0, 0, 1, 0, 0, 0, 1,\n",
       "       1, 0, 0, 0, 1, 1, 1, 1, 1, 0, 0, 1, 0, 0, 0, 0, 1, 0, 1, 1, 0, 1,\n",
       "       0, 0, 0, 0, 1, 0, 1, 1, 1, 0, 0, 1, 0, 1, 0, 0, 0, 0, 0, 0, 0, 1,\n",
       "       1, 0, 0, 1, 1, 0, 0, 0, 1, 0, 0, 0, 0, 0, 0, 0, 1, 0, 1, 0, 1, 1,\n",
       "       1, 1, 0, 1, 1, 0, 1, 1, 0, 0, 1, 0, 1, 1, 0, 0, 0, 1, 0, 1, 1, 1,\n",
       "       1, 1, 1, 1, 0, 1, 1, 0, 1, 1, 1, 0, 1, 1, 1, 1, 0, 1, 1, 0, 1, 0,\n",
       "       0, 0, 0, 0, 1, 1, 0, 0, 1, 1, 1, 0, 1, 0, 1, 0, 1, 1, 0, 1, 1, 0,\n",
       "       1, 0, 0, 1, 1, 1, 1, 1, 1, 0, 1, 1, 0, 0, 0, 0, 1, 1, 0, 0, 1, 1,\n",
       "       0, 0, 1, 0, 1, 0, 0, 0, 1, 0, 0, 1, 1, 1, 0, 0, 0, 0, 0, 0, 0, 1,\n",
       "       1, 0, 1, 1, 0, 1, 1, 0, 0, 0, 0, 0, 1, 0, 1, 1, 1, 0, 0, 1, 1, 1,\n",
       "       0, 0, 0, 1, 1, 1, 0, 1, 0, 0, 0, 1, 1], dtype=int64)"
      ]
     },
     "execution_count": 151,
     "metadata": {},
     "output_type": "execute_result"
    }
   ],
   "source": [
    "dt_p1=dt.predict(x1_te)\n",
    "dt_p1"
   ]
  },
  {
   "cell_type": "code",
   "execution_count": 152,
   "id": "285f91a2",
   "metadata": {},
   "outputs": [
    {
     "data": {
      "text/plain": [
       "array([[435,   1],\n",
       "       [  6, 407]], dtype=int64)"
      ]
     },
     "execution_count": 152,
     "metadata": {},
     "output_type": "execute_result"
    }
   ],
   "source": [
    "dt_m1=confusion_matrix(dt_p1,y1_te)\n",
    "dt_m1"
   ]
  },
  {
   "cell_type": "code",
   "execution_count": 153,
   "id": "259b6e0c",
   "metadata": {},
   "outputs": [
    {
     "data": {
      "text/plain": [
       "99.17550058892816"
      ]
     },
     "execution_count": 153,
     "metadata": {},
     "output_type": "execute_result"
    }
   ],
   "source": [
    "dt_acc1=dt_m1.diagonal().sum()/dt_m1.sum()*100\n",
    "dt_acc1"
   ]
  },
  {
   "cell_type": "code",
   "execution_count": 154,
   "id": "08d13e09",
   "metadata": {},
   "outputs": [
    {
     "name": "stdout",
     "output_type": "stream",
     "text": [
      "              precision    recall  f1-score   support\n",
      "\n",
      "           0       0.99      1.00      0.99       436\n",
      "           1       1.00      0.99      0.99       413\n",
      "\n",
      "    accuracy                           0.99       849\n",
      "   macro avg       0.99      0.99      0.99       849\n",
      "weighted avg       0.99      0.99      0.99       849\n",
      "\n"
     ]
    }
   ],
   "source": [
    "print(classification_report(dt_p1,y1_te))"
   ]
  },
  {
   "cell_type": "code",
   "execution_count": 155,
   "id": "4b79c453",
   "metadata": {},
   "outputs": [
    {
     "data": {
      "text/plain": [
       "0.9863945578231292"
      ]
     },
     "execution_count": 155,
     "metadata": {},
     "output_type": "execute_result"
    }
   ],
   "source": [
    "#tpr=tp/(tp+fn)\n",
    "tpr9=435/(435+6)\n",
    "tpr9"
   ]
  },
  {
   "cell_type": "code",
   "execution_count": 156,
   "id": "5e4259f8",
   "metadata": {},
   "outputs": [
    {
     "data": {
      "text/plain": [
       "0.0024509803921568627"
      ]
     },
     "execution_count": 156,
     "metadata": {},
     "output_type": "execute_result"
    }
   ],
   "source": [
    "#fpr=fp/(fp+tn)\n",
    "fpr9= 1/(1+ 407)\n",
    "fpr9"
   ]
  },
  {
   "cell_type": "code",
   "execution_count": 157,
   "id": "59279ed7",
   "metadata": {},
   "outputs": [
    {
     "data": {
      "text/plain": [
       "0.9977064220183486"
      ]
     },
     "execution_count": 157,
     "metadata": {},
     "output_type": "execute_result"
    }
   ],
   "source": [
    "#precision=tp/(tp+fp)\n",
    "precision9=435/(435+1)\n",
    "precision9"
   ]
  },
  {
   "cell_type": "code",
   "execution_count": 158,
   "id": "d95cba8b",
   "metadata": {},
   "outputs": [
    {
     "data": {
      "text/plain": [
       "0.9920182440136829"
      ]
     },
     "execution_count": 158,
     "metadata": {},
     "output_type": "execute_result"
    }
   ],
   "source": [
    "#f1-score=2(precision*recall)/(precision+recall)\n",
    "f1score9=(2*(precision9*tpr9))/(precision9+tpr9)\n",
    "f1score9"
   ]
  },
  {
   "cell_type": "code",
   "execution_count": 250,
   "id": "6cdfed74",
   "metadata": {},
   "outputs": [],
   "source": [
    "fpr9,tpr9,threshold9=roc_curve(y1_te,dt_p1)"
   ]
  },
  {
   "cell_type": "code",
   "execution_count": 251,
   "id": "21f1dc62",
   "metadata": {},
   "outputs": [
    {
     "data": {
      "text/plain": [
       "[<matplotlib.lines.Line2D at 0x142268a7390>]"
      ]
     },
     "execution_count": 251,
     "metadata": {},
     "output_type": "execute_result"
    },
    {
     "data": {
      "image/png": "[encoded data removed]",
      "text/plain": [
       "<Figure size 640x480 with 1 Axes>"
      ]
     },
     "metadata": {},
     "output_type": "display_data"
    }
   ],
   "source": [
    "plt.title(\"AUC-ROC Curve\")\n",
    "plt.xlabel(\"FPR\")\n",
    "plt.ylabel(\"TPR\")\n",
    "plt.plot(fpr9,tpr9)"
   ]
  },
  {
   "cell_type": "markdown",
   "id": "3928650b",
   "metadata": {},
   "source": [
    "# RandomForest"
   ]
  },
  {
   "cell_type": "code",
   "execution_count": 171,
   "id": "d14f5a9d",
   "metadata": {},
   "outputs": [],
   "source": [
    "from sklearn.ensemble import RandomForestClassifier\n",
    "rf=RandomForestClassifier()"
   ]
  },
  {
   "cell_type": "code",
   "execution_count": 172,
   "id": "32151855",
   "metadata": {},
   "outputs": [
    {
     "data": {
      "text/html": [
       "<style>#sk-container-id-11 {color: black;}#sk-container-id-11 pre{padding: 0;}#sk-container-id-11 div.sk-toggleable {background-color: white;}#sk-container-id-11 label.sk-toggleable__label {cursor: pointer;display: block;width: 100%;margin-bottom: 0;padding: 0.3em;box-sizing: border-box;text-align: center;}#sk-container-id-11 label.sk-toggleable__label-arrow:before {content: \"▸\";float: left;margin-right: 0.25em;color: #696969;}#sk-container-id-11 label.sk-toggleable__label-arrow:hover:before {color: black;}#sk-container-id-11 div.sk-estimator:hover label.sk-toggleable__label-arrow:before {color: black;}#sk-container-id-11 div.sk-toggleable__content {max-height: 0;max-width: 0;overflow: hidden;text-align: left;background-color: #f0f8ff;}#sk-container-id-11 div.sk-toggleable__content pre {margin: 0.2em;color: black;border-radius: 0.25em;background-color: #f0f8ff;}#sk-container-id-11 input.sk-toggleable__control:checked~div.sk-toggleable__content {max-height: 200px;max-width: 100%;overflow: auto;}#sk-container-id-11 input.sk-toggleable__control:checked~label.sk-toggleable__label-arrow:before {content: \"▾\";}#sk-container-id-11 div.sk-estimator input.sk-toggleable__control:checked~label.sk-toggleable__label {background-color: #d4ebff;}#sk-container-id-11 div.sk-label input.sk-toggleable__control:checked~label.sk-toggleable__label {background-color: #d4ebff;}#sk-container-id-11 input.sk-hidden--visually {border: 0;clip: rect(1px 1px 1px 1px);clip: rect(1px, 1px, 1px, 1px);height: 1px;margin: -1px;overflow: hidden;padding: 0;position: absolute;width: 1px;}#sk-container-id-11 div.sk-estimator {font-family: monospace;background-color: #f0f8ff;border: 1px dotted black;border-radius: 0.25em;box-sizing: border-box;margin-bottom: 0.5em;}#sk-container-id-11 div.sk-estimator:hover {background-color: #d4ebff;}#sk-container-id-11 div.sk-parallel-item::after {content: \"\";width: 100%;border-bottom: 1px solid gray;flex-grow: 1;}#sk-container-id-11 div.sk-label:hover label.sk-toggleable__label {background-color: #d4ebff;}#sk-container-id-11 div.sk-serial::before {content: \"\";position: absolute;border-left: 1px solid gray;box-sizing: border-box;top: 0;bottom: 0;left: 50%;z-index: 0;}#sk-container-id-11 div.sk-serial {display: flex;flex-direction: column;align-items: center;background-color: white;padding-right: 0.2em;padding-left: 0.2em;position: relative;}#sk-container-id-11 div.sk-item {position: relative;z-index: 1;}#sk-container-id-11 div.sk-parallel {display: flex;align-items: stretch;justify-content: center;background-color: white;position: relative;}#sk-container-id-11 div.sk-item::before, #sk-container-id-11 div.sk-parallel-item::before {content: \"\";position: absolute;border-left: 1px solid gray;box-sizing: border-box;top: 0;bottom: 0;left: 50%;z-index: -1;}#sk-container-id-11 div.sk-parallel-item {display: flex;flex-direction: column;z-index: 1;position: relative;background-color: white;}#sk-container-id-11 div.sk-parallel-item:first-child::after {align-self: flex-end;width: 50%;}#sk-container-id-11 div.sk-parallel-item:last-child::after {align-self: flex-start;width: 50%;}#sk-container-id-11 div.sk-parallel-item:only-child::after {width: 0;}#sk-container-id-11 div.sk-dashed-wrapped {border: 1px dashed gray;margin: 0 0.4em 0.5em 0.4em;box-sizing: border-box;padding-bottom: 0.4em;background-color: white;}#sk-container-id-11 div.sk-label label {font-family: monospace;font-weight: bold;display: inline-block;line-height: 1.2em;}#sk-container-id-11 div.sk-label-container {text-align: center;}#sk-container-id-11 div.sk-container {/* jupyter's `normalize.less` sets `[hidden] { display: none; }` but bootstrap.min.css set `[hidden] { display: none !important; }` so we also need the `!important` here to be able to override the default hidden behavior on the sphinx rendered scikit-learn.org. See: https://github.com/scikit-learn/scikit-learn/issues/21755 */display: inline-block !important;position: relative;}#sk-container-id-11 div.sk-text-repr-fallback {display: none;}</style><div id=\"sk-container-id-11\" class=\"sk-top-container\"><div class=\"sk-text-repr-fallback\"><pre>RandomForestClassifier()</pre><b>In a Jupyter environment, please rerun this cell to show the HTML representation or trust the notebook. <br />On GitHub, the HTML representation is unable to render, please try loading this page with nbviewer.org.</b></div><div class=\"sk-container\" hidden><div class=\"sk-item\"><div class=\"sk-estimator sk-toggleable\"><input class=\"sk-toggleable__control sk-hidden--visually\" id=\"sk-estimator-id-13\" type=\"checkbox\" checked><label for=\"sk-estimator-id-13\" class=\"sk-toggleable__label sk-toggleable__label-arrow\">RandomForestClassifier</label><div class=\"sk-toggleable__content\"><pre>RandomForestClassifier()</pre></div></div></div></div></div>"
      ],
      "text/plain": [
       "RandomForestClassifier()"
      ]
     },
     "execution_count": 172,
     "metadata": {},
     "output_type": "execute_result"
    }
   ],
   "source": [
    "rf.fit(x1_tr,y1_tr)"
   ]
  },
  {
   "cell_type": "code",
   "execution_count": 173,
   "id": "694cdb64",
   "metadata": {},
   "outputs": [
    {
     "data": {
      "text/plain": [
       "array([1, 0, 1, 0, 1, 0, 0, 0, 0, 1, 0, 1, 1, 0, 0, 1, 1, 1, 1, 1, 1, 0,\n",
       "       0, 1, 0, 0, 0, 0, 1, 1, 1, 1, 1, 1, 0, 1, 1, 0, 0, 1, 1, 0, 1, 1,\n",
       "       1, 0, 0, 1, 0, 1, 0, 0, 0, 0, 0, 1, 1, 0, 1, 0, 1, 1, 0, 1, 0, 1,\n",
       "       0, 1, 1, 1, 0, 0, 1, 1, 0, 0, 0, 0, 1, 0, 1, 1, 1, 0, 1, 0, 1, 0,\n",
       "       0, 1, 1, 1, 0, 0, 1, 0, 0, 0, 0, 0, 1, 0, 1, 0, 0, 0, 1, 0, 0, 0,\n",
       "       1, 0, 0, 1, 1, 0, 0, 0, 0, 0, 0, 0, 1, 0, 0, 0, 1, 1, 1, 0, 1, 0,\n",
       "       0, 0, 1, 1, 1, 0, 1, 0, 0, 1, 1, 1, 0, 1, 1, 0, 1, 0, 0, 0, 1, 0,\n",
       "       0, 1, 0, 0, 0, 0, 1, 1, 1, 0, 0, 0, 1, 0, 0, 1, 0, 1, 0, 0, 0, 0,\n",
       "       0, 0, 0, 0, 1, 1, 1, 1, 1, 1, 1, 0, 0, 1, 1, 0, 0, 0, 0, 0, 0, 1,\n",
       "       1, 0, 0, 1, 1, 1, 0, 1, 1, 0, 1, 0, 0, 0, 1, 1, 0, 0, 1, 1, 0, 0,\n",
       "       1, 1, 1, 1, 0, 1, 1, 1, 1, 0, 0, 0, 1, 1, 0, 0, 1, 0, 0, 1, 1, 1,\n",
       "       1, 0, 1, 1, 0, 1, 1, 1, 0, 1, 0, 1, 1, 1, 1, 0, 1, 1, 0, 0, 0, 0,\n",
       "       1, 1, 0, 1, 1, 0, 0, 0, 0, 1, 0, 0, 1, 0, 1, 1, 0, 0, 1, 1, 0, 0,\n",
       "       0, 1, 1, 1, 0, 1, 0, 1, 0, 0, 1, 1, 0, 1, 1, 0, 1, 1, 0, 1, 1, 0,\n",
       "       1, 0, 1, 1, 1, 0, 0, 0, 1, 1, 1, 0, 0, 0, 1, 0, 1, 1, 0, 0, 1, 0,\n",
       "       0, 1, 1, 0, 0, 0, 1, 1, 1, 0, 0, 1, 1, 0, 0, 0, 0, 0, 1, 1, 1, 0,\n",
       "       1, 0, 1, 1, 1, 1, 0, 0, 0, 0, 0, 0, 0, 0, 0, 0, 0, 1, 1, 1, 1, 0,\n",
       "       1, 1, 1, 1, 1, 1, 0, 0, 1, 0, 1, 1, 0, 0, 0, 1, 1, 0, 0, 1, 0, 0,\n",
       "       1, 0, 1, 0, 1, 0, 0, 1, 0, 0, 0, 0, 0, 1, 0, 0, 1, 0, 0, 1, 0, 1,\n",
       "       0, 0, 1, 0, 1, 0, 1, 1, 0, 0, 0, 1, 1, 1, 0, 0, 0, 1, 1, 0, 1, 0,\n",
       "       0, 1, 1, 0, 0, 1, 1, 0, 1, 1, 1, 0, 1, 0, 0, 1, 1, 0, 0, 0, 0, 1,\n",
       "       0, 1, 0, 0, 1, 1, 1, 1, 1, 0, 1, 0, 0, 1, 0, 1, 0, 1, 1, 0, 0, 1,\n",
       "       1, 1, 0, 0, 1, 1, 1, 0, 0, 0, 1, 0, 1, 0, 1, 1, 1, 0, 0, 0, 0, 1,\n",
       "       0, 1, 0, 1, 1, 1, 0, 1, 1, 1, 1, 0, 1, 0, 1, 0, 0, 1, 1, 1, 0, 1,\n",
       "       0, 1, 1, 0, 0, 0, 0, 1, 0, 1, 1, 1, 0, 0, 0, 1, 1, 0, 0, 0, 0, 1,\n",
       "       1, 1, 0, 1, 1, 1, 0, 1, 1, 1, 0, 1, 1, 1, 1, 0, 0, 0, 1, 0, 1, 0,\n",
       "       1, 0, 1, 1, 1, 1, 0, 1, 0, 0, 0, 0, 1, 0, 0, 1, 1, 0, 1, 1, 0, 1,\n",
       "       1, 1, 1, 1, 0, 1, 0, 0, 1, 1, 0, 0, 1, 1, 0, 0, 0, 1, 1, 0, 1, 0,\n",
       "       0, 0, 1, 0, 0, 1, 1, 1, 1, 1, 0, 0, 0, 1, 1, 0, 0, 1, 0, 0, 0, 1,\n",
       "       1, 0, 0, 0, 1, 1, 1, 1, 1, 0, 0, 1, 0, 0, 0, 0, 1, 0, 1, 1, 0, 1,\n",
       "       0, 0, 0, 1, 1, 0, 1, 1, 1, 0, 0, 1, 0, 1, 0, 0, 0, 0, 0, 0, 0, 1,\n",
       "       1, 0, 0, 1, 1, 0, 0, 0, 1, 0, 1, 0, 0, 0, 0, 0, 1, 0, 1, 0, 1, 1,\n",
       "       1, 1, 0, 1, 1, 0, 1, 1, 0, 0, 1, 0, 1, 1, 0, 0, 0, 1, 0, 1, 1, 1,\n",
       "       1, 1, 1, 1, 0, 1, 1, 0, 1, 1, 1, 0, 1, 1, 1, 1, 0, 1, 1, 0, 1, 0,\n",
       "       0, 0, 0, 0, 1, 1, 0, 0, 1, 1, 1, 0, 1, 0, 1, 0, 1, 1, 0, 1, 1, 0,\n",
       "       1, 0, 0, 1, 1, 1, 1, 1, 1, 0, 1, 1, 0, 0, 0, 0, 1, 1, 0, 0, 1, 1,\n",
       "       0, 0, 1, 0, 1, 0, 0, 0, 1, 0, 0, 1, 1, 1, 0, 1, 0, 0, 0, 0, 0, 1,\n",
       "       1, 0, 1, 1, 0, 1, 1, 0, 0, 0, 0, 0, 1, 0, 1, 1, 1, 0, 0, 1, 1, 1,\n",
       "       0, 0, 0, 1, 1, 1, 0, 1, 0, 0, 0, 1, 1], dtype=int64)"
      ]
     },
     "execution_count": 173,
     "metadata": {},
     "output_type": "execute_result"
    }
   ],
   "source": [
    "rf_pre1=rf.predict(x1_te)\n",
    "rf_pre1"
   ]
  },
  {
   "cell_type": "code",
   "execution_count": 174,
   "id": "eb893deb",
   "metadata": {},
   "outputs": [
    {
     "data": {
      "text/plain": [
       "array([[427,   0],\n",
       "       [ 14, 408]], dtype=int64)"
      ]
     },
     "execution_count": 174,
     "metadata": {},
     "output_type": "execute_result"
    }
   ],
   "source": [
    "rf_mat1=confusion_matrix(rf_pre1,y1_te)\n",
    "rf_mat1"
   ]
  },
  {
   "cell_type": "code",
   "execution_count": 175,
   "id": "ef526c88",
   "metadata": {},
   "outputs": [
    {
     "data": {
      "text/plain": [
       "98.3510011778563"
      ]
     },
     "execution_count": 175,
     "metadata": {},
     "output_type": "execute_result"
    }
   ],
   "source": [
    "rf_acc1=rf_mat1.diagonal().sum()/rf_mat1.sum()*100\n",
    "rf_acc1"
   ]
  },
  {
   "cell_type": "code",
   "execution_count": 176,
   "id": "ff1c4ee6",
   "metadata": {},
   "outputs": [
    {
     "name": "stdout",
     "output_type": "stream",
     "text": [
      "              precision    recall  f1-score   support\n",
      "\n",
      "           0       0.97      1.00      0.98       427\n",
      "           1       1.00      0.97      0.98       422\n",
      "\n",
      "    accuracy                           0.98       849\n",
      "   macro avg       0.98      0.98      0.98       849\n",
      "weighted avg       0.98      0.98      0.98       849\n",
      "\n"
     ]
    }
   ],
   "source": [
    "print(classification_report (rf_pre1,y1_te))"
   ]
  },
  {
   "cell_type": "code",
   "execution_count": 177,
   "id": "09e09bfe",
   "metadata": {},
   "outputs": [
    {
     "data": {
      "text/plain": [
       "0.9682539682539683"
      ]
     },
     "execution_count": 177,
     "metadata": {},
     "output_type": "execute_result"
    }
   ],
   "source": [
    "#tpr=tp/(tp+fn)\n",
    "tpr10=427/(427+14)\n",
    "tpr10"
   ]
  },
  {
   "cell_type": "code",
   "execution_count": 178,
   "id": "f1012f5d",
   "metadata": {},
   "outputs": [
    {
     "data": {
      "text/plain": [
       "0.0"
      ]
     },
     "execution_count": 178,
     "metadata": {},
     "output_type": "execute_result"
    }
   ],
   "source": [
    "#fpr=fp/(fp+tn)\n",
    "fpr10= 0/(0+ 408)\n",
    "fpr10"
   ]
  },
  {
   "cell_type": "code",
   "execution_count": 179,
   "id": "f8f2f44c",
   "metadata": {},
   "outputs": [
    {
     "data": {
      "text/plain": [
       "1.0"
      ]
     },
     "execution_count": 179,
     "metadata": {},
     "output_type": "execute_result"
    }
   ],
   "source": [
    "#precision=tp/(tp+fp)\n",
    "precision10=427/(427+0)\n",
    "precision10"
   ]
  },
  {
   "cell_type": "code",
   "execution_count": 180,
   "id": "3fa74d1a",
   "metadata": {},
   "outputs": [
    {
     "data": {
      "text/plain": [
       "0.9838709677419354"
      ]
     },
     "execution_count": 180,
     "metadata": {},
     "output_type": "execute_result"
    }
   ],
   "source": [
    "#f1-score=2(precision*recall)/(precision+recall)\n",
    "f1score10=(2*(precision10*tpr10))/(precision10+tpr10)\n",
    "f1score10"
   ]
  },
  {
   "cell_type": "markdown",
   "id": "51caacc0",
   "metadata": {},
   "source": [
    "# naive_bayes"
   ]
  },
  {
   "cell_type": "code",
   "execution_count": 181,
   "id": "8e733715",
   "metadata": {},
   "outputs": [],
   "source": [
    "from sklearn.naive_bayes import MultinomialNB\n",
    "nb=MultinomialNB()"
   ]
  },
  {
   "cell_type": "code",
   "execution_count": 182,
   "id": "c033d27d",
   "metadata": {},
   "outputs": [
    {
     "data": {
      "text/html": [
       "<style>#sk-container-id-12 {color: black;}#sk-container-id-12 pre{padding: 0;}#sk-container-id-12 div.sk-toggleable {background-color: white;}#sk-container-id-12 label.sk-toggleable__label {cursor: pointer;display: block;width: 100%;margin-bottom: 0;padding: 0.3em;box-sizing: border-box;text-align: center;}#sk-container-id-12 label.sk-toggleable__label-arrow:before {content: \"▸\";float: left;margin-right: 0.25em;color: #696969;}#sk-container-id-12 label.sk-toggleable__label-arrow:hover:before {color: black;}#sk-container-id-12 div.sk-estimator:hover label.sk-toggleable__label-arrow:before {color: black;}#sk-container-id-12 div.sk-toggleable__content {max-height: 0;max-width: 0;overflow: hidden;text-align: left;background-color: #f0f8ff;}#sk-container-id-12 div.sk-toggleable__content pre {margin: 0.2em;color: black;border-radius: 0.25em;background-color: #f0f8ff;}#sk-container-id-12 input.sk-toggleable__control:checked~div.sk-toggleable__content {max-height: 200px;max-width: 100%;overflow: auto;}#sk-container-id-12 input.sk-toggleable__control:checked~label.sk-toggleable__label-arrow:before {content: \"▾\";}#sk-container-id-12 div.sk-estimator input.sk-toggleable__control:checked~label.sk-toggleable__label {background-color: #d4ebff;}#sk-container-id-12 div.sk-label input.sk-toggleable__control:checked~label.sk-toggleable__label {background-color: #d4ebff;}#sk-container-id-12 input.sk-hidden--visually {border: 0;clip: rect(1px 1px 1px 1px);clip: rect(1px, 1px, 1px, 1px);height: 1px;margin: -1px;overflow: hidden;padding: 0;position: absolute;width: 1px;}#sk-container-id-12 div.sk-estimator {font-family: monospace;background-color: #f0f8ff;border: 1px dotted black;border-radius: 0.25em;box-sizing: border-box;margin-bottom: 0.5em;}#sk-container-id-12 div.sk-estimator:hover {background-color: #d4ebff;}#sk-container-id-12 div.sk-parallel-item::after {content: \"\";width: 100%;border-bottom: 1px solid gray;flex-grow: 1;}#sk-container-id-12 div.sk-label:hover label.sk-toggleable__label {background-color: #d4ebff;}#sk-container-id-12 div.sk-serial::before {content: \"\";position: absolute;border-left: 1px solid gray;box-sizing: border-box;top: 0;bottom: 0;left: 50%;z-index: 0;}#sk-container-id-12 div.sk-serial {display: flex;flex-direction: column;align-items: center;background-color: white;padding-right: 0.2em;padding-left: 0.2em;position: relative;}#sk-container-id-12 div.sk-item {position: relative;z-index: 1;}#sk-container-id-12 div.sk-parallel {display: flex;align-items: stretch;justify-content: center;background-color: white;position: relative;}#sk-container-id-12 div.sk-item::before, #sk-container-id-12 div.sk-parallel-item::before {content: \"\";position: absolute;border-left: 1px solid gray;box-sizing: border-box;top: 0;bottom: 0;left: 50%;z-index: -1;}#sk-container-id-12 div.sk-parallel-item {display: flex;flex-direction: column;z-index: 1;position: relative;background-color: white;}#sk-container-id-12 div.sk-parallel-item:first-child::after {align-self: flex-end;width: 50%;}#sk-container-id-12 div.sk-parallel-item:last-child::after {align-self: flex-start;width: 50%;}#sk-container-id-12 div.sk-parallel-item:only-child::after {width: 0;}#sk-container-id-12 div.sk-dashed-wrapped {border: 1px dashed gray;margin: 0 0.4em 0.5em 0.4em;box-sizing: border-box;padding-bottom: 0.4em;background-color: white;}#sk-container-id-12 div.sk-label label {font-family: monospace;font-weight: bold;display: inline-block;line-height: 1.2em;}#sk-container-id-12 div.sk-label-container {text-align: center;}#sk-container-id-12 div.sk-container {/* jupyter's `normalize.less` sets `[hidden] { display: none; }` but bootstrap.min.css set `[hidden] { display: none !important; }` so we also need the `!important` here to be able to override the default hidden behavior on the sphinx rendered scikit-learn.org. See: https://github.com/scikit-learn/scikit-learn/issues/21755 */display: inline-block !important;position: relative;}#sk-container-id-12 div.sk-text-repr-fallback {display: none;}</style><div id=\"sk-container-id-12\" class=\"sk-top-container\"><div class=\"sk-text-repr-fallback\"><pre>MultinomialNB()</pre><b>In a Jupyter environment, please rerun this cell to show the HTML representation or trust the notebook. <br />On GitHub, the HTML representation is unable to render, please try loading this page with nbviewer.org.</b></div><div class=\"sk-container\" hidden><div class=\"sk-item\"><div class=\"sk-estimator sk-toggleable\"><input class=\"sk-toggleable__control sk-hidden--visually\" id=\"sk-estimator-id-14\" type=\"checkbox\" checked><label for=\"sk-estimator-id-14\" class=\"sk-toggleable__label sk-toggleable__label-arrow\">MultinomialNB</label><div class=\"sk-toggleable__content\"><pre>MultinomialNB()</pre></div></div></div></div></div>"
      ],
      "text/plain": [
       "MultinomialNB()"
      ]
     },
     "execution_count": 182,
     "metadata": {},
     "output_type": "execute_result"
    }
   ],
   "source": [
    "nb.fit(x1_tr,y1_tr)"
   ]
  },
  {
   "cell_type": "code",
   "execution_count": 183,
   "id": "bcc0b122",
   "metadata": {},
   "outputs": [],
   "source": [
    "nb_p1=nb.predict(x1_te)"
   ]
  },
  {
   "cell_type": "code",
   "execution_count": 184,
   "id": "64fbc19e",
   "metadata": {},
   "outputs": [
    {
     "data": {
      "text/plain": [
       "array([[344,  63],\n",
       "       [ 97, 345]], dtype=int64)"
      ]
     },
     "execution_count": 184,
     "metadata": {},
     "output_type": "execute_result"
    }
   ],
   "source": [
    "nb_m1=confusion_matrix(nb_p1,y1_te)\n",
    "nb_m1"
   ]
  },
  {
   "cell_type": "code",
   "execution_count": 185,
   "id": "105eed20",
   "metadata": {},
   "outputs": [
    {
     "data": {
      "text/plain": [
       "81.15429917550058"
      ]
     },
     "execution_count": 185,
     "metadata": {},
     "output_type": "execute_result"
    }
   ],
   "source": [
    "nb_acc1=nb_m1.diagonal().sum()/nb_m1.sum()*100\n",
    "nb_acc1"
   ]
  },
  {
   "cell_type": "code",
   "execution_count": 186,
   "id": "19039d81",
   "metadata": {},
   "outputs": [
    {
     "name": "stdout",
     "output_type": "stream",
     "text": [
      "              precision    recall  f1-score   support\n",
      "\n",
      "           0       0.78      0.85      0.81       407\n",
      "           1       0.85      0.78      0.81       442\n",
      "\n",
      "    accuracy                           0.81       849\n",
      "   macro avg       0.81      0.81      0.81       849\n",
      "weighted avg       0.81      0.81      0.81       849\n",
      "\n"
     ]
    }
   ],
   "source": [
    "print(classification_report(nb_p1,y1_te))"
   ]
  },
  {
   "cell_type": "code",
   "execution_count": 187,
   "id": "2cc29e07",
   "metadata": {},
   "outputs": [
    {
     "data": {
      "text/plain": [
       "0.780045351473923"
      ]
     },
     "execution_count": 187,
     "metadata": {},
     "output_type": "execute_result"
    }
   ],
   "source": [
    "#tpr=tp/(tp+fn)\n",
    "tpr11=344/(344+97)\n",
    "tpr11"
   ]
  },
  {
   "cell_type": "code",
   "execution_count": 188,
   "id": "d952a49b",
   "metadata": {},
   "outputs": [
    {
     "data": {
      "text/plain": [
       "0.15441176470588236"
      ]
     },
     "execution_count": 188,
     "metadata": {},
     "output_type": "execute_result"
    }
   ],
   "source": [
    "#fpr=fp/(fp+tn)\n",
    "fpr11= 63/(63+345)\n",
    "fpr11"
   ]
  },
  {
   "cell_type": "code",
   "execution_count": 189,
   "id": "6220a7c9",
   "metadata": {},
   "outputs": [
    {
     "data": {
      "text/plain": [
       "0.8452088452088452"
      ]
     },
     "execution_count": 189,
     "metadata": {},
     "output_type": "execute_result"
    }
   ],
   "source": [
    "#precision=tp/(tp+fp)\n",
    "precision11=344/(344+63)\n",
    "precision11"
   ]
  },
  {
   "cell_type": "code",
   "execution_count": 190,
   "id": "68ffd983",
   "metadata": {},
   "outputs": [
    {
     "data": {
      "text/plain": [
       "0.8113207547169811"
      ]
     },
     "execution_count": 190,
     "metadata": {},
     "output_type": "execute_result"
    }
   ],
   "source": [
    "#f1-score=2(precision*recall)/(precision+recall)\n",
    "f1score11=(2*(precision11*tpr11))/(precision11+tpr11)\n",
    "f1score11"
   ]
  },
  {
   "cell_type": "markdown",
   "id": "5ba21788",
   "metadata": {},
   "source": [
    "# Svm"
   ]
  },
  {
   "cell_type": "code",
   "execution_count": 191,
   "id": "eb89a7ff",
   "metadata": {},
   "outputs": [],
   "source": [
    "#svm\n",
    "from sklearn.svm import SVC\n",
    "svc=SVC()"
   ]
  },
  {
   "cell_type": "code",
   "execution_count": 192,
   "id": "090b0096",
   "metadata": {},
   "outputs": [
    {
     "data": {
      "text/html": [
       "<style>#sk-container-id-13 {color: black;}#sk-container-id-13 pre{padding: 0;}#sk-container-id-13 div.sk-toggleable {background-color: white;}#sk-container-id-13 label.sk-toggleable__label {cursor: pointer;display: block;width: 100%;margin-bottom: 0;padding: 0.3em;box-sizing: border-box;text-align: center;}#sk-container-id-13 label.sk-toggleable__label-arrow:before {content: \"▸\";float: left;margin-right: 0.25em;color: #696969;}#sk-container-id-13 label.sk-toggleable__label-arrow:hover:before {color: black;}#sk-container-id-13 div.sk-estimator:hover label.sk-toggleable__label-arrow:before {color: black;}#sk-container-id-13 div.sk-toggleable__content {max-height: 0;max-width: 0;overflow: hidden;text-align: left;background-color: #f0f8ff;}#sk-container-id-13 div.sk-toggleable__content pre {margin: 0.2em;color: black;border-radius: 0.25em;background-color: #f0f8ff;}#sk-container-id-13 input.sk-toggleable__control:checked~div.sk-toggleable__content {max-height: 200px;max-width: 100%;overflow: auto;}#sk-container-id-13 input.sk-toggleable__control:checked~label.sk-toggleable__label-arrow:before {content: \"▾\";}#sk-container-id-13 div.sk-estimator input.sk-toggleable__control:checked~label.sk-toggleable__label {background-color: #d4ebff;}#sk-container-id-13 div.sk-label input.sk-toggleable__control:checked~label.sk-toggleable__label {background-color: #d4ebff;}#sk-container-id-13 input.sk-hidden--visually {border: 0;clip: rect(1px 1px 1px 1px);clip: rect(1px, 1px, 1px, 1px);height: 1px;margin: -1px;overflow: hidden;padding: 0;position: absolute;width: 1px;}#sk-container-id-13 div.sk-estimator {font-family: monospace;background-color: #f0f8ff;border: 1px dotted black;border-radius: 0.25em;box-sizing: border-box;margin-bottom: 0.5em;}#sk-container-id-13 div.sk-estimator:hover {background-color: #d4ebff;}#sk-container-id-13 div.sk-parallel-item::after {content: \"\";width: 100%;border-bottom: 1px solid gray;flex-grow: 1;}#sk-container-id-13 div.sk-label:hover label.sk-toggleable__label {background-color: #d4ebff;}#sk-container-id-13 div.sk-serial::before {content: \"\";position: absolute;border-left: 1px solid gray;box-sizing: border-box;top: 0;bottom: 0;left: 50%;z-index: 0;}#sk-container-id-13 div.sk-serial {display: flex;flex-direction: column;align-items: center;background-color: white;padding-right: 0.2em;padding-left: 0.2em;position: relative;}#sk-container-id-13 div.sk-item {position: relative;z-index: 1;}#sk-container-id-13 div.sk-parallel {display: flex;align-items: stretch;justify-content: center;background-color: white;position: relative;}#sk-container-id-13 div.sk-item::before, #sk-container-id-13 div.sk-parallel-item::before {content: \"\";position: absolute;border-left: 1px solid gray;box-sizing: border-box;top: 0;bottom: 0;left: 50%;z-index: -1;}#sk-container-id-13 div.sk-parallel-item {display: flex;flex-direction: column;z-index: 1;position: relative;background-color: white;}#sk-container-id-13 div.sk-parallel-item:first-child::after {align-self: flex-end;width: 50%;}#sk-container-id-13 div.sk-parallel-item:last-child::after {align-self: flex-start;width: 50%;}#sk-container-id-13 div.sk-parallel-item:only-child::after {width: 0;}#sk-container-id-13 div.sk-dashed-wrapped {border: 1px dashed gray;margin: 0 0.4em 0.5em 0.4em;box-sizing: border-box;padding-bottom: 0.4em;background-color: white;}#sk-container-id-13 div.sk-label label {font-family: monospace;font-weight: bold;display: inline-block;line-height: 1.2em;}#sk-container-id-13 div.sk-label-container {text-align: center;}#sk-container-id-13 div.sk-container {/* jupyter's `normalize.less` sets `[hidden] { display: none; }` but bootstrap.min.css set `[hidden] { display: none !important; }` so we also need the `!important` here to be able to override the default hidden behavior on the sphinx rendered scikit-learn.org. See: https://github.com/scikit-learn/scikit-learn/issues/21755 */display: inline-block !important;position: relative;}#sk-container-id-13 div.sk-text-repr-fallback {display: none;}</style><div id=\"sk-container-id-13\" class=\"sk-top-container\"><div class=\"sk-text-repr-fallback\"><pre>SVC()</pre><b>In a Jupyter environment, please rerun this cell to show the HTML representation or trust the notebook. <br />On GitHub, the HTML representation is unable to render, please try loading this page with nbviewer.org.</b></div><div class=\"sk-container\" hidden><div class=\"sk-item\"><div class=\"sk-estimator sk-toggleable\"><input class=\"sk-toggleable__control sk-hidden--visually\" id=\"sk-estimator-id-15\" type=\"checkbox\" checked><label for=\"sk-estimator-id-15\" class=\"sk-toggleable__label sk-toggleable__label-arrow\">SVC</label><div class=\"sk-toggleable__content\"><pre>SVC()</pre></div></div></div></div></div>"
      ],
      "text/plain": [
       "SVC()"
      ]
     },
     "execution_count": 192,
     "metadata": {},
     "output_type": "execute_result"
    }
   ],
   "source": [
    "svc.fit(x1_tr,y1_tr)"
   ]
  },
  {
   "cell_type": "code",
   "execution_count": 193,
   "id": "4d3975c4",
   "metadata": {},
   "outputs": [],
   "source": [
    "svc_p1=svc.predict(x1_te)"
   ]
  },
  {
   "cell_type": "code",
   "execution_count": 194,
   "id": "72bc71b5",
   "metadata": {},
   "outputs": [
    {
     "data": {
      "text/plain": [
       "array([[334,  10],\n",
       "       [107, 398]], dtype=int64)"
      ]
     },
     "execution_count": 194,
     "metadata": {},
     "output_type": "execute_result"
    }
   ],
   "source": [
    "svc_m1=confusion_matrix(svc_p1,y1_te)\n",
    "svc_m1"
   ]
  },
  {
   "cell_type": "code",
   "execution_count": 195,
   "id": "68c01f78",
   "metadata": {},
   "outputs": [
    {
     "data": {
      "text/plain": [
       "86.21908127208481"
      ]
     },
     "execution_count": 195,
     "metadata": {},
     "output_type": "execute_result"
    }
   ],
   "source": [
    "svc_acc1=svc_m1.diagonal().sum()/svc_m1.sum()*100\n",
    "svc_acc1"
   ]
  },
  {
   "cell_type": "code",
   "execution_count": 196,
   "id": "fd737219",
   "metadata": {},
   "outputs": [
    {
     "name": "stdout",
     "output_type": "stream",
     "text": [
      "              precision    recall  f1-score   support\n",
      "\n",
      "           0       0.76      0.97      0.85       344\n",
      "           1       0.98      0.79      0.87       505\n",
      "\n",
      "    accuracy                           0.86       849\n",
      "   macro avg       0.87      0.88      0.86       849\n",
      "weighted avg       0.89      0.86      0.86       849\n",
      "\n"
     ]
    }
   ],
   "source": [
    "print(classification_report(svc_p1,y1_te))"
   ]
  },
  {
   "cell_type": "code",
   "execution_count": 197,
   "id": "0fdb5308",
   "metadata": {},
   "outputs": [
    {
     "data": {
      "text/plain": [
       "0.7573696145124716"
      ]
     },
     "execution_count": 197,
     "metadata": {},
     "output_type": "execute_result"
    }
   ],
   "source": [
    "#tpr=tp/(tp+fn)\n",
    "tpr12=334/(334+107)\n",
    "tpr12"
   ]
  },
  {
   "cell_type": "code",
   "execution_count": 198,
   "id": "ab32e65b",
   "metadata": {},
   "outputs": [
    {
     "data": {
      "text/plain": [
       "0.024509803921568627"
      ]
     },
     "execution_count": 198,
     "metadata": {},
     "output_type": "execute_result"
    }
   ],
   "source": [
    "#fpr=fp/(fp+tn)\n",
    "fpr12= 10/(10+398)\n",
    "fpr12"
   ]
  },
  {
   "cell_type": "code",
   "execution_count": 199,
   "id": "ecdc02e2",
   "metadata": {},
   "outputs": [
    {
     "data": {
      "text/plain": [
       "0.9709302325581395"
      ]
     },
     "execution_count": 199,
     "metadata": {},
     "output_type": "execute_result"
    }
   ],
   "source": [
    "#precision=tp/(tp+fp)\n",
    "precision12=334/(334+10)\n",
    "precision12"
   ]
  },
  {
   "cell_type": "code",
   "execution_count": 200,
   "id": "155b784d",
   "metadata": {},
   "outputs": [
    {
     "data": {
      "text/plain": [
       "0.8509554140127388"
      ]
     },
     "execution_count": 200,
     "metadata": {},
     "output_type": "execute_result"
    }
   ],
   "source": [
    "#f1-score=2(precision*recall)/(precision+recall)\n",
    "f1score12=(2*(precision12*tpr12))/(precision12+tpr12)\n",
    "f1score12"
   ]
  },
  {
   "cell_type": "markdown",
   "id": "6c2d97b3",
   "metadata": {},
   "source": [
    "# knn"
   ]
  },
  {
   "cell_type": "code",
   "execution_count": 201,
   "id": "d59b07e0",
   "metadata": {},
   "outputs": [],
   "source": [
    "from sklearn.neighbors import KNeighborsClassifier\n",
    "knn=KNeighborsClassifier(n_neighbors=15)"
   ]
  },
  {
   "cell_type": "code",
   "execution_count": 202,
   "id": "5fcb6b98",
   "metadata": {},
   "outputs": [
    {
     "data": {
      "text/html": [
       "<style>#sk-container-id-14 {color: black;}#sk-container-id-14 pre{padding: 0;}#sk-container-id-14 div.sk-toggleable {background-color: white;}#sk-container-id-14 label.sk-toggleable__label {cursor: pointer;display: block;width: 100%;margin-bottom: 0;padding: 0.3em;box-sizing: border-box;text-align: center;}#sk-container-id-14 label.sk-toggleable__label-arrow:before {content: \"▸\";float: left;margin-right: 0.25em;color: #696969;}#sk-container-id-14 label.sk-toggleable__label-arrow:hover:before {color: black;}#sk-container-id-14 div.sk-estimator:hover label.sk-toggleable__label-arrow:before {color: black;}#sk-container-id-14 div.sk-toggleable__content {max-height: 0;max-width: 0;overflow: hidden;text-align: left;background-color: #f0f8ff;}#sk-container-id-14 div.sk-toggleable__content pre {margin: 0.2em;color: black;border-radius: 0.25em;background-color: #f0f8ff;}#sk-container-id-14 input.sk-toggleable__control:checked~div.sk-toggleable__content {max-height: 200px;max-width: 100%;overflow: auto;}#sk-container-id-14 input.sk-toggleable__control:checked~label.sk-toggleable__label-arrow:before {content: \"▾\";}#sk-container-id-14 div.sk-estimator input.sk-toggleable__control:checked~label.sk-toggleable__label {background-color: #d4ebff;}#sk-container-id-14 div.sk-label input.sk-toggleable__control:checked~label.sk-toggleable__label {background-color: #d4ebff;}#sk-container-id-14 input.sk-hidden--visually {border: 0;clip: rect(1px 1px 1px 1px);clip: rect(1px, 1px, 1px, 1px);height: 1px;margin: -1px;overflow: hidden;padding: 0;position: absolute;width: 1px;}#sk-container-id-14 div.sk-estimator {font-family: monospace;background-color: #f0f8ff;border: 1px dotted black;border-radius: 0.25em;box-sizing: border-box;margin-bottom: 0.5em;}#sk-container-id-14 div.sk-estimator:hover {background-color: #d4ebff;}#sk-container-id-14 div.sk-parallel-item::after {content: \"\";width: 100%;border-bottom: 1px solid gray;flex-grow: 1;}#sk-container-id-14 div.sk-label:hover label.sk-toggleable__label {background-color: #d4ebff;}#sk-container-id-14 div.sk-serial::before {content: \"\";position: absolute;border-left: 1px solid gray;box-sizing: border-box;top: 0;bottom: 0;left: 50%;z-index: 0;}#sk-container-id-14 div.sk-serial {display: flex;flex-direction: column;align-items: center;background-color: white;padding-right: 0.2em;padding-left: 0.2em;position: relative;}#sk-container-id-14 div.sk-item {position: relative;z-index: 1;}#sk-container-id-14 div.sk-parallel {display: flex;align-items: stretch;justify-content: center;background-color: white;position: relative;}#sk-container-id-14 div.sk-item::before, #sk-container-id-14 div.sk-parallel-item::before {content: \"\";position: absolute;border-left: 1px solid gray;box-sizing: border-box;top: 0;bottom: 0;left: 50%;z-index: -1;}#sk-container-id-14 div.sk-parallel-item {display: flex;flex-direction: column;z-index: 1;position: relative;background-color: white;}#sk-container-id-14 div.sk-parallel-item:first-child::after {align-self: flex-end;width: 50%;}#sk-container-id-14 div.sk-parallel-item:last-child::after {align-self: flex-start;width: 50%;}#sk-container-id-14 div.sk-parallel-item:only-child::after {width: 0;}#sk-container-id-14 div.sk-dashed-wrapped {border: 1px dashed gray;margin: 0 0.4em 0.5em 0.4em;box-sizing: border-box;padding-bottom: 0.4em;background-color: white;}#sk-container-id-14 div.sk-label label {font-family: monospace;font-weight: bold;display: inline-block;line-height: 1.2em;}#sk-container-id-14 div.sk-label-container {text-align: center;}#sk-container-id-14 div.sk-container {/* jupyter's `normalize.less` sets `[hidden] { display: none; }` but bootstrap.min.css set `[hidden] { display: none !important; }` so we also need the `!important` here to be able to override the default hidden behavior on the sphinx rendered scikit-learn.org. See: https://github.com/scikit-learn/scikit-learn/issues/21755 */display: inline-block !important;position: relative;}#sk-container-id-14 div.sk-text-repr-fallback {display: none;}</style><div id=\"sk-container-id-14\" class=\"sk-top-container\"><div class=\"sk-text-repr-fallback\"><pre>KNeighborsClassifier(n_neighbors=15)</pre><b>In a Jupyter environment, please rerun this cell to show the HTML representation or trust the notebook. <br />On GitHub, the HTML representation is unable to render, please try loading this page with nbviewer.org.</b></div><div class=\"sk-container\" hidden><div class=\"sk-item\"><div class=\"sk-estimator sk-toggleable\"><input class=\"sk-toggleable__control sk-hidden--visually\" id=\"sk-estimator-id-16\" type=\"checkbox\" checked><label for=\"sk-estimator-id-16\" class=\"sk-toggleable__label sk-toggleable__label-arrow\">KNeighborsClassifier</label><div class=\"sk-toggleable__content\"><pre>KNeighborsClassifier(n_neighbors=15)</pre></div></div></div></div></div>"
      ],
      "text/plain": [
       "KNeighborsClassifier(n_neighbors=15)"
      ]
     },
     "execution_count": 202,
     "metadata": {},
     "output_type": "execute_result"
    }
   ],
   "source": [
    "knn.fit(x1_tr,y1_tr)"
   ]
  },
  {
   "cell_type": "code",
   "execution_count": 203,
   "id": "1336dada",
   "metadata": {},
   "outputs": [],
   "source": [
    "knn_p1=knn.predict(x1_te)"
   ]
  },
  {
   "cell_type": "code",
   "execution_count": 204,
   "id": "ae5852b7",
   "metadata": {},
   "outputs": [
    {
     "data": {
      "text/plain": [
       "array([[294,   7],\n",
       "       [147, 401]], dtype=int64)"
      ]
     },
     "execution_count": 204,
     "metadata": {},
     "output_type": "execute_result"
    }
   ],
   "source": [
    "knn_m1=confusion_matrix(knn_p1,y1_te)\n",
    "knn_m1"
   ]
  },
  {
   "cell_type": "code",
   "execution_count": 205,
   "id": "8d9d1c82",
   "metadata": {},
   "outputs": [
    {
     "data": {
      "text/plain": [
       "81.86101295641932"
      ]
     },
     "execution_count": 205,
     "metadata": {},
     "output_type": "execute_result"
    }
   ],
   "source": [
    "knn_acc1=knn_m1.diagonal().sum()/knn_m1.sum()*100\n",
    "knn_acc1"
   ]
  },
  {
   "cell_type": "code",
   "execution_count": 206,
   "id": "aa3aa5dc",
   "metadata": {},
   "outputs": [
    {
     "name": "stdout",
     "output_type": "stream",
     "text": [
      "              precision    recall  f1-score   support\n",
      "\n",
      "           0       0.67      0.98      0.79       301\n",
      "           1       0.98      0.73      0.84       548\n",
      "\n",
      "    accuracy                           0.82       849\n",
      "   macro avg       0.82      0.85      0.82       849\n",
      "weighted avg       0.87      0.82      0.82       849\n",
      "\n"
     ]
    }
   ],
   "source": [
    "print(classification_report(knn_p1,y1_te))"
   ]
  },
  {
   "cell_type": "code",
   "execution_count": 207,
   "id": "c9ce59b8",
   "metadata": {},
   "outputs": [
    {
     "data": {
      "text/plain": [
       "0.6666666666666666"
      ]
     },
     "execution_count": 207,
     "metadata": {},
     "output_type": "execute_result"
    }
   ],
   "source": [
    "#tpr=tp/(tp+fn)\n",
    "tpr13=294/(294+147)\n",
    "tpr13"
   ]
  },
  {
   "cell_type": "code",
   "execution_count": 208,
   "id": "097b5294",
   "metadata": {},
   "outputs": [
    {
     "data": {
      "text/plain": [
       "0.01715686274509804"
      ]
     },
     "execution_count": 208,
     "metadata": {},
     "output_type": "execute_result"
    }
   ],
   "source": [
    "#fpr=fp/(fp+tn)\n",
    "fpr13= 7/(7+ 401)\n",
    "fpr13"
   ]
  },
  {
   "cell_type": "code",
   "execution_count": 209,
   "id": "eacb4ad4",
   "metadata": {},
   "outputs": [
    {
     "data": {
      "text/plain": [
       "0.9767441860465116"
      ]
     },
     "execution_count": 209,
     "metadata": {},
     "output_type": "execute_result"
    }
   ],
   "source": [
    "#precision=tp/(tp+fp)\n",
    "precision13=294/(294+7)\n",
    "precision13"
   ]
  },
  {
   "cell_type": "code",
   "execution_count": 210,
   "id": "103eb5f1",
   "metadata": {},
   "outputs": [
    {
     "data": {
      "text/plain": [
       "0.7924528301886793"
      ]
     },
     "execution_count": 210,
     "metadata": {},
     "output_type": "execute_result"
    }
   ],
   "source": [
    "#f1-score=2(precision*recall)/(precision+recall)\n",
    "f1score13=(2*(precision13*tpr13))/(precision13+tpr13)\n",
    "f1score13"
   ]
  },
  {
   "cell_type": "markdown",
   "id": "d6e62553",
   "metadata": {},
   "source": [
    "# AdaBoost "
   ]
  },
  {
   "cell_type": "code",
   "execution_count": 211,
   "id": "939c0a87",
   "metadata": {},
   "outputs": [],
   "source": [
    "from sklearn.ensemble import AdaBoostClassifier\n",
    "from sklearn.tree import DecisionTreeClassifier"
   ]
  },
  {
   "cell_type": "code",
   "execution_count": 212,
   "id": "5111e91a",
   "metadata": {},
   "outputs": [],
   "source": [
    "adbo=AdaBoostClassifier(DecisionTreeClassifier(),n_estimators=5)"
   ]
  },
  {
   "cell_type": "code",
   "execution_count": 213,
   "id": "b72eabac",
   "metadata": {},
   "outputs": [
    {
     "data": {
      "text/html": [
       "<style>#sk-container-id-15 {color: black;}#sk-container-id-15 pre{padding: 0;}#sk-container-id-15 div.sk-toggleable {background-color: white;}#sk-container-id-15 label.sk-toggleable__label {cursor: pointer;display: block;width: 100%;margin-bottom: 0;padding: 0.3em;box-sizing: border-box;text-align: center;}#sk-container-id-15 label.sk-toggleable__label-arrow:before {content: \"▸\";float: left;margin-right: 0.25em;color: #696969;}#sk-container-id-15 label.sk-toggleable__label-arrow:hover:before {color: black;}#sk-container-id-15 div.sk-estimator:hover label.sk-toggleable__label-arrow:before {color: black;}#sk-container-id-15 div.sk-toggleable__content {max-height: 0;max-width: 0;overflow: hidden;text-align: left;background-color: #f0f8ff;}#sk-container-id-15 div.sk-toggleable__content pre {margin: 0.2em;color: black;border-radius: 0.25em;background-color: #f0f8ff;}#sk-container-id-15 input.sk-toggleable__control:checked~div.sk-toggleable__content {max-height: 200px;max-width: 100%;overflow: auto;}#sk-container-id-15 input.sk-toggleable__control:checked~label.sk-toggleable__label-arrow:before {content: \"▾\";}#sk-container-id-15 div.sk-estimator input.sk-toggleable__control:checked~label.sk-toggleable__label {background-color: #d4ebff;}#sk-container-id-15 div.sk-label input.sk-toggleable__control:checked~label.sk-toggleable__label {background-color: #d4ebff;}#sk-container-id-15 input.sk-hidden--visually {border: 0;clip: rect(1px 1px 1px 1px);clip: rect(1px, 1px, 1px, 1px);height: 1px;margin: -1px;overflow: hidden;padding: 0;position: absolute;width: 1px;}#sk-container-id-15 div.sk-estimator {font-family: monospace;background-color: #f0f8ff;border: 1px dotted black;border-radius: 0.25em;box-sizing: border-box;margin-bottom: 0.5em;}#sk-container-id-15 div.sk-estimator:hover {background-color: #d4ebff;}#sk-container-id-15 div.sk-parallel-item::after {content: \"\";width: 100%;border-bottom: 1px solid gray;flex-grow: 1;}#sk-container-id-15 div.sk-label:hover label.sk-toggleable__label {background-color: #d4ebff;}#sk-container-id-15 div.sk-serial::before {content: \"\";position: absolute;border-left: 1px solid gray;box-sizing: border-box;top: 0;bottom: 0;left: 50%;z-index: 0;}#sk-container-id-15 div.sk-serial {display: flex;flex-direction: column;align-items: center;background-color: white;padding-right: 0.2em;padding-left: 0.2em;position: relative;}#sk-container-id-15 div.sk-item {position: relative;z-index: 1;}#sk-container-id-15 div.sk-parallel {display: flex;align-items: stretch;justify-content: center;background-color: white;position: relative;}#sk-container-id-15 div.sk-item::before, #sk-container-id-15 div.sk-parallel-item::before {content: \"\";position: absolute;border-left: 1px solid gray;box-sizing: border-box;top: 0;bottom: 0;left: 50%;z-index: -1;}#sk-container-id-15 div.sk-parallel-item {display: flex;flex-direction: column;z-index: 1;position: relative;background-color: white;}#sk-container-id-15 div.sk-parallel-item:first-child::after {align-self: flex-end;width: 50%;}#sk-container-id-15 div.sk-parallel-item:last-child::after {align-self: flex-start;width: 50%;}#sk-container-id-15 div.sk-parallel-item:only-child::after {width: 0;}#sk-container-id-15 div.sk-dashed-wrapped {border: 1px dashed gray;margin: 0 0.4em 0.5em 0.4em;box-sizing: border-box;padding-bottom: 0.4em;background-color: white;}#sk-container-id-15 div.sk-label label {font-family: monospace;font-weight: bold;display: inline-block;line-height: 1.2em;}#sk-container-id-15 div.sk-label-container {text-align: center;}#sk-container-id-15 div.sk-container {/* jupyter's `normalize.less` sets `[hidden] { display: none; }` but bootstrap.min.css set `[hidden] { display: none !important; }` so we also need the `!important` here to be able to override the default hidden behavior on the sphinx rendered scikit-learn.org. See: https://github.com/scikit-learn/scikit-learn/issues/21755 */display: inline-block !important;position: relative;}#sk-container-id-15 div.sk-text-repr-fallback {display: none;}</style><div id=\"sk-container-id-15\" class=\"sk-top-container\"><div class=\"sk-text-repr-fallback\"><pre>AdaBoostClassifier(estimator=DecisionTreeClassifier(), n_estimators=5)</pre><b>In a Jupyter environment, please rerun this cell to show the HTML representation or trust the notebook. <br />On GitHub, the HTML representation is unable to render, please try loading this page with nbviewer.org.</b></div><div class=\"sk-container\" hidden><div class=\"sk-item sk-dashed-wrapped\"><div class=\"sk-label-container\"><div class=\"sk-label sk-toggleable\"><input class=\"sk-toggleable__control sk-hidden--visually\" id=\"sk-estimator-id-17\" type=\"checkbox\" ><label for=\"sk-estimator-id-17\" class=\"sk-toggleable__label sk-toggleable__label-arrow\">AdaBoostClassifier</label><div class=\"sk-toggleable__content\"><pre>AdaBoostClassifier(estimator=DecisionTreeClassifier(), n_estimators=5)</pre></div></div></div><div class=\"sk-parallel\"><div class=\"sk-parallel-item\"><div class=\"sk-item\"><div class=\"sk-label-container\"><div class=\"sk-label sk-toggleable\"><input class=\"sk-toggleable__control sk-hidden--visually\" id=\"sk-estimator-id-18\" type=\"checkbox\" ><label for=\"sk-estimator-id-18\" class=\"sk-toggleable__label sk-toggleable__label-arrow\">estimator: DecisionTreeClassifier</label><div class=\"sk-toggleable__content\"><pre>DecisionTreeClassifier()</pre></div></div></div><div class=\"sk-serial\"><div class=\"sk-item\"><div class=\"sk-estimator sk-toggleable\"><input class=\"sk-toggleable__control sk-hidden--visually\" id=\"sk-estimator-id-19\" type=\"checkbox\" ><label for=\"sk-estimator-id-19\" class=\"sk-toggleable__label sk-toggleable__label-arrow\">DecisionTreeClassifier</label><div class=\"sk-toggleable__content\"><pre>DecisionTreeClassifier()</pre></div></div></div></div></div></div></div></div></div></div>"
      ],
      "text/plain": [
       "AdaBoostClassifier(estimator=DecisionTreeClassifier(), n_estimators=5)"
      ]
     },
     "execution_count": 213,
     "metadata": {},
     "output_type": "execute_result"
    }
   ],
   "source": [
    "adbo.fit(x1_tr,y1_tr)"
   ]
  },
  {
   "cell_type": "code",
   "execution_count": 214,
   "id": "24ef3afa",
   "metadata": {},
   "outputs": [],
   "source": [
    "adbo_p1=adbo.predict(x1_te)"
   ]
  },
  {
   "cell_type": "code",
   "execution_count": 215,
   "id": "097cfbe4",
   "metadata": {},
   "outputs": [
    {
     "data": {
      "text/plain": [
       "array([[435,   1],\n",
       "       [  6, 407]], dtype=int64)"
      ]
     },
     "execution_count": 215,
     "metadata": {},
     "output_type": "execute_result"
    }
   ],
   "source": [
    "adboo_m1=confusion_matrix(adbo_p1,y1_te)\n",
    "adboo_m1"
   ]
  },
  {
   "cell_type": "code",
   "execution_count": 216,
   "id": "c81a0289",
   "metadata": {},
   "outputs": [
    {
     "data": {
      "text/plain": [
       "99.17550058892816"
      ]
     },
     "execution_count": 216,
     "metadata": {},
     "output_type": "execute_result"
    }
   ],
   "source": [
    "adbo_acc1=adboo_m1.diagonal().sum()/adboo_m1.sum()*100\n",
    "adbo_acc1"
   ]
  },
  {
   "cell_type": "code",
   "execution_count": 217,
   "id": "243bcb84",
   "metadata": {},
   "outputs": [
    {
     "name": "stdout",
     "output_type": "stream",
     "text": [
      "              precision    recall  f1-score   support\n",
      "\n",
      "           0       0.99      1.00      0.99       436\n",
      "           1       1.00      0.99      0.99       413\n",
      "\n",
      "    accuracy                           0.99       849\n",
      "   macro avg       0.99      0.99      0.99       849\n",
      "weighted avg       0.99      0.99      0.99       849\n",
      "\n"
     ]
    }
   ],
   "source": [
    "print(classification_report(adbo_p1,y1_te))"
   ]
  },
  {
   "cell_type": "code",
   "execution_count": 218,
   "id": "2c124332",
   "metadata": {},
   "outputs": [
    {
     "data": {
      "text/plain": [
       "0.9863945578231292"
      ]
     },
     "execution_count": 218,
     "metadata": {},
     "output_type": "execute_result"
    }
   ],
   "source": [
    "#tpr=tp/(tp+fn)\n",
    "tpr14=435/(435+6)\n",
    "tpr14"
   ]
  },
  {
   "cell_type": "code",
   "execution_count": 219,
   "id": "258df105",
   "metadata": {},
   "outputs": [
    {
     "data": {
      "text/plain": [
       "0.0024509803921568627"
      ]
     },
     "execution_count": 219,
     "metadata": {},
     "output_type": "execute_result"
    }
   ],
   "source": [
    "#fpr=fp/(fp+tn)\n",
    "fpr14=1/(1+ 407)\n",
    "fpr14"
   ]
  },
  {
   "cell_type": "code",
   "execution_count": 220,
   "id": "10a790cf",
   "metadata": {},
   "outputs": [
    {
     "data": {
      "text/plain": [
       "0.9977064220183486"
      ]
     },
     "execution_count": 220,
     "metadata": {},
     "output_type": "execute_result"
    }
   ],
   "source": [
    "#precision=tp/(tp+fp)\n",
    "precision14=435/(435+1)\n",
    "precision14"
   ]
  },
  {
   "cell_type": "code",
   "execution_count": 221,
   "id": "fdd1afba",
   "metadata": {},
   "outputs": [
    {
     "data": {
      "text/plain": [
       "0.9920182440136829"
      ]
     },
     "execution_count": 221,
     "metadata": {},
     "output_type": "execute_result"
    }
   ],
   "source": [
    "#f1-score=2(precision*recall)/(precision+recall)\n",
    "f1score14=(2*(precision14*tpr14))/(precision14+tpr14)\n",
    "f1score14"
   ]
  },
  {
   "cell_type": "markdown",
   "id": "cad1c3bb",
   "metadata": {},
   "source": [
    "# xgboost"
   ]
  },
  {
   "cell_type": "code",
   "execution_count": 222,
   "id": "d91405ca",
   "metadata": {},
   "outputs": [],
   "source": [
    "from xgboost import XGBClassifier\n",
    "xgb=XGBClassifier()"
   ]
  },
  {
   "cell_type": "code",
   "execution_count": 223,
   "id": "84e5de2e",
   "metadata": {},
   "outputs": [
    {
     "data": {
      "text/html": [
       "<style>#sk-container-id-16 {color: black;}#sk-container-id-16 pre{padding: 0;}#sk-container-id-16 div.sk-toggleable {background-color: white;}#sk-container-id-16 label.sk-toggleable__label {cursor: pointer;display: block;width: 100%;margin-bottom: 0;padding: 0.3em;box-sizing: border-box;text-align: center;}#sk-container-id-16 label.sk-toggleable__label-arrow:before {content: \"▸\";float: left;margin-right: 0.25em;color: #696969;}#sk-container-id-16 label.sk-toggleable__label-arrow:hover:before {color: black;}#sk-container-id-16 div.sk-estimator:hover label.sk-toggleable__label-arrow:before {color: black;}#sk-container-id-16 div.sk-toggleable__content {max-height: 0;max-width: 0;overflow: hidden;text-align: left;background-color: #f0f8ff;}#sk-container-id-16 div.sk-toggleable__content pre {margin: 0.2em;color: black;border-radius: 0.25em;background-color: #f0f8ff;}#sk-container-id-16 input.sk-toggleable__control:checked~div.sk-toggleable__content {max-height: 200px;max-width: 100%;overflow: auto;}#sk-container-id-16 input.sk-toggleable__control:checked~label.sk-toggleable__label-arrow:before {content: \"▾\";}#sk-container-id-16 div.sk-estimator input.sk-toggleable__control:checked~label.sk-toggleable__label {background-color: #d4ebff;}#sk-container-id-16 div.sk-label input.sk-toggleable__control:checked~label.sk-toggleable__label {background-color: #d4ebff;}#sk-container-id-16 input.sk-hidden--visually {border: 0;clip: rect(1px 1px 1px 1px);clip: rect(1px, 1px, 1px, 1px);height: 1px;margin: -1px;overflow: hidden;padding: 0;position: absolute;width: 1px;}#sk-container-id-16 div.sk-estimator {font-family: monospace;background-color: #f0f8ff;border: 1px dotted black;border-radius: 0.25em;box-sizing: border-box;margin-bottom: 0.5em;}#sk-container-id-16 div.sk-estimator:hover {background-color: #d4ebff;}#sk-container-id-16 div.sk-parallel-item::after {content: \"\";width: 100%;border-bottom: 1px solid gray;flex-grow: 1;}#sk-container-id-16 div.sk-label:hover label.sk-toggleable__label {background-color: #d4ebff;}#sk-container-id-16 div.sk-serial::before {content: \"\";position: absolute;border-left: 1px solid gray;box-sizing: border-box;top: 0;bottom: 0;left: 50%;z-index: 0;}#sk-container-id-16 div.sk-serial {display: flex;flex-direction: column;align-items: center;background-color: white;padding-right: 0.2em;padding-left: 0.2em;position: relative;}#sk-container-id-16 div.sk-item {position: relative;z-index: 1;}#sk-container-id-16 div.sk-parallel {display: flex;align-items: stretch;justify-content: center;background-color: white;position: relative;}#sk-container-id-16 div.sk-item::before, #sk-container-id-16 div.sk-parallel-item::before {content: \"\";position: absolute;border-left: 1px solid gray;box-sizing: border-box;top: 0;bottom: 0;left: 50%;z-index: -1;}#sk-container-id-16 div.sk-parallel-item {display: flex;flex-direction: column;z-index: 1;position: relative;background-color: white;}#sk-container-id-16 div.sk-parallel-item:first-child::after {align-self: flex-end;width: 50%;}#sk-container-id-16 div.sk-parallel-item:last-child::after {align-self: flex-start;width: 50%;}#sk-container-id-16 div.sk-parallel-item:only-child::after {width: 0;}#sk-container-id-16 div.sk-dashed-wrapped {border: 1px dashed gray;margin: 0 0.4em 0.5em 0.4em;box-sizing: border-box;padding-bottom: 0.4em;background-color: white;}#sk-container-id-16 div.sk-label label {font-family: monospace;font-weight: bold;display: inline-block;line-height: 1.2em;}#sk-container-id-16 div.sk-label-container {text-align: center;}#sk-container-id-16 div.sk-container {/* jupyter's `normalize.less` sets `[hidden] { display: none; }` but bootstrap.min.css set `[hidden] { display: none !important; }` so we also need the `!important` here to be able to override the default hidden behavior on the sphinx rendered scikit-learn.org. See: https://github.com/scikit-learn/scikit-learn/issues/21755 */display: inline-block !important;position: relative;}#sk-container-id-16 div.sk-text-repr-fallback {display: none;}</style><div id=\"sk-container-id-16\" class=\"sk-top-container\"><div class=\"sk-text-repr-fallback\"><pre>XGBClassifier(base_score=None, booster=None, callbacks=None,\n",
       "              colsample_bylevel=None, colsample_bynode=None,\n",
       "              colsample_bytree=None, device=None, early_stopping_rounds=None,\n",
       "              enable_categorical=False, eval_metric=None, feature_types=None,\n",
       "              gamma=None, grow_policy=None, importance_type=None,\n",
       "              interaction_constraints=None, learning_rate=None, max_bin=None,\n",
       "              max_cat_threshold=None, max_cat_to_onehot=None,\n",
       "              max_delta_step=None, max_depth=None, max_leaves=None,\n",
       "              min_child_weight=None, missing=nan, monotone_constraints=None,\n",
       "              multi_strategy=None, n_estimators=None, n_jobs=None,\n",
       "              num_parallel_tree=None, random_state=None, ...)</pre><b>In a Jupyter environment, please rerun this cell to show the HTML representation or trust the notebook. <br />On GitHub, the HTML representation is unable to render, please try loading this page with nbviewer.org.</b></div><div class=\"sk-container\" hidden><div class=\"sk-item\"><div class=\"sk-estimator sk-toggleable\"><input class=\"sk-toggleable__control sk-hidden--visually\" id=\"sk-estimator-id-20\" type=\"checkbox\" checked><label for=\"sk-estimator-id-20\" class=\"sk-toggleable__label sk-toggleable__label-arrow\">XGBClassifier</label><div class=\"sk-toggleable__content\"><pre>XGBClassifier(base_score=None, booster=None, callbacks=None,\n",
       "              colsample_bylevel=None, colsample_bynode=None,\n",
       "              colsample_bytree=None, device=None, early_stopping_rounds=None,\n",
       "              enable_categorical=False, eval_metric=None, feature_types=None,\n",
       "              gamma=None, grow_policy=None, importance_type=None,\n",
       "              interaction_constraints=None, learning_rate=None, max_bin=None,\n",
       "              max_cat_threshold=None, max_cat_to_onehot=None,\n",
       "              max_delta_step=None, max_depth=None, max_leaves=None,\n",
       "              min_child_weight=None, missing=nan, monotone_constraints=None,\n",
       "              multi_strategy=None, n_estimators=None, n_jobs=None,\n",
       "              num_parallel_tree=None, random_state=None, ...)</pre></div></div></div></div></div>"
      ],
      "text/plain": [
       "XGBClassifier(base_score=None, booster=None, callbacks=None,\n",
       "              colsample_bylevel=None, colsample_bynode=None,\n",
       "              colsample_bytree=None, device=None, early_stopping_rounds=None,\n",
       "              enable_categorical=False, eval_metric=None, feature_types=None,\n",
       "              gamma=None, grow_policy=None, importance_type=None,\n",
       "              interaction_constraints=None, learning_rate=None, max_bin=None,\n",
       "              max_cat_threshold=None, max_cat_to_onehot=None,\n",
       "              max_delta_step=None, max_depth=None, max_leaves=None,\n",
       "              min_child_weight=None, missing=nan, monotone_constraints=None,\n",
       "              multi_strategy=None, n_estimators=None, n_jobs=None,\n",
       "              num_parallel_tree=None, random_state=None, ...)"
      ]
     },
     "execution_count": 223,
     "metadata": {},
     "output_type": "execute_result"
    }
   ],
   "source": [
    "xgb.fit(x1_tr,y1_tr)"
   ]
  },
  {
   "cell_type": "code",
   "execution_count": 224,
   "id": "9842bc61",
   "metadata": {},
   "outputs": [],
   "source": [
    "xgb_p1=xgb.predict(x1_te)"
   ]
  },
  {
   "cell_type": "code",
   "execution_count": 225,
   "id": "46537d41",
   "metadata": {},
   "outputs": [
    {
     "data": {
      "text/plain": [
       "array([[433,   0],\n",
       "       [  8, 408]], dtype=int64)"
      ]
     },
     "execution_count": 225,
     "metadata": {},
     "output_type": "execute_result"
    }
   ],
   "source": [
    "xgb_m1=confusion_matrix(xgb_p1,y1_te)\n",
    "xgb_m1"
   ]
  },
  {
   "cell_type": "code",
   "execution_count": 226,
   "id": "626037ff",
   "metadata": {},
   "outputs": [
    {
     "data": {
      "text/plain": [
       "99.05771495877504"
      ]
     },
     "execution_count": 226,
     "metadata": {},
     "output_type": "execute_result"
    }
   ],
   "source": [
    "xgb_acc1=xgb_m1.diagonal().sum()/xgb_m1.sum()*100\n",
    "xgb_acc1"
   ]
  },
  {
   "cell_type": "code",
   "execution_count": 227,
   "id": "25396b7a",
   "metadata": {},
   "outputs": [
    {
     "name": "stdout",
     "output_type": "stream",
     "text": [
      "              precision    recall  f1-score   support\n",
      "\n",
      "           0       0.98      1.00      0.99       433\n",
      "           1       1.00      0.98      0.99       416\n",
      "\n",
      "    accuracy                           0.99       849\n",
      "   macro avg       0.99      0.99      0.99       849\n",
      "weighted avg       0.99      0.99      0.99       849\n",
      "\n"
     ]
    }
   ],
   "source": [
    "print(classification_report(xgb_p1,y1_te))"
   ]
  },
  {
   "cell_type": "code",
   "execution_count": 228,
   "id": "123f70d0",
   "metadata": {},
   "outputs": [
    {
     "data": {
      "text/plain": [
       "0.981859410430839"
      ]
     },
     "execution_count": 228,
     "metadata": {},
     "output_type": "execute_result"
    }
   ],
   "source": [
    "#tpr=tp/(tp+fn)\n",
    "tpr15=433/(433+8)\n",
    "tpr15"
   ]
  },
  {
   "cell_type": "code",
   "execution_count": 229,
   "id": "704d6c98",
   "metadata": {},
   "outputs": [
    {
     "data": {
      "text/plain": [
       "0.0"
      ]
     },
     "execution_count": 229,
     "metadata": {},
     "output_type": "execute_result"
    }
   ],
   "source": [
    "#fpr=fp/(fp+tn)\n",
    "fpr15=0/(0+ 408)\n",
    "fpr15"
   ]
  },
  {
   "cell_type": "code",
   "execution_count": 230,
   "id": "3bbab39f",
   "metadata": {},
   "outputs": [
    {
     "data": {
      "text/plain": [
       "1.0"
      ]
     },
     "execution_count": 230,
     "metadata": {},
     "output_type": "execute_result"
    }
   ],
   "source": [
    "#precision=tp/(tp+fp)\n",
    "precision15=433/(433+0)\n",
    "precision15"
   ]
  },
  {
   "cell_type": "code",
   "execution_count": 231,
   "id": "8e9f1e8f",
   "metadata": {},
   "outputs": [
    {
     "data": {
      "text/plain": [
       "0.9908466819221967"
      ]
     },
     "execution_count": 231,
     "metadata": {},
     "output_type": "execute_result"
    }
   ],
   "source": [
    "#f1-score=2(precision*recall)/(precision+recall)\n",
    "f1score15=(2*(precision15*tpr15))/(precision15+tpr15)\n",
    "f1score15"
   ]
  },
  {
   "cell_type": "code",
   "execution_count": 232,
   "id": "60636212",
   "metadata": {},
   "outputs": [],
   "source": [
    "#df_2\n",
    "l1=[\"log\",\"dt\",\"rf\",\"nb\",\"svc\",\"knn\",\"adaboost\",\"xgboost\"]\n",
    "l2=[lg_acc1,dt_acc1,rf_acc1,nb_acc1,svc_acc1,knn_acc1,adbo_acc1,xgb_acc1]\n",
    "l3=[fpr8,fpr9,fpr10,fpr11,fpr12,fpr13,fpr14,fpr15]\n",
    "l4=[tpr8,tpr9,tpr10,tpr11,tpr12,tpr13,tpr14,tpr15]\n",
    "l5=[f1score8,f1score9,f1score10,f1score11,f1score12,f1score13,f1score14,f1score15]"
   ]
  },
  {
   "cell_type": "code",
   "execution_count": 233,
   "id": "06c67de4",
   "metadata": {},
   "outputs": [
    {
     "data": {
      "text/html": [
       "<div>\n",
       "<style scoped>\n",
       "    .dataframe tbody tr th:only-of-type {\n",
       "        vertical-align: middle;\n",
       "    }\n",
       "\n",
       "    .dataframe tbody tr th {\n",
       "        vertical-align: top;\n",
       "    }\n",
       "\n",
       "    .dataframe thead th {\n",
       "        text-align: right;\n",
       "    }\n",
       "</style>\n",
       "<table border=\"1\" class=\"dataframe\">\n",
       "  <thead>\n",
       "    <tr style=\"text-align: right;\">\n",
       "      <th></th>\n",
       "      <th>Model_Name</th>\n",
       "      <th>accuracy</th>\n",
       "      <th>fpr</th>\n",
       "      <th>tpr</th>\n",
       "      <th>f1score</th>\n",
       "    </tr>\n",
       "  </thead>\n",
       "  <tbody>\n",
       "    <tr>\n",
       "      <th>0</th>\n",
       "      <td>log</td>\n",
       "      <td>90.812721</td>\n",
       "      <td>0.056373</td>\n",
       "      <td>0.875283</td>\n",
       "      <td>0.908235</td>\n",
       "    </tr>\n",
       "    <tr>\n",
       "      <th>1</th>\n",
       "      <td>dt</td>\n",
       "      <td>99.175501</td>\n",
       "      <td>0.002451</td>\n",
       "      <td>0.986395</td>\n",
       "      <td>0.992018</td>\n",
       "    </tr>\n",
       "    <tr>\n",
       "      <th>2</th>\n",
       "      <td>rf</td>\n",
       "      <td>98.351001</td>\n",
       "      <td>0.000000</td>\n",
       "      <td>0.968254</td>\n",
       "      <td>0.983871</td>\n",
       "    </tr>\n",
       "    <tr>\n",
       "      <th>3</th>\n",
       "      <td>nb</td>\n",
       "      <td>81.154299</td>\n",
       "      <td>0.154412</td>\n",
       "      <td>0.780045</td>\n",
       "      <td>0.811321</td>\n",
       "    </tr>\n",
       "    <tr>\n",
       "      <th>4</th>\n",
       "      <td>svc</td>\n",
       "      <td>86.219081</td>\n",
       "      <td>0.024510</td>\n",
       "      <td>0.757370</td>\n",
       "      <td>0.850955</td>\n",
       "    </tr>\n",
       "    <tr>\n",
       "      <th>5</th>\n",
       "      <td>knn</td>\n",
       "      <td>81.861013</td>\n",
       "      <td>0.017157</td>\n",
       "      <td>0.666667</td>\n",
       "      <td>0.792453</td>\n",
       "    </tr>\n",
       "    <tr>\n",
       "      <th>6</th>\n",
       "      <td>adaboost</td>\n",
       "      <td>99.175501</td>\n",
       "      <td>0.002451</td>\n",
       "      <td>0.986395</td>\n",
       "      <td>0.992018</td>\n",
       "    </tr>\n",
       "    <tr>\n",
       "      <th>7</th>\n",
       "      <td>xgboost</td>\n",
       "      <td>99.057715</td>\n",
       "      <td>0.000000</td>\n",
       "      <td>0.981859</td>\n",
       "      <td>0.990847</td>\n",
       "    </tr>\n",
       "  </tbody>\n",
       "</table>\n",
       "</div>"
      ],
      "text/plain": [
       "  Model_Name   accuracy       fpr       tpr   f1score\n",
       "0        log  90.812721  0.056373  0.875283  0.908235\n",
       "1         dt  99.175501  0.002451  0.986395  0.992018\n",
       "2         rf  98.351001  0.000000  0.968254  0.983871\n",
       "3         nb  81.154299  0.154412  0.780045  0.811321\n",
       "4        svc  86.219081  0.024510  0.757370  0.850955\n",
       "5        knn  81.861013  0.017157  0.666667  0.792453\n",
       "6   adaboost  99.175501  0.002451  0.986395  0.992018\n",
       "7    xgboost  99.057715  0.000000  0.981859  0.990847"
      ]
     },
     "execution_count": 233,
     "metadata": {},
     "output_type": "execute_result"
    }
   ],
   "source": [
    "final1=pd.DataFrame({\"Model_Name\":l1,\"accuracy\":l2,\"fpr\":l3,\"tpr\":l4,\"f1score\":l5})\n",
    "final1"
   ]
  },
  {
   "cell_type": "raw",
   "id": "54aeeef9",
   "metadata": {},
   "source": [
    "#For this model decisiontree is best fitted model it having (99.17%) accuracy and (0.99) f1 score and (0.98) tpr and fpr is low(0.002)  "
   ]
  },
  {
   "cell_type": "markdown",
   "id": "4748e992",
   "metadata": {},
   "source": [
    "# feature selection"
   ]
  },
  {
   "cell_type": "code",
   "execution_count": 236,
   "id": "6b5fe4ff",
   "metadata": {},
   "outputs": [],
   "source": [
    "from sklearn.feature_selection import RFE\n",
    "from sklearn.tree import DecisionTreeClassifier\n",
    "dTree=DecisionTreeClassifier()"
   ]
  },
  {
   "cell_type": "code",
   "execution_count": 237,
   "id": "bbf93537",
   "metadata": {},
   "outputs": [],
   "source": [
    "rfe=RFE(dTree)"
   ]
  },
  {
   "cell_type": "code",
   "execution_count": 238,
   "id": "dd3ddf3b",
   "metadata": {},
   "outputs": [
    {
     "data": {
      "text/html": [
       "<style>#sk-container-id-17 {color: black;}#sk-container-id-17 pre{padding: 0;}#sk-container-id-17 div.sk-toggleable {background-color: white;}#sk-container-id-17 label.sk-toggleable__label {cursor: pointer;display: block;width: 100%;margin-bottom: 0;padding: 0.3em;box-sizing: border-box;text-align: center;}#sk-container-id-17 label.sk-toggleable__label-arrow:before {content: \"▸\";float: left;margin-right: 0.25em;color: #696969;}#sk-container-id-17 label.sk-toggleable__label-arrow:hover:before {color: black;}#sk-container-id-17 div.sk-estimator:hover label.sk-toggleable__label-arrow:before {color: black;}#sk-container-id-17 div.sk-toggleable__content {max-height: 0;max-width: 0;overflow: hidden;text-align: left;background-color: #f0f8ff;}#sk-container-id-17 div.sk-toggleable__content pre {margin: 0.2em;color: black;border-radius: 0.25em;background-color: #f0f8ff;}#sk-container-id-17 input.sk-toggleable__control:checked~div.sk-toggleable__content {max-height: 200px;max-width: 100%;overflow: auto;}#sk-container-id-17 input.sk-toggleable__control:checked~label.sk-toggleable__label-arrow:before {content: \"▾\";}#sk-container-id-17 div.sk-estimator input.sk-toggleable__control:checked~label.sk-toggleable__label {background-color: #d4ebff;}#sk-container-id-17 div.sk-label input.sk-toggleable__control:checked~label.sk-toggleable__label {background-color: #d4ebff;}#sk-container-id-17 input.sk-hidden--visually {border: 0;clip: rect(1px 1px 1px 1px);clip: rect(1px, 1px, 1px, 1px);height: 1px;margin: -1px;overflow: hidden;padding: 0;position: absolute;width: 1px;}#sk-container-id-17 div.sk-estimator {font-family: monospace;background-color: #f0f8ff;border: 1px dotted black;border-radius: 0.25em;box-sizing: border-box;margin-bottom: 0.5em;}#sk-container-id-17 div.sk-estimator:hover {background-color: #d4ebff;}#sk-container-id-17 div.sk-parallel-item::after {content: \"\";width: 100%;border-bottom: 1px solid gray;flex-grow: 1;}#sk-container-id-17 div.sk-label:hover label.sk-toggleable__label {background-color: #d4ebff;}#sk-container-id-17 div.sk-serial::before {content: \"\";position: absolute;border-left: 1px solid gray;box-sizing: border-box;top: 0;bottom: 0;left: 50%;z-index: 0;}#sk-container-id-17 div.sk-serial {display: flex;flex-direction: column;align-items: center;background-color: white;padding-right: 0.2em;padding-left: 0.2em;position: relative;}#sk-container-id-17 div.sk-item {position: relative;z-index: 1;}#sk-container-id-17 div.sk-parallel {display: flex;align-items: stretch;justify-content: center;background-color: white;position: relative;}#sk-container-id-17 div.sk-item::before, #sk-container-id-17 div.sk-parallel-item::before {content: \"\";position: absolute;border-left: 1px solid gray;box-sizing: border-box;top: 0;bottom: 0;left: 50%;z-index: -1;}#sk-container-id-17 div.sk-parallel-item {display: flex;flex-direction: column;z-index: 1;position: relative;background-color: white;}#sk-container-id-17 div.sk-parallel-item:first-child::after {align-self: flex-end;width: 50%;}#sk-container-id-17 div.sk-parallel-item:last-child::after {align-self: flex-start;width: 50%;}#sk-container-id-17 div.sk-parallel-item:only-child::after {width: 0;}#sk-container-id-17 div.sk-dashed-wrapped {border: 1px dashed gray;margin: 0 0.4em 0.5em 0.4em;box-sizing: border-box;padding-bottom: 0.4em;background-color: white;}#sk-container-id-17 div.sk-label label {font-family: monospace;font-weight: bold;display: inline-block;line-height: 1.2em;}#sk-container-id-17 div.sk-label-container {text-align: center;}#sk-container-id-17 div.sk-container {/* jupyter's `normalize.less` sets `[hidden] { display: none; }` but bootstrap.min.css set `[hidden] { display: none !important; }` so we also need the `!important` here to be able to override the default hidden behavior on the sphinx rendered scikit-learn.org. See: https://github.com/scikit-learn/scikit-learn/issues/21755 */display: inline-block !important;position: relative;}#sk-container-id-17 div.sk-text-repr-fallback {display: none;}</style><div id=\"sk-container-id-17\" class=\"sk-top-container\"><div class=\"sk-text-repr-fallback\"><pre>RFE(estimator=DecisionTreeClassifier())</pre><b>In a Jupyter environment, please rerun this cell to show the HTML representation or trust the notebook. <br />On GitHub, the HTML representation is unable to render, please try loading this page with nbviewer.org.</b></div><div class=\"sk-container\" hidden><div class=\"sk-item sk-dashed-wrapped\"><div class=\"sk-label-container\"><div class=\"sk-label sk-toggleable\"><input class=\"sk-toggleable__control sk-hidden--visually\" id=\"sk-estimator-id-21\" type=\"checkbox\" ><label for=\"sk-estimator-id-21\" class=\"sk-toggleable__label sk-toggleable__label-arrow\">RFE</label><div class=\"sk-toggleable__content\"><pre>RFE(estimator=DecisionTreeClassifier())</pre></div></div></div><div class=\"sk-parallel\"><div class=\"sk-parallel-item\"><div class=\"sk-item\"><div class=\"sk-label-container\"><div class=\"sk-label sk-toggleable\"><input class=\"sk-toggleable__control sk-hidden--visually\" id=\"sk-estimator-id-22\" type=\"checkbox\" ><label for=\"sk-estimator-id-22\" class=\"sk-toggleable__label sk-toggleable__label-arrow\">estimator: DecisionTreeClassifier</label><div class=\"sk-toggleable__content\"><pre>DecisionTreeClassifier()</pre></div></div></div><div class=\"sk-serial\"><div class=\"sk-item\"><div class=\"sk-estimator sk-toggleable\"><input class=\"sk-toggleable__control sk-hidden--visually\" id=\"sk-estimator-id-23\" type=\"checkbox\" ><label for=\"sk-estimator-id-23\" class=\"sk-toggleable__label sk-toggleable__label-arrow\">DecisionTreeClassifier</label><div class=\"sk-toggleable__content\"><pre>DecisionTreeClassifier()</pre></div></div></div></div></div></div></div></div></div></div>"
      ],
      "text/plain": [
       "RFE(estimator=DecisionTreeClassifier())"
      ]
     },
     "execution_count": 238,
     "metadata": {},
     "output_type": "execute_result"
    }
   ],
   "source": [
    "rfe.fit(class_1.iloc[:,:-1],class_1.iloc[:,-1])"
   ]
  },
  {
   "cell_type": "code",
   "execution_count": 239,
   "id": "6f280077",
   "metadata": {},
   "outputs": [
    {
     "data": {
      "text/plain": [
       "array([False, False, False, False,  True,  True,  True,  True, False,\n",
       "       False, False, False,  True,  True,  True])"
      ]
     },
     "execution_count": 239,
     "metadata": {},
     "output_type": "execute_result"
    }
   ],
   "source": [
    "rfe.support_"
   ]
  },
  {
   "cell_type": "code",
   "execution_count": 240,
   "id": "da67936b",
   "metadata": {},
   "outputs": [
    {
     "data": {
      "text/html": [
       "<div>\n",
       "<style scoped>\n",
       "    .dataframe tbody tr th:only-of-type {\n",
       "        vertical-align: middle;\n",
       "    }\n",
       "\n",
       "    .dataframe tbody tr th {\n",
       "        vertical-align: top;\n",
       "    }\n",
       "\n",
       "    .dataframe thead th {\n",
       "        text-align: right;\n",
       "    }\n",
       "</style>\n",
       "<table border=\"1\" class=\"dataframe\">\n",
       "  <thead>\n",
       "    <tr style=\"text-align: right;\">\n",
       "      <th></th>\n",
       "      <th>Importances</th>\n",
       "      <th>Columns</th>\n",
       "    </tr>\n",
       "  </thead>\n",
       "  <tbody>\n",
       "    <tr>\n",
       "      <th>0</th>\n",
       "      <td>False</td>\n",
       "      <td>Age</td>\n",
       "    </tr>\n",
       "    <tr>\n",
       "      <th>1</th>\n",
       "      <td>False</td>\n",
       "      <td>Gender</td>\n",
       "    </tr>\n",
       "    <tr>\n",
       "      <th>2</th>\n",
       "      <td>False</td>\n",
       "      <td>Family_History</td>\n",
       "    </tr>\n",
       "    <tr>\n",
       "      <th>3</th>\n",
       "      <td>False</td>\n",
       "      <td>Personal_History</td>\n",
       "    </tr>\n",
       "    <tr>\n",
       "      <th>4</th>\n",
       "      <td>True</td>\n",
       "      <td>Current_Stressors</td>\n",
       "    </tr>\n",
       "    <tr>\n",
       "      <th>5</th>\n",
       "      <td>True</td>\n",
       "      <td>Symptoms</td>\n",
       "    </tr>\n",
       "    <tr>\n",
       "      <th>6</th>\n",
       "      <td>True</td>\n",
       "      <td>Severity</td>\n",
       "    </tr>\n",
       "    <tr>\n",
       "      <th>7</th>\n",
       "      <td>True</td>\n",
       "      <td>Impact_on_Life</td>\n",
       "    </tr>\n",
       "    <tr>\n",
       "      <th>8</th>\n",
       "      <td>False</td>\n",
       "      <td>Demographics</td>\n",
       "    </tr>\n",
       "    <tr>\n",
       "      <th>9</th>\n",
       "      <td>False</td>\n",
       "      <td>Medical_History</td>\n",
       "    </tr>\n",
       "    <tr>\n",
       "      <th>10</th>\n",
       "      <td>False</td>\n",
       "      <td>Psychiatric_History</td>\n",
       "    </tr>\n",
       "    <tr>\n",
       "      <th>11</th>\n",
       "      <td>False</td>\n",
       "      <td>Substance_Use</td>\n",
       "    </tr>\n",
       "    <tr>\n",
       "      <th>12</th>\n",
       "      <td>True</td>\n",
       "      <td>Coping_Mechanisms</td>\n",
       "    </tr>\n",
       "    <tr>\n",
       "      <th>13</th>\n",
       "      <td>True</td>\n",
       "      <td>Social_Support</td>\n",
       "    </tr>\n",
       "    <tr>\n",
       "      <th>14</th>\n",
       "      <td>True</td>\n",
       "      <td>Lifestyle_Factors</td>\n",
       "    </tr>\n",
       "  </tbody>\n",
       "</table>\n",
       "</div>"
      ],
      "text/plain": [
       "    Importances              Columns\n",
       "0         False                  Age\n",
       "1         False               Gender\n",
       "2         False       Family_History\n",
       "3         False     Personal_History\n",
       "4          True    Current_Stressors\n",
       "5          True             Symptoms\n",
       "6          True             Severity\n",
       "7          True       Impact_on_Life\n",
       "8         False         Demographics\n",
       "9         False      Medical_History\n",
       "10        False  Psychiatric_History\n",
       "11        False        Substance_Use\n",
       "12         True    Coping_Mechanisms\n",
       "13         True       Social_Support\n",
       "14         True    Lifestyle_Factors"
      ]
     },
     "execution_count": 240,
     "metadata": {},
     "output_type": "execute_result"
    }
   ],
   "source": [
    "rfe_df=pd.DataFrame({\"Importances\":list(rfe.support_),\"Columns\":list(class_1.iloc[:,:-1].columns)})\n",
    "rfe_df"
   ]
  },
  {
   "cell_type": "code",
   "execution_count": 241,
   "id": "eaeeed59",
   "metadata": {},
   "outputs": [
    {
     "data": {
      "text/html": [
       "<div>\n",
       "<style scoped>\n",
       "    .dataframe tbody tr th:only-of-type {\n",
       "        vertical-align: middle;\n",
       "    }\n",
       "\n",
       "    .dataframe tbody tr th {\n",
       "        vertical-align: top;\n",
       "    }\n",
       "\n",
       "    .dataframe thead th {\n",
       "        text-align: right;\n",
       "    }\n",
       "</style>\n",
       "<table border=\"1\" class=\"dataframe\">\n",
       "  <thead>\n",
       "    <tr style=\"text-align: right;\">\n",
       "      <th></th>\n",
       "      <th>Importances</th>\n",
       "      <th>Columns</th>\n",
       "    </tr>\n",
       "  </thead>\n",
       "  <tbody>\n",
       "    <tr>\n",
       "      <th>4</th>\n",
       "      <td>True</td>\n",
       "      <td>Current_Stressors</td>\n",
       "    </tr>\n",
       "    <tr>\n",
       "      <th>5</th>\n",
       "      <td>True</td>\n",
       "      <td>Symptoms</td>\n",
       "    </tr>\n",
       "    <tr>\n",
       "      <th>6</th>\n",
       "      <td>True</td>\n",
       "      <td>Severity</td>\n",
       "    </tr>\n",
       "    <tr>\n",
       "      <th>7</th>\n",
       "      <td>True</td>\n",
       "      <td>Impact_on_Life</td>\n",
       "    </tr>\n",
       "    <tr>\n",
       "      <th>12</th>\n",
       "      <td>True</td>\n",
       "      <td>Coping_Mechanisms</td>\n",
       "    </tr>\n",
       "    <tr>\n",
       "      <th>13</th>\n",
       "      <td>True</td>\n",
       "      <td>Social_Support</td>\n",
       "    </tr>\n",
       "    <tr>\n",
       "      <th>14</th>\n",
       "      <td>True</td>\n",
       "      <td>Lifestyle_Factors</td>\n",
       "    </tr>\n",
       "    <tr>\n",
       "      <th>0</th>\n",
       "      <td>False</td>\n",
       "      <td>Age</td>\n",
       "    </tr>\n",
       "    <tr>\n",
       "      <th>1</th>\n",
       "      <td>False</td>\n",
       "      <td>Gender</td>\n",
       "    </tr>\n",
       "    <tr>\n",
       "      <th>2</th>\n",
       "      <td>False</td>\n",
       "      <td>Family_History</td>\n",
       "    </tr>\n",
       "    <tr>\n",
       "      <th>3</th>\n",
       "      <td>False</td>\n",
       "      <td>Personal_History</td>\n",
       "    </tr>\n",
       "    <tr>\n",
       "      <th>8</th>\n",
       "      <td>False</td>\n",
       "      <td>Demographics</td>\n",
       "    </tr>\n",
       "    <tr>\n",
       "      <th>9</th>\n",
       "      <td>False</td>\n",
       "      <td>Medical_History</td>\n",
       "    </tr>\n",
       "    <tr>\n",
       "      <th>10</th>\n",
       "      <td>False</td>\n",
       "      <td>Psychiatric_History</td>\n",
       "    </tr>\n",
       "    <tr>\n",
       "      <th>11</th>\n",
       "      <td>False</td>\n",
       "      <td>Substance_Use</td>\n",
       "    </tr>\n",
       "  </tbody>\n",
       "</table>\n",
       "</div>"
      ],
      "text/plain": [
       "    Importances              Columns\n",
       "4          True    Current_Stressors\n",
       "5          True             Symptoms\n",
       "6          True             Severity\n",
       "7          True       Impact_on_Life\n",
       "12         True    Coping_Mechanisms\n",
       "13         True       Social_Support\n",
       "14         True    Lifestyle_Factors\n",
       "0         False                  Age\n",
       "1         False               Gender\n",
       "2         False       Family_History\n",
       "3         False     Personal_History\n",
       "8         False         Demographics\n",
       "9         False      Medical_History\n",
       "10        False  Psychiatric_History\n",
       "11        False        Substance_Use"
      ]
     },
     "execution_count": 241,
     "metadata": {},
     "output_type": "execute_result"
    }
   ],
   "source": [
    "sorted_df =rfe_df.sort_values([\"Importances\"],ascending=False)\n",
    "sorted_df"
   ]
  },
  {
   "cell_type": "code",
   "execution_count": 242,
   "id": "d3044fa5",
   "metadata": {},
   "outputs": [],
   "source": [
    "d1=class_1.drop([\"Gender\",\"Age\",\"Demographics\",\"Medical_History\",\"Psychiatric_History\",\"Substance_Use\",\"Family_History\",\"Personal_History\"],axis=1)"
   ]
  },
  {
   "cell_type": "code",
   "execution_count": 243,
   "id": "15442499",
   "metadata": {},
   "outputs": [
    {
     "data": {
      "text/html": [
       "<div>\n",
       "<style scoped>\n",
       "    .dataframe tbody tr th:only-of-type {\n",
       "        vertical-align: middle;\n",
       "    }\n",
       "\n",
       "    .dataframe tbody tr th {\n",
       "        vertical-align: top;\n",
       "    }\n",
       "\n",
       "    .dataframe thead th {\n",
       "        text-align: right;\n",
       "    }\n",
       "</style>\n",
       "<table border=\"1\" class=\"dataframe\">\n",
       "  <thead>\n",
       "    <tr style=\"text-align: right;\">\n",
       "      <th></th>\n",
       "      <th>Current_Stressors</th>\n",
       "      <th>Symptoms</th>\n",
       "      <th>Severity</th>\n",
       "      <th>Impact_on_Life</th>\n",
       "      <th>Coping_Mechanisms</th>\n",
       "      <th>Social_Support</th>\n",
       "      <th>Lifestyle_Factors</th>\n",
       "      <th>Panic_Disorder_Diagnosis</th>\n",
       "    </tr>\n",
       "  </thead>\n",
       "  <tbody>\n",
       "    <tr>\n",
       "      <th>34395</th>\n",
       "      <td>1</td>\n",
       "      <td>2</td>\n",
       "      <td>1</td>\n",
       "      <td>0</td>\n",
       "      <td>2</td>\n",
       "      <td>2</td>\n",
       "      <td>0</td>\n",
       "      <td>0</td>\n",
       "    </tr>\n",
       "  </tbody>\n",
       "</table>\n",
       "</div>"
      ],
      "text/plain": [
       "       Current_Stressors  Symptoms  Severity  Impact_on_Life  \\\n",
       "34395                  1         2         1               0   \n",
       "\n",
       "       Coping_Mechanisms  Social_Support  Lifestyle_Factors  \\\n",
       "34395                  2               2                  0   \n",
       "\n",
       "       Panic_Disorder_Diagnosis  \n",
       "34395                         0  "
      ]
     },
     "execution_count": 243,
     "metadata": {},
     "output_type": "execute_result"
    }
   ],
   "source": [
    "d1.head(1)"
   ]
  },
  {
   "cell_type": "code",
   "execution_count": 244,
   "id": "84e1e3ef",
   "metadata": {},
   "outputs": [
    {
     "data": {
      "text/plain": [
       "(4244, 8)"
      ]
     },
     "execution_count": 244,
     "metadata": {},
     "output_type": "execute_result"
    }
   ],
   "source": [
    "d1.shape"
   ]
  },
  {
   "cell_type": "code",
   "execution_count": 245,
   "id": "d4830d49",
   "metadata": {},
   "outputs": [],
   "source": [
    "x2=d1.iloc[:,:-1]\n",
    "y2=d1.iloc[:,-1]"
   ]
  },
  {
   "cell_type": "code",
   "execution_count": 246,
   "id": "5fa9c45e",
   "metadata": {},
   "outputs": [
    {
     "data": {
      "text/html": [
       "<div>\n",
       "<style scoped>\n",
       "    .dataframe tbody tr th:only-of-type {\n",
       "        vertical-align: middle;\n",
       "    }\n",
       "\n",
       "    .dataframe tbody tr th {\n",
       "        vertical-align: top;\n",
       "    }\n",
       "\n",
       "    .dataframe thead th {\n",
       "        text-align: right;\n",
       "    }\n",
       "</style>\n",
       "<table border=\"1\" class=\"dataframe\">\n",
       "  <thead>\n",
       "    <tr style=\"text-align: right;\">\n",
       "      <th></th>\n",
       "      <th>Current_Stressors</th>\n",
       "      <th>Symptoms</th>\n",
       "      <th>Severity</th>\n",
       "      <th>Impact_on_Life</th>\n",
       "      <th>Coping_Mechanisms</th>\n",
       "      <th>Social_Support</th>\n",
       "      <th>Lifestyle_Factors</th>\n",
       "    </tr>\n",
       "  </thead>\n",
       "  <tbody>\n",
       "    <tr>\n",
       "      <th>34395</th>\n",
       "      <td>1</td>\n",
       "      <td>2</td>\n",
       "      <td>1</td>\n",
       "      <td>0</td>\n",
       "      <td>2</td>\n",
       "      <td>2</td>\n",
       "      <td>0</td>\n",
       "    </tr>\n",
       "  </tbody>\n",
       "</table>\n",
       "</div>"
      ],
      "text/plain": [
       "       Current_Stressors  Symptoms  Severity  Impact_on_Life  \\\n",
       "34395                  1         2         1               0   \n",
       "\n",
       "       Coping_Mechanisms  Social_Support  Lifestyle_Factors  \n",
       "34395                  2               2                  0  "
      ]
     },
     "execution_count": 246,
     "metadata": {},
     "output_type": "execute_result"
    }
   ],
   "source": [
    "x2.head(1)"
   ]
  },
  {
   "cell_type": "code",
   "execution_count": 247,
   "id": "84c8a89d",
   "metadata": {},
   "outputs": [],
   "source": [
    "from sklearn.model_selection import train_test_split"
   ]
  },
  {
   "cell_type": "code",
   "execution_count": 248,
   "id": "e39106bb",
   "metadata": {},
   "outputs": [],
   "source": [
    "x2_tr,x2_te,y2_tr,y2_te=train_test_split(x2,y2,test_size=0.2,random_state=100)"
   ]
  },
  {
   "cell_type": "code",
   "execution_count": 249,
   "id": "78406fe3",
   "metadata": {},
   "outputs": [
    {
     "data": {
      "text/plain": [
       "((3395, 7), (849, 7), (3395,), (849,))"
      ]
     },
     "execution_count": 249,
     "metadata": {},
     "output_type": "execute_result"
    }
   ],
   "source": [
    "x2_tr.shape,x2_te.shape,y2_tr.shape,y2_te.shape"
   ]
  },
  {
   "cell_type": "markdown",
   "id": "5911817c",
   "metadata": {},
   "source": [
    "# LogisticRegression"
   ]
  },
  {
   "cell_type": "code",
   "execution_count": 252,
   "id": "5066484e",
   "metadata": {},
   "outputs": [],
   "source": [
    "from sklearn.linear_model import LogisticRegression\n",
    "lg=LogisticRegression()"
   ]
  },
  {
   "cell_type": "code",
   "execution_count": 253,
   "id": "788c0ac3",
   "metadata": {},
   "outputs": [],
   "source": [
    "from sklearn.metrics import confusion_matrix\n",
    "from sklearn.metrics import classification_report"
   ]
  },
  {
   "cell_type": "code",
   "execution_count": 254,
   "id": "1278da8e",
   "metadata": {},
   "outputs": [
    {
     "data": {
      "text/html": [
       "<style>#sk-container-id-18 {color: black;}#sk-container-id-18 pre{padding: 0;}#sk-container-id-18 div.sk-toggleable {background-color: white;}#sk-container-id-18 label.sk-toggleable__label {cursor: pointer;display: block;width: 100%;margin-bottom: 0;padding: 0.3em;box-sizing: border-box;text-align: center;}#sk-container-id-18 label.sk-toggleable__label-arrow:before {content: \"▸\";float: left;margin-right: 0.25em;color: #696969;}#sk-container-id-18 label.sk-toggleable__label-arrow:hover:before {color: black;}#sk-container-id-18 div.sk-estimator:hover label.sk-toggleable__label-arrow:before {color: black;}#sk-container-id-18 div.sk-toggleable__content {max-height: 0;max-width: 0;overflow: hidden;text-align: left;background-color: #f0f8ff;}#sk-container-id-18 div.sk-toggleable__content pre {margin: 0.2em;color: black;border-radius: 0.25em;background-color: #f0f8ff;}#sk-container-id-18 input.sk-toggleable__control:checked~div.sk-toggleable__content {max-height: 200px;max-width: 100%;overflow: auto;}#sk-container-id-18 input.sk-toggleable__control:checked~label.sk-toggleable__label-arrow:before {content: \"▾\";}#sk-container-id-18 div.sk-estimator input.sk-toggleable__control:checked~label.sk-toggleable__label {background-color: #d4ebff;}#sk-container-id-18 div.sk-label input.sk-toggleable__control:checked~label.sk-toggleable__label {background-color: #d4ebff;}#sk-container-id-18 input.sk-hidden--visually {border: 0;clip: rect(1px 1px 1px 1px);clip: rect(1px, 1px, 1px, 1px);height: 1px;margin: -1px;overflow: hidden;padding: 0;position: absolute;width: 1px;}#sk-container-id-18 div.sk-estimator {font-family: monospace;background-color: #f0f8ff;border: 1px dotted black;border-radius: 0.25em;box-sizing: border-box;margin-bottom: 0.5em;}#sk-container-id-18 div.sk-estimator:hover {background-color: #d4ebff;}#sk-container-id-18 div.sk-parallel-item::after {content: \"\";width: 100%;border-bottom: 1px solid gray;flex-grow: 1;}#sk-container-id-18 div.sk-label:hover label.sk-toggleable__label {background-color: #d4ebff;}#sk-container-id-18 div.sk-serial::before {content: \"\";position: absolute;border-left: 1px solid gray;box-sizing: border-box;top: 0;bottom: 0;left: 50%;z-index: 0;}#sk-container-id-18 div.sk-serial {display: flex;flex-direction: column;align-items: center;background-color: white;padding-right: 0.2em;padding-left: 0.2em;position: relative;}#sk-container-id-18 div.sk-item {position: relative;z-index: 1;}#sk-container-id-18 div.sk-parallel {display: flex;align-items: stretch;justify-content: center;background-color: white;position: relative;}#sk-container-id-18 div.sk-item::before, #sk-container-id-18 div.sk-parallel-item::before {content: \"\";position: absolute;border-left: 1px solid gray;box-sizing: border-box;top: 0;bottom: 0;left: 50%;z-index: -1;}#sk-container-id-18 div.sk-parallel-item {display: flex;flex-direction: column;z-index: 1;position: relative;background-color: white;}#sk-container-id-18 div.sk-parallel-item:first-child::after {align-self: flex-end;width: 50%;}#sk-container-id-18 div.sk-parallel-item:last-child::after {align-self: flex-start;width: 50%;}#sk-container-id-18 div.sk-parallel-item:only-child::after {width: 0;}#sk-container-id-18 div.sk-dashed-wrapped {border: 1px dashed gray;margin: 0 0.4em 0.5em 0.4em;box-sizing: border-box;padding-bottom: 0.4em;background-color: white;}#sk-container-id-18 div.sk-label label {font-family: monospace;font-weight: bold;display: inline-block;line-height: 1.2em;}#sk-container-id-18 div.sk-label-container {text-align: center;}#sk-container-id-18 div.sk-container {/* jupyter's `normalize.less` sets `[hidden] { display: none; }` but bootstrap.min.css set `[hidden] { display: none !important; }` so we also need the `!important` here to be able to override the default hidden behavior on the sphinx rendered scikit-learn.org. See: https://github.com/scikit-learn/scikit-learn/issues/21755 */display: inline-block !important;position: relative;}#sk-container-id-18 div.sk-text-repr-fallback {display: none;}</style><div id=\"sk-container-id-18\" class=\"sk-top-container\"><div class=\"sk-text-repr-fallback\"><pre>LogisticRegression()</pre><b>In a Jupyter environment, please rerun this cell to show the HTML representation or trust the notebook. <br />On GitHub, the HTML representation is unable to render, please try loading this page with nbviewer.org.</b></div><div class=\"sk-container\" hidden><div class=\"sk-item\"><div class=\"sk-estimator sk-toggleable\"><input class=\"sk-toggleable__control sk-hidden--visually\" id=\"sk-estimator-id-24\" type=\"checkbox\" checked><label for=\"sk-estimator-id-24\" class=\"sk-toggleable__label sk-toggleable__label-arrow\">LogisticRegression</label><div class=\"sk-toggleable__content\"><pre>LogisticRegression()</pre></div></div></div></div></div>"
      ],
      "text/plain": [
       "LogisticRegression()"
      ]
     },
     "execution_count": 254,
     "metadata": {},
     "output_type": "execute_result"
    }
   ],
   "source": [
    "lg.fit(x2_tr,y2_tr)"
   ]
  },
  {
   "cell_type": "code",
   "execution_count": 255,
   "id": "06f8f5fe",
   "metadata": {},
   "outputs": [
    {
     "data": {
      "text/plain": [
       "array([1, 0, 1, 0, 1, 0, 0, 0, 0, 1, 0, 1, 0, 0, 0, 1, 1, 1, 1, 1, 1, 0,\n",
       "       0, 1, 1, 0, 0, 0, 1, 1, 1, 1, 1, 1, 0, 1, 1, 0, 0, 1, 1, 1, 1, 1,\n",
       "       1, 1, 0, 1, 0, 1, 0, 1, 0, 0, 0, 1, 0, 0, 1, 0, 1, 0, 1, 1, 1, 1,\n",
       "       0, 1, 1, 1, 0, 0, 1, 1, 0, 0, 0, 0, 1, 0, 0, 1, 1, 0, 1, 1, 1, 0,\n",
       "       1, 1, 1, 1, 0, 1, 1, 0, 1, 0, 0, 0, 1, 1, 1, 0, 0, 0, 1, 0, 1, 0,\n",
       "       1, 0, 1, 1, 1, 0, 0, 0, 0, 0, 0, 0, 1, 0, 0, 0, 1, 1, 1, 1, 1, 0,\n",
       "       1, 0, 1, 1, 1, 0, 1, 1, 1, 1, 1, 1, 0, 1, 1, 0, 1, 0, 0, 0, 1, 0,\n",
       "       0, 1, 0, 0, 0, 0, 0, 1, 1, 1, 0, 0, 1, 0, 0, 1, 0, 1, 0, 0, 0, 0,\n",
       "       0, 0, 0, 1, 0, 1, 1, 1, 1, 0, 1, 0, 0, 1, 1, 0, 0, 0, 0, 0, 0, 1,\n",
       "       1, 1, 1, 1, 1, 1, 0, 1, 1, 0, 1, 0, 0, 0, 1, 1, 0, 1, 1, 1, 0, 0,\n",
       "       1, 1, 1, 1, 0, 1, 1, 1, 1, 0, 0, 0, 1, 1, 0, 0, 1, 0, 0, 1, 1, 1,\n",
       "       1, 0, 1, 1, 1, 1, 1, 1, 0, 1, 0, 1, 1, 1, 1, 0, 1, 1, 0, 0, 0, 0,\n",
       "       1, 1, 0, 0, 0, 0, 0, 0, 0, 1, 0, 0, 1, 0, 1, 1, 0, 0, 1, 1, 0, 0,\n",
       "       0, 1, 1, 1, 0, 1, 0, 1, 1, 0, 1, 1, 1, 1, 0, 0, 1, 1, 0, 1, 0, 0,\n",
       "       1, 0, 1, 1, 1, 0, 0, 0, 1, 1, 1, 0, 0, 0, 1, 0, 1, 1, 1, 0, 1, 0,\n",
       "       1, 1, 1, 0, 0, 0, 1, 1, 1, 0, 0, 1, 1, 0, 0, 0, 0, 1, 1, 1, 1, 0,\n",
       "       1, 0, 1, 1, 1, 1, 0, 0, 0, 0, 0, 0, 0, 0, 0, 0, 0, 1, 1, 1, 1, 0,\n",
       "       1, 1, 1, 1, 1, 1, 0, 1, 1, 0, 1, 1, 0, 0, 0, 1, 1, 0, 0, 1, 0, 0,\n",
       "       1, 1, 1, 0, 1, 0, 0, 1, 0, 1, 0, 0, 0, 1, 0, 0, 1, 0, 0, 1, 0, 1,\n",
       "       0, 0, 1, 0, 1, 0, 1, 1, 0, 0, 0, 1, 1, 1, 0, 0, 0, 1, 0, 0, 1, 0,\n",
       "       0, 1, 1, 0, 1, 1, 1, 0, 1, 1, 1, 0, 1, 0, 0, 1, 1, 0, 1, 0, 0, 1,\n",
       "       0, 1, 0, 0, 1, 1, 1, 1, 1, 0, 1, 0, 0, 1, 0, 1, 0, 1, 1, 0, 0, 1,\n",
       "       1, 1, 0, 0, 1, 1, 1, 0, 0, 0, 1, 0, 1, 0, 1, 0, 1, 0, 1, 0, 0, 1,\n",
       "       0, 1, 0, 1, 1, 1, 0, 1, 1, 1, 1, 0, 1, 0, 1, 0, 0, 1, 1, 1, 1, 0,\n",
       "       1, 1, 1, 0, 1, 0, 0, 1, 0, 1, 0, 1, 1, 0, 1, 1, 1, 0, 0, 0, 1, 1,\n",
       "       1, 1, 0, 1, 1, 1, 0, 0, 1, 1, 0, 1, 1, 1, 1, 0, 0, 1, 1, 0, 1, 0,\n",
       "       1, 0, 1, 1, 1, 1, 0, 1, 0, 1, 1, 0, 1, 0, 0, 1, 1, 0, 1, 1, 1, 1,\n",
       "       1, 1, 1, 1, 0, 1, 0, 0, 1, 1, 1, 0, 0, 1, 0, 0, 0, 1, 1, 0, 1, 0,\n",
       "       0, 0, 1, 0, 0, 1, 1, 1, 1, 1, 0, 0, 1, 1, 1, 0, 0, 1, 0, 0, 0, 1,\n",
       "       1, 0, 0, 0, 1, 1, 1, 1, 1, 0, 0, 0, 0, 0, 0, 0, 1, 0, 1, 1, 0, 0,\n",
       "       0, 0, 0, 1, 1, 0, 1, 1, 1, 1, 0, 1, 0, 1, 0, 1, 0, 0, 0, 0, 1, 1,\n",
       "       1, 0, 0, 1, 1, 0, 0, 0, 1, 0, 1, 1, 0, 0, 0, 0, 1, 0, 1, 0, 1, 1,\n",
       "       1, 1, 0, 1, 1, 0, 1, 1, 0, 1, 0, 1, 1, 1, 0, 0, 0, 1, 0, 1, 1, 1,\n",
       "       1, 1, 1, 1, 0, 1, 1, 0, 1, 1, 1, 0, 1, 1, 1, 1, 0, 1, 1, 0, 1, 0,\n",
       "       1, 0, 0, 1, 1, 1, 0, 0, 1, 1, 0, 1, 1, 0, 1, 0, 1, 1, 0, 1, 1, 0,\n",
       "       1, 0, 0, 1, 0, 1, 1, 0, 1, 0, 1, 1, 0, 0, 1, 0, 1, 1, 0, 0, 1, 1,\n",
       "       0, 0, 1, 0, 1, 1, 0, 0, 1, 0, 0, 1, 1, 1, 1, 1, 1, 0, 0, 0, 0, 1,\n",
       "       1, 0, 1, 1, 0, 1, 1, 0, 0, 0, 0, 0, 1, 0, 1, 1, 1, 0, 1, 1, 1, 1,\n",
       "       0, 0, 1, 1, 1, 1, 0, 1, 0, 0, 0, 1, 1], dtype=int64)"
      ]
     },
     "execution_count": 255,
     "metadata": {},
     "output_type": "execute_result"
    }
   ],
   "source": [
    "lg_p3=lg.predict(x2_te)\n",
    "lg_p3"
   ]
  },
  {
   "cell_type": "code",
   "execution_count": 256,
   "id": "3fc8d5ec",
   "metadata": {},
   "outputs": [
    {
     "data": {
      "text/plain": [
       "array([[366,  23],\n",
       "       [ 75, 385]], dtype=int64)"
      ]
     },
     "execution_count": 256,
     "metadata": {},
     "output_type": "execute_result"
    }
   ],
   "source": [
    "lg_m3=confusion_matrix(lg_p3,y2_te)\n",
    "lg_m3"
   ]
  },
  {
   "cell_type": "code",
   "execution_count": 257,
   "id": "0c92bd8e",
   "metadata": {},
   "outputs": [
    {
     "data": {
      "text/plain": [
       "88.4570082449941"
      ]
     },
     "execution_count": 257,
     "metadata": {},
     "output_type": "execute_result"
    }
   ],
   "source": [
    "lg_acc3=lg_m3.diagonal().sum()/lg_m3.sum()*100\n",
    "lg_acc3"
   ]
  },
  {
   "cell_type": "code",
   "execution_count": 258,
   "id": "2c489c2d",
   "metadata": {},
   "outputs": [
    {
     "name": "stdout",
     "output_type": "stream",
     "text": [
      "              precision    recall  f1-score   support\n",
      "\n",
      "           0       0.83      0.94      0.88       389\n",
      "           1       0.94      0.84      0.89       460\n",
      "\n",
      "    accuracy                           0.88       849\n",
      "   macro avg       0.89      0.89      0.88       849\n",
      "weighted avg       0.89      0.88      0.88       849\n",
      "\n"
     ]
    }
   ],
   "source": [
    "print(classification_report(lg_p3,y2_te))"
   ]
  },
  {
   "cell_type": "code",
   "execution_count": 259,
   "id": "49a6746b",
   "metadata": {},
   "outputs": [
    {
     "data": {
      "text/plain": [
       "0.8299319727891157"
      ]
     },
     "execution_count": 259,
     "metadata": {},
     "output_type": "execute_result"
    }
   ],
   "source": [
    "#tpr=tp/(tp+fn)\n",
    "tpr16=366/(366+75)\n",
    "tpr16"
   ]
  },
  {
   "cell_type": "code",
   "execution_count": 260,
   "id": "e1c88cd2",
   "metadata": {},
   "outputs": [
    {
     "data": {
      "text/plain": [
       "0.056372549019607844"
      ]
     },
     "execution_count": 260,
     "metadata": {},
     "output_type": "execute_result"
    }
   ],
   "source": [
    "#fpr=fp/(fp+tn)\n",
    "fpr16=23/(23+385)\n",
    "fpr16"
   ]
  },
  {
   "cell_type": "code",
   "execution_count": 261,
   "id": "eb4be874",
   "metadata": {},
   "outputs": [
    {
     "data": {
      "text/plain": [
       "0.9408740359897172"
      ]
     },
     "execution_count": 261,
     "metadata": {},
     "output_type": "execute_result"
    }
   ],
   "source": [
    "#precision=tp/(tp+fp)\n",
    "precision16=366/(366+23)\n",
    "precision16"
   ]
  },
  {
   "cell_type": "code",
   "execution_count": 262,
   "id": "d73a884a",
   "metadata": {},
   "outputs": [
    {
     "data": {
      "text/plain": [
       "0.8819277108433735"
      ]
     },
     "execution_count": 262,
     "metadata": {},
     "output_type": "execute_result"
    }
   ],
   "source": [
    "#f1-score=2(precision*recall)/(precision+recall)\n",
    "f1score16=(2*(precision16*tpr16))/(precision16+tpr16)\n",
    "f1score16"
   ]
  },
  {
   "cell_type": "markdown",
   "id": "e0f6a0a9",
   "metadata": {},
   "source": [
    "# DecisionTree"
   ]
  },
  {
   "cell_type": "code",
   "execution_count": 263,
   "id": "8b813b27",
   "metadata": {},
   "outputs": [],
   "source": [
    "from sklearn.tree import DecisionTreeClassifier\n",
    "dt=DecisionTreeClassifier()"
   ]
  },
  {
   "cell_type": "code",
   "execution_count": 264,
   "id": "ab36ec7b",
   "metadata": {},
   "outputs": [
    {
     "data": {
      "text/html": [
       "<style>#sk-container-id-19 {color: black;}#sk-container-id-19 pre{padding: 0;}#sk-container-id-19 div.sk-toggleable {background-color: white;}#sk-container-id-19 label.sk-toggleable__label {cursor: pointer;display: block;width: 100%;margin-bottom: 0;padding: 0.3em;box-sizing: border-box;text-align: center;}#sk-container-id-19 label.sk-toggleable__label-arrow:before {content: \"▸\";float: left;margin-right: 0.25em;color: #696969;}#sk-container-id-19 label.sk-toggleable__label-arrow:hover:before {color: black;}#sk-container-id-19 div.sk-estimator:hover label.sk-toggleable__label-arrow:before {color: black;}#sk-container-id-19 div.sk-toggleable__content {max-height: 0;max-width: 0;overflow: hidden;text-align: left;background-color: #f0f8ff;}#sk-container-id-19 div.sk-toggleable__content pre {margin: 0.2em;color: black;border-radius: 0.25em;background-color: #f0f8ff;}#sk-container-id-19 input.sk-toggleable__control:checked~div.sk-toggleable__content {max-height: 200px;max-width: 100%;overflow: auto;}#sk-container-id-19 input.sk-toggleable__control:checked~label.sk-toggleable__label-arrow:before {content: \"▾\";}#sk-container-id-19 div.sk-estimator input.sk-toggleable__control:checked~label.sk-toggleable__label {background-color: #d4ebff;}#sk-container-id-19 div.sk-label input.sk-toggleable__control:checked~label.sk-toggleable__label {background-color: #d4ebff;}#sk-container-id-19 input.sk-hidden--visually {border: 0;clip: rect(1px 1px 1px 1px);clip: rect(1px, 1px, 1px, 1px);height: 1px;margin: -1px;overflow: hidden;padding: 0;position: absolute;width: 1px;}#sk-container-id-19 div.sk-estimator {font-family: monospace;background-color: #f0f8ff;border: 1px dotted black;border-radius: 0.25em;box-sizing: border-box;margin-bottom: 0.5em;}#sk-container-id-19 div.sk-estimator:hover {background-color: #d4ebff;}#sk-container-id-19 div.sk-parallel-item::after {content: \"\";width: 100%;border-bottom: 1px solid gray;flex-grow: 1;}#sk-container-id-19 div.sk-label:hover label.sk-toggleable__label {background-color: #d4ebff;}#sk-container-id-19 div.sk-serial::before {content: \"\";position: absolute;border-left: 1px solid gray;box-sizing: border-box;top: 0;bottom: 0;left: 50%;z-index: 0;}#sk-container-id-19 div.sk-serial {display: flex;flex-direction: column;align-items: center;background-color: white;padding-right: 0.2em;padding-left: 0.2em;position: relative;}#sk-container-id-19 div.sk-item {position: relative;z-index: 1;}#sk-container-id-19 div.sk-parallel {display: flex;align-items: stretch;justify-content: center;background-color: white;position: relative;}#sk-container-id-19 div.sk-item::before, #sk-container-id-19 div.sk-parallel-item::before {content: \"\";position: absolute;border-left: 1px solid gray;box-sizing: border-box;top: 0;bottom: 0;left: 50%;z-index: -1;}#sk-container-id-19 div.sk-parallel-item {display: flex;flex-direction: column;z-index: 1;position: relative;background-color: white;}#sk-container-id-19 div.sk-parallel-item:first-child::after {align-self: flex-end;width: 50%;}#sk-container-id-19 div.sk-parallel-item:last-child::after {align-self: flex-start;width: 50%;}#sk-container-id-19 div.sk-parallel-item:only-child::after {width: 0;}#sk-container-id-19 div.sk-dashed-wrapped {border: 1px dashed gray;margin: 0 0.4em 0.5em 0.4em;box-sizing: border-box;padding-bottom: 0.4em;background-color: white;}#sk-container-id-19 div.sk-label label {font-family: monospace;font-weight: bold;display: inline-block;line-height: 1.2em;}#sk-container-id-19 div.sk-label-container {text-align: center;}#sk-container-id-19 div.sk-container {/* jupyter's `normalize.less` sets `[hidden] { display: none; }` but bootstrap.min.css set `[hidden] { display: none !important; }` so we also need the `!important` here to be able to override the default hidden behavior on the sphinx rendered scikit-learn.org. See: https://github.com/scikit-learn/scikit-learn/issues/21755 */display: inline-block !important;position: relative;}#sk-container-id-19 div.sk-text-repr-fallback {display: none;}</style><div id=\"sk-container-id-19\" class=\"sk-top-container\"><div class=\"sk-text-repr-fallback\"><pre>DecisionTreeClassifier()</pre><b>In a Jupyter environment, please rerun this cell to show the HTML representation or trust the notebook. <br />On GitHub, the HTML representation is unable to render, please try loading this page with nbviewer.org.</b></div><div class=\"sk-container\" hidden><div class=\"sk-item\"><div class=\"sk-estimator sk-toggleable\"><input class=\"sk-toggleable__control sk-hidden--visually\" id=\"sk-estimator-id-25\" type=\"checkbox\" checked><label for=\"sk-estimator-id-25\" class=\"sk-toggleable__label sk-toggleable__label-arrow\">DecisionTreeClassifier</label><div class=\"sk-toggleable__content\"><pre>DecisionTreeClassifier()</pre></div></div></div></div></div>"
      ],
      "text/plain": [
       "DecisionTreeClassifier()"
      ]
     },
     "execution_count": 264,
     "metadata": {},
     "output_type": "execute_result"
    }
   ],
   "source": [
    "dt.fit(x2_tr,y2_tr)"
   ]
  },
  {
   "cell_type": "code",
   "execution_count": 265,
   "id": "ce3e0049",
   "metadata": {},
   "outputs": [
    {
     "data": {
      "text/plain": [
       "array([1, 0, 1, 0, 1, 0, 0, 0, 0, 1, 0, 1, 1, 0, 0, 1, 1, 1, 1, 1, 1, 0,\n",
       "       0, 1, 1, 0, 0, 0, 1, 1, 1, 1, 1, 1, 0, 1, 1, 0, 0, 1, 0, 0, 1, 1,\n",
       "       1, 0, 0, 1, 0, 1, 0, 0, 0, 0, 0, 1, 1, 0, 1, 0, 1, 1, 0, 1, 0, 1,\n",
       "       0, 1, 1, 1, 0, 0, 1, 1, 0, 0, 0, 0, 1, 0, 1, 1, 1, 0, 1, 0, 1, 0,\n",
       "       0, 1, 1, 1, 0, 0, 1, 0, 0, 0, 0, 0, 1, 0, 1, 0, 0, 0, 1, 0, 0, 0,\n",
       "       1, 0, 0, 1, 1, 0, 0, 0, 0, 0, 0, 0, 1, 0, 0, 0, 1, 1, 1, 0, 1, 0,\n",
       "       0, 0, 1, 1, 1, 0, 1, 0, 1, 1, 1, 1, 0, 1, 1, 0, 1, 0, 0, 0, 1, 0,\n",
       "       0, 1, 0, 0, 0, 0, 1, 1, 1, 0, 0, 0, 1, 0, 0, 1, 0, 1, 0, 0, 0, 0,\n",
       "       0, 0, 0, 0, 1, 1, 1, 1, 1, 1, 1, 0, 0, 1, 1, 0, 0, 0, 0, 0, 0, 1,\n",
       "       1, 0, 0, 1, 0, 1, 0, 1, 1, 0, 1, 0, 0, 0, 1, 1, 0, 0, 1, 1, 0, 0,\n",
       "       1, 1, 1, 1, 0, 1, 1, 1, 1, 0, 0, 0, 1, 1, 0, 0, 1, 0, 0, 1, 0, 1,\n",
       "       1, 0, 1, 1, 0, 1, 1, 1, 0, 1, 0, 1, 1, 1, 1, 0, 1, 1, 0, 0, 0, 0,\n",
       "       1, 1, 0, 1, 1, 0, 0, 0, 0, 1, 0, 0, 1, 0, 1, 1, 0, 0, 1, 1, 0, 0,\n",
       "       0, 1, 1, 1, 0, 1, 0, 1, 0, 0, 1, 1, 1, 1, 1, 0, 1, 1, 0, 1, 1, 0,\n",
       "       1, 0, 1, 1, 1, 0, 0, 0, 1, 1, 1, 0, 0, 0, 1, 0, 1, 1, 0, 0, 1, 0,\n",
       "       0, 1, 1, 0, 0, 0, 1, 1, 1, 0, 0, 1, 1, 0, 0, 0, 0, 0, 1, 1, 1, 0,\n",
       "       1, 0, 0, 1, 1, 1, 0, 0, 0, 0, 0, 0, 0, 0, 0, 0, 0, 1, 1, 1, 1, 0,\n",
       "       1, 1, 1, 1, 1, 1, 0, 1, 1, 0, 1, 1, 0, 0, 0, 1, 1, 0, 0, 1, 0, 0,\n",
       "       1, 0, 1, 0, 1, 0, 0, 1, 0, 1, 0, 0, 0, 1, 0, 0, 1, 0, 0, 1, 0, 1,\n",
       "       0, 0, 1, 0, 1, 0, 0, 1, 0, 0, 0, 1, 1, 1, 0, 0, 0, 1, 1, 0, 1, 0,\n",
       "       0, 1, 1, 0, 0, 1, 1, 0, 1, 1, 1, 0, 1, 0, 0, 1, 1, 0, 1, 0, 0, 1,\n",
       "       0, 1, 0, 0, 1, 1, 1, 1, 1, 0, 1, 0, 0, 1, 0, 1, 0, 1, 1, 0, 0, 1,\n",
       "       1, 1, 0, 0, 1, 1, 1, 0, 0, 0, 1, 0, 1, 0, 1, 1, 1, 0, 0, 0, 0, 1,\n",
       "       0, 1, 0, 1, 1, 1, 0, 1, 1, 1, 1, 0, 1, 0, 1, 0, 0, 1, 1, 1, 0, 1,\n",
       "       0, 1, 1, 0, 0, 0, 0, 1, 0, 1, 1, 1, 0, 0, 0, 1, 1, 0, 0, 0, 0, 1,\n",
       "       1, 1, 0, 1, 1, 1, 0, 1, 1, 1, 0, 1, 1, 1, 1, 0, 0, 0, 1, 0, 1, 0,\n",
       "       1, 0, 1, 1, 1, 1, 0, 1, 0, 0, 1, 0, 1, 0, 0, 1, 1, 0, 1, 1, 0, 1,\n",
       "       1, 1, 1, 1, 0, 1, 0, 0, 1, 1, 0, 0, 1, 1, 0, 0, 0, 1, 1, 0, 1, 0,\n",
       "       0, 0, 1, 0, 0, 1, 1, 1, 1, 1, 0, 0, 0, 1, 1, 0, 0, 1, 0, 0, 0, 1,\n",
       "       1, 0, 0, 0, 1, 1, 1, 0, 1, 0, 0, 1, 0, 0, 0, 0, 1, 0, 1, 1, 0, 1,\n",
       "       0, 0, 0, 1, 1, 0, 1, 1, 1, 0, 0, 1, 0, 1, 0, 0, 0, 0, 0, 0, 0, 1,\n",
       "       1, 0, 0, 1, 1, 0, 0, 0, 1, 0, 1, 0, 0, 0, 0, 0, 1, 0, 1, 0, 1, 1,\n",
       "       1, 1, 0, 1, 1, 0, 1, 1, 0, 1, 1, 0, 1, 1, 0, 0, 0, 1, 0, 1, 1, 1,\n",
       "       1, 1, 1, 1, 0, 1, 1, 0, 1, 1, 1, 0, 1, 1, 1, 1, 0, 1, 1, 0, 1, 0,\n",
       "       0, 0, 0, 0, 1, 1, 0, 0, 1, 1, 1, 0, 1, 0, 1, 0, 1, 1, 0, 1, 1, 0,\n",
       "       1, 0, 0, 1, 1, 1, 1, 1, 1, 0, 1, 1, 0, 0, 0, 0, 1, 1, 0, 0, 1, 1,\n",
       "       0, 0, 1, 0, 1, 0, 0, 0, 1, 0, 0, 1, 1, 1, 0, 1, 0, 0, 0, 0, 0, 1,\n",
       "       1, 0, 1, 1, 0, 1, 1, 0, 0, 0, 0, 0, 1, 0, 1, 1, 1, 0, 0, 1, 1, 1,\n",
       "       0, 0, 0, 1, 1, 1, 0, 1, 0, 0, 0, 1, 1], dtype=int64)"
      ]
     },
     "execution_count": 265,
     "metadata": {},
     "output_type": "execute_result"
    }
   ],
   "source": [
    "dt_p3=dt.predict(x2_te)\n",
    "dt_p3"
   ]
  },
  {
   "cell_type": "code",
   "execution_count": 266,
   "id": "c6820505",
   "metadata": {},
   "outputs": [
    {
     "data": {
      "text/plain": [
       "array([[425,   0],\n",
       "       [ 16, 408]], dtype=int64)"
      ]
     },
     "execution_count": 266,
     "metadata": {},
     "output_type": "execute_result"
    }
   ],
   "source": [
    "dt_m3=confusion_matrix(dt_p3,y2_te)\n",
    "dt_m3"
   ]
  },
  {
   "cell_type": "code",
   "execution_count": 267,
   "id": "c770c665",
   "metadata": {},
   "outputs": [
    {
     "data": {
      "text/plain": [
       "98.11542991755006"
      ]
     },
     "execution_count": 267,
     "metadata": {},
     "output_type": "execute_result"
    }
   ],
   "source": [
    "dt_acc3=dt_m3.diagonal().sum()/dt_m3.sum()*100\n",
    "dt_acc3"
   ]
  },
  {
   "cell_type": "code",
   "execution_count": 268,
   "id": "9cd573b9",
   "metadata": {},
   "outputs": [
    {
     "name": "stdout",
     "output_type": "stream",
     "text": [
      "              precision    recall  f1-score   support\n",
      "\n",
      "           0       0.96      1.00      0.98       425\n",
      "           1       1.00      0.96      0.98       424\n",
      "\n",
      "    accuracy                           0.98       849\n",
      "   macro avg       0.98      0.98      0.98       849\n",
      "weighted avg       0.98      0.98      0.98       849\n",
      "\n"
     ]
    }
   ],
   "source": [
    "print(classification_report(dt_p3,y2_te))"
   ]
  },
  {
   "cell_type": "code",
   "execution_count": 269,
   "id": "73f2524b",
   "metadata": {},
   "outputs": [
    {
     "data": {
      "text/plain": [
       "0.963718820861678"
      ]
     },
     "execution_count": 269,
     "metadata": {},
     "output_type": "execute_result"
    }
   ],
   "source": [
    "#tpr=tp/(tp+fn)\n",
    "tpr17=425/(425+16)\n",
    "tpr17"
   ]
  },
  {
   "cell_type": "code",
   "execution_count": 270,
   "id": "00546203",
   "metadata": {},
   "outputs": [
    {
     "data": {
      "text/plain": [
       "0.0"
      ]
     },
     "execution_count": 270,
     "metadata": {},
     "output_type": "execute_result"
    }
   ],
   "source": [
    "#fpr=fp/(fp+tn)\n",
    "fpr17=0/(0+408)\n",
    "fpr17"
   ]
  },
  {
   "cell_type": "code",
   "execution_count": 271,
   "id": "b91ae058",
   "metadata": {},
   "outputs": [
    {
     "data": {
      "text/plain": [
       "1.0"
      ]
     },
     "execution_count": 271,
     "metadata": {},
     "output_type": "execute_result"
    }
   ],
   "source": [
    "#precision=tp/(tp+fp)\n",
    "precision17=425/(425+0)\n",
    "precision17"
   ]
  },
  {
   "cell_type": "code",
   "execution_count": 272,
   "id": "3269ef9e",
   "metadata": {},
   "outputs": [
    {
     "data": {
      "text/plain": [
       "0.9815242494226328"
      ]
     },
     "execution_count": 272,
     "metadata": {},
     "output_type": "execute_result"
    }
   ],
   "source": [
    "#f1-score=2(precision*recall)/(precision+recall)\n",
    "f1score17=(2*(precision17*tpr17))/(precision17+tpr17)\n",
    "f1score17"
   ]
  },
  {
   "cell_type": "markdown",
   "id": "5f4d5b6e",
   "metadata": {},
   "source": [
    "# RandomForest"
   ]
  },
  {
   "cell_type": "code",
   "execution_count": 273,
   "id": "4fb943c3",
   "metadata": {},
   "outputs": [],
   "source": [
    "from sklearn.ensemble import RandomForestClassifier\n",
    "rf=RandomForestClassifier()"
   ]
  },
  {
   "cell_type": "code",
   "execution_count": 274,
   "id": "855d91b4",
   "metadata": {},
   "outputs": [
    {
     "data": {
      "text/html": [
       "<style>#sk-container-id-20 {color: black;}#sk-container-id-20 pre{padding: 0;}#sk-container-id-20 div.sk-toggleable {background-color: white;}#sk-container-id-20 label.sk-toggleable__label {cursor: pointer;display: block;width: 100%;margin-bottom: 0;padding: 0.3em;box-sizing: border-box;text-align: center;}#sk-container-id-20 label.sk-toggleable__label-arrow:before {content: \"▸\";float: left;margin-right: 0.25em;color: #696969;}#sk-container-id-20 label.sk-toggleable__label-arrow:hover:before {color: black;}#sk-container-id-20 div.sk-estimator:hover label.sk-toggleable__label-arrow:before {color: black;}#sk-container-id-20 div.sk-toggleable__content {max-height: 0;max-width: 0;overflow: hidden;text-align: left;background-color: #f0f8ff;}#sk-container-id-20 div.sk-toggleable__content pre {margin: 0.2em;color: black;border-radius: 0.25em;background-color: #f0f8ff;}#sk-container-id-20 input.sk-toggleable__control:checked~div.sk-toggleable__content {max-height: 200px;max-width: 100%;overflow: auto;}#sk-container-id-20 input.sk-toggleable__control:checked~label.sk-toggleable__label-arrow:before {content: \"▾\";}#sk-container-id-20 div.sk-estimator input.sk-toggleable__control:checked~label.sk-toggleable__label {background-color: #d4ebff;}#sk-container-id-20 div.sk-label input.sk-toggleable__control:checked~label.sk-toggleable__label {background-color: #d4ebff;}#sk-container-id-20 input.sk-hidden--visually {border: 0;clip: rect(1px 1px 1px 1px);clip: rect(1px, 1px, 1px, 1px);height: 1px;margin: -1px;overflow: hidden;padding: 0;position: absolute;width: 1px;}#sk-container-id-20 div.sk-estimator {font-family: monospace;background-color: #f0f8ff;border: 1px dotted black;border-radius: 0.25em;box-sizing: border-box;margin-bottom: 0.5em;}#sk-container-id-20 div.sk-estimator:hover {background-color: #d4ebff;}#sk-container-id-20 div.sk-parallel-item::after {content: \"\";width: 100%;border-bottom: 1px solid gray;flex-grow: 1;}#sk-container-id-20 div.sk-label:hover label.sk-toggleable__label {background-color: #d4ebff;}#sk-container-id-20 div.sk-serial::before {content: \"\";position: absolute;border-left: 1px solid gray;box-sizing: border-box;top: 0;bottom: 0;left: 50%;z-index: 0;}#sk-container-id-20 div.sk-serial {display: flex;flex-direction: column;align-items: center;background-color: white;padding-right: 0.2em;padding-left: 0.2em;position: relative;}#sk-container-id-20 div.sk-item {position: relative;z-index: 1;}#sk-container-id-20 div.sk-parallel {display: flex;align-items: stretch;justify-content: center;background-color: white;position: relative;}#sk-container-id-20 div.sk-item::before, #sk-container-id-20 div.sk-parallel-item::before {content: \"\";position: absolute;border-left: 1px solid gray;box-sizing: border-box;top: 0;bottom: 0;left: 50%;z-index: -1;}#sk-container-id-20 div.sk-parallel-item {display: flex;flex-direction: column;z-index: 1;position: relative;background-color: white;}#sk-container-id-20 div.sk-parallel-item:first-child::after {align-self: flex-end;width: 50%;}#sk-container-id-20 div.sk-parallel-item:last-child::after {align-self: flex-start;width: 50%;}#sk-container-id-20 div.sk-parallel-item:only-child::after {width: 0;}#sk-container-id-20 div.sk-dashed-wrapped {border: 1px dashed gray;margin: 0 0.4em 0.5em 0.4em;box-sizing: border-box;padding-bottom: 0.4em;background-color: white;}#sk-container-id-20 div.sk-label label {font-family: monospace;font-weight: bold;display: inline-block;line-height: 1.2em;}#sk-container-id-20 div.sk-label-container {text-align: center;}#sk-container-id-20 div.sk-container {/* jupyter's `normalize.less` sets `[hidden] { display: none; }` but bootstrap.min.css set `[hidden] { display: none !important; }` so we also need the `!important` here to be able to override the default hidden behavior on the sphinx rendered scikit-learn.org. See: https://github.com/scikit-learn/scikit-learn/issues/21755 */display: inline-block !important;position: relative;}#sk-container-id-20 div.sk-text-repr-fallback {display: none;}</style><div id=\"sk-container-id-20\" class=\"sk-top-container\"><div class=\"sk-text-repr-fallback\"><pre>RandomForestClassifier()</pre><b>In a Jupyter environment, please rerun this cell to show the HTML representation or trust the notebook. <br />On GitHub, the HTML representation is unable to render, please try loading this page with nbviewer.org.</b></div><div class=\"sk-container\" hidden><div class=\"sk-item\"><div class=\"sk-estimator sk-toggleable\"><input class=\"sk-toggleable__control sk-hidden--visually\" id=\"sk-estimator-id-26\" type=\"checkbox\" checked><label for=\"sk-estimator-id-26\" class=\"sk-toggleable__label sk-toggleable__label-arrow\">RandomForestClassifier</label><div class=\"sk-toggleable__content\"><pre>RandomForestClassifier()</pre></div></div></div></div></div>"
      ],
      "text/plain": [
       "RandomForestClassifier()"
      ]
     },
     "execution_count": 274,
     "metadata": {},
     "output_type": "execute_result"
    }
   ],
   "source": [
    "rf.fit(x2_tr,y2_tr)"
   ]
  },
  {
   "cell_type": "code",
   "execution_count": 275,
   "id": "b41e208b",
   "metadata": {},
   "outputs": [
    {
     "data": {
      "text/plain": [
       "array([1, 0, 1, 0, 1, 0, 0, 0, 0, 1, 0, 1, 1, 0, 0, 1, 1, 1, 1, 1, 1, 0,\n",
       "       0, 1, 1, 0, 0, 0, 1, 1, 1, 1, 1, 1, 0, 1, 1, 0, 0, 1, 1, 0, 1, 1,\n",
       "       1, 0, 0, 1, 0, 1, 0, 0, 0, 0, 0, 1, 1, 0, 1, 0, 1, 1, 0, 1, 0, 1,\n",
       "       0, 1, 1, 1, 0, 0, 1, 1, 0, 0, 0, 0, 1, 0, 1, 1, 1, 0, 1, 0, 1, 0,\n",
       "       0, 1, 1, 1, 0, 0, 1, 0, 0, 0, 0, 0, 1, 0, 1, 0, 0, 0, 1, 0, 0, 0,\n",
       "       1, 0, 0, 1, 1, 0, 0, 0, 0, 0, 0, 0, 1, 0, 0, 0, 1, 1, 1, 0, 1, 0,\n",
       "       0, 0, 1, 1, 1, 0, 1, 0, 1, 1, 1, 1, 0, 1, 1, 0, 1, 0, 0, 0, 1, 0,\n",
       "       0, 1, 0, 0, 0, 0, 1, 1, 1, 0, 0, 0, 1, 0, 0, 1, 0, 1, 0, 0, 0, 0,\n",
       "       0, 0, 0, 0, 1, 1, 1, 1, 1, 1, 1, 0, 0, 1, 1, 0, 0, 0, 0, 0, 0, 1,\n",
       "       1, 0, 0, 1, 0, 1, 0, 1, 1, 0, 1, 0, 0, 0, 1, 1, 0, 0, 1, 1, 0, 0,\n",
       "       1, 1, 1, 1, 0, 1, 1, 1, 1, 0, 0, 0, 1, 1, 0, 0, 1, 0, 0, 1, 1, 1,\n",
       "       1, 0, 1, 1, 0, 1, 1, 1, 0, 1, 0, 1, 1, 1, 1, 0, 1, 1, 0, 0, 0, 0,\n",
       "       1, 1, 0, 1, 1, 0, 0, 0, 0, 1, 0, 0, 1, 0, 1, 1, 0, 0, 1, 1, 0, 0,\n",
       "       0, 1, 1, 1, 0, 1, 0, 1, 0, 0, 1, 1, 1, 1, 1, 0, 1, 1, 0, 1, 1, 0,\n",
       "       1, 0, 1, 1, 1, 0, 0, 0, 1, 1, 1, 0, 0, 0, 1, 0, 1, 1, 0, 0, 1, 0,\n",
       "       0, 1, 1, 0, 0, 0, 1, 1, 1, 0, 0, 1, 1, 0, 0, 0, 0, 0, 1, 1, 1, 0,\n",
       "       1, 0, 0, 1, 1, 1, 0, 0, 0, 0, 0, 0, 0, 0, 0, 0, 0, 1, 1, 1, 1, 0,\n",
       "       1, 1, 1, 1, 1, 1, 0, 1, 1, 0, 1, 1, 0, 0, 0, 1, 1, 0, 0, 1, 0, 0,\n",
       "       1, 0, 1, 0, 1, 0, 0, 1, 0, 1, 0, 0, 0, 1, 0, 0, 1, 0, 0, 1, 0, 1,\n",
       "       0, 0, 1, 0, 1, 0, 1, 1, 0, 0, 0, 1, 1, 1, 0, 0, 0, 1, 1, 0, 1, 0,\n",
       "       0, 1, 1, 0, 0, 1, 1, 0, 1, 1, 1, 0, 1, 0, 0, 1, 1, 0, 1, 0, 0, 1,\n",
       "       0, 1, 0, 0, 1, 1, 1, 1, 1, 0, 1, 0, 0, 1, 0, 1, 0, 1, 1, 0, 0, 1,\n",
       "       1, 1, 0, 0, 1, 1, 1, 0, 0, 0, 1, 0, 1, 0, 1, 1, 1, 0, 0, 0, 0, 1,\n",
       "       0, 1, 0, 1, 1, 1, 0, 1, 1, 1, 1, 0, 1, 0, 1, 0, 0, 1, 1, 1, 0, 1,\n",
       "       0, 1, 1, 0, 0, 0, 0, 1, 0, 1, 1, 1, 0, 0, 0, 1, 1, 0, 0, 0, 0, 1,\n",
       "       1, 1, 0, 1, 1, 1, 0, 1, 1, 1, 0, 1, 1, 1, 1, 0, 0, 0, 1, 0, 1, 0,\n",
       "       1, 0, 1, 1, 1, 1, 0, 1, 0, 0, 1, 0, 1, 0, 0, 1, 1, 0, 1, 1, 0, 1,\n",
       "       1, 1, 1, 1, 0, 1, 0, 0, 1, 1, 0, 0, 1, 1, 0, 0, 0, 1, 1, 0, 1, 0,\n",
       "       0, 0, 1, 0, 0, 1, 1, 1, 1, 1, 0, 0, 0, 1, 1, 0, 0, 1, 0, 0, 0, 1,\n",
       "       1, 0, 0, 0, 1, 1, 1, 0, 1, 0, 0, 1, 0, 0, 0, 0, 1, 0, 1, 1, 0, 1,\n",
       "       0, 0, 0, 1, 1, 0, 1, 1, 1, 0, 0, 1, 0, 1, 0, 0, 0, 0, 0, 0, 0, 1,\n",
       "       1, 0, 0, 1, 1, 0, 0, 0, 1, 0, 1, 0, 0, 0, 0, 0, 1, 0, 1, 0, 1, 1,\n",
       "       1, 1, 0, 1, 1, 0, 1, 1, 0, 1, 1, 0, 1, 1, 0, 0, 0, 1, 0, 1, 1, 1,\n",
       "       1, 1, 1, 1, 0, 1, 1, 0, 1, 1, 1, 0, 1, 1, 1, 1, 0, 1, 1, 0, 1, 0,\n",
       "       0, 0, 0, 0, 1, 1, 0, 0, 1, 1, 1, 0, 1, 0, 1, 0, 1, 1, 0, 1, 1, 0,\n",
       "       1, 0, 0, 1, 1, 1, 1, 1, 1, 0, 1, 1, 0, 0, 0, 0, 1, 1, 0, 0, 1, 1,\n",
       "       0, 0, 1, 0, 1, 0, 0, 0, 1, 0, 0, 1, 1, 1, 0, 1, 0, 0, 0, 0, 0, 1,\n",
       "       1, 0, 1, 1, 0, 1, 1, 0, 0, 0, 0, 0, 1, 0, 1, 1, 1, 0, 0, 1, 1, 1,\n",
       "       0, 0, 0, 1, 1, 1, 0, 1, 0, 0, 0, 1, 1], dtype=int64)"
      ]
     },
     "execution_count": 275,
     "metadata": {},
     "output_type": "execute_result"
    }
   ],
   "source": [
    "rf_pre3=rf.predict(x2_te)\n",
    "rf_pre3"
   ]
  },
  {
   "cell_type": "code",
   "execution_count": 276,
   "id": "41a2f9d4",
   "metadata": {},
   "outputs": [
    {
     "data": {
      "text/plain": [
       "array([[422,   0],\n",
       "       [ 19, 408]], dtype=int64)"
      ]
     },
     "execution_count": 276,
     "metadata": {},
     "output_type": "execute_result"
    }
   ],
   "source": [
    "rf_mat3=confusion_matrix(rf_pre3,y2_te)\n",
    "rf_mat3"
   ]
  },
  {
   "cell_type": "code",
   "execution_count": 277,
   "id": "708814bb",
   "metadata": {},
   "outputs": [
    {
     "data": {
      "text/plain": [
       "97.7620730270907"
      ]
     },
     "execution_count": 277,
     "metadata": {},
     "output_type": "execute_result"
    }
   ],
   "source": [
    "rf_acc3=rf_mat3.diagonal().sum()/rf_mat3.sum()*100\n",
    "rf_acc3"
   ]
  },
  {
   "cell_type": "code",
   "execution_count": 278,
   "id": "25f3c71c",
   "metadata": {},
   "outputs": [
    {
     "name": "stdout",
     "output_type": "stream",
     "text": [
      "              precision    recall  f1-score   support\n",
      "\n",
      "           0       0.96      1.00      0.98       422\n",
      "           1       1.00      0.96      0.98       427\n",
      "\n",
      "    accuracy                           0.98       849\n",
      "   macro avg       0.98      0.98      0.98       849\n",
      "weighted avg       0.98      0.98      0.98       849\n",
      "\n"
     ]
    }
   ],
   "source": [
    "print(classification_report (rf_pre3,y2_te))"
   ]
  },
  {
   "cell_type": "code",
   "execution_count": 279,
   "id": "2a361292",
   "metadata": {},
   "outputs": [
    {
     "data": {
      "text/plain": [
       "0.9569160997732427"
      ]
     },
     "execution_count": 279,
     "metadata": {},
     "output_type": "execute_result"
    }
   ],
   "source": [
    "#tpr=tp/(tp+fn)\n",
    "tpr18=422/(422+19)\n",
    "tpr18"
   ]
  },
  {
   "cell_type": "code",
   "execution_count": 280,
   "id": "1a6fa51c",
   "metadata": {},
   "outputs": [
    {
     "data": {
      "text/plain": [
       "0.0"
      ]
     },
     "execution_count": 280,
     "metadata": {},
     "output_type": "execute_result"
    }
   ],
   "source": [
    "#fpr=fp/(fp+tn)\n",
    "fpr18= 0/(0+408)\n",
    "fpr18"
   ]
  },
  {
   "cell_type": "code",
   "execution_count": 281,
   "id": "ed0acfc1",
   "metadata": {},
   "outputs": [
    {
     "data": {
      "text/plain": [
       "1.0"
      ]
     },
     "execution_count": 281,
     "metadata": {},
     "output_type": "execute_result"
    }
   ],
   "source": [
    "#precision=tp/(tp+fp)\n",
    "precision18=422/(422+0)\n",
    "precision18"
   ]
  },
  {
   "cell_type": "code",
   "execution_count": 282,
   "id": "22c2c838",
   "metadata": {},
   "outputs": [
    {
     "data": {
      "text/plain": [
       "0.9779837775202781"
      ]
     },
     "execution_count": 282,
     "metadata": {},
     "output_type": "execute_result"
    }
   ],
   "source": [
    "#f1-score=2(precision*recall)/(precision+recall)\n",
    "f1score18=(2*(precision18*tpr18))/(precision18+tpr18)\n",
    "f1score18"
   ]
  },
  {
   "cell_type": "markdown",
   "id": "e3b03a85",
   "metadata": {},
   "source": [
    "# naive_bayes"
   ]
  },
  {
   "cell_type": "code",
   "execution_count": 283,
   "id": "6e52e494",
   "metadata": {},
   "outputs": [],
   "source": [
    "#nb\n",
    "from sklearn.naive_bayes import MultinomialNB\n",
    "nb=MultinomialNB()"
   ]
  },
  {
   "cell_type": "code",
   "execution_count": 284,
   "id": "4fba8621",
   "metadata": {},
   "outputs": [
    {
     "data": {
      "text/html": [
       "<style>#sk-container-id-21 {color: black;}#sk-container-id-21 pre{padding: 0;}#sk-container-id-21 div.sk-toggleable {background-color: white;}#sk-container-id-21 label.sk-toggleable__label {cursor: pointer;display: block;width: 100%;margin-bottom: 0;padding: 0.3em;box-sizing: border-box;text-align: center;}#sk-container-id-21 label.sk-toggleable__label-arrow:before {content: \"▸\";float: left;margin-right: 0.25em;color: #696969;}#sk-container-id-21 label.sk-toggleable__label-arrow:hover:before {color: black;}#sk-container-id-21 div.sk-estimator:hover label.sk-toggleable__label-arrow:before {color: black;}#sk-container-id-21 div.sk-toggleable__content {max-height: 0;max-width: 0;overflow: hidden;text-align: left;background-color: #f0f8ff;}#sk-container-id-21 div.sk-toggleable__content pre {margin: 0.2em;color: black;border-radius: 0.25em;background-color: #f0f8ff;}#sk-container-id-21 input.sk-toggleable__control:checked~div.sk-toggleable__content {max-height: 200px;max-width: 100%;overflow: auto;}#sk-container-id-21 input.sk-toggleable__control:checked~label.sk-toggleable__label-arrow:before {content: \"▾\";}#sk-container-id-21 div.sk-estimator input.sk-toggleable__control:checked~label.sk-toggleable__label {background-color: #d4ebff;}#sk-container-id-21 div.sk-label input.sk-toggleable__control:checked~label.sk-toggleable__label {background-color: #d4ebff;}#sk-container-id-21 input.sk-hidden--visually {border: 0;clip: rect(1px 1px 1px 1px);clip: rect(1px, 1px, 1px, 1px);height: 1px;margin: -1px;overflow: hidden;padding: 0;position: absolute;width: 1px;}#sk-container-id-21 div.sk-estimator {font-family: monospace;background-color: #f0f8ff;border: 1px dotted black;border-radius: 0.25em;box-sizing: border-box;margin-bottom: 0.5em;}#sk-container-id-21 div.sk-estimator:hover {background-color: #d4ebff;}#sk-container-id-21 div.sk-parallel-item::after {content: \"\";width: 100%;border-bottom: 1px solid gray;flex-grow: 1;}#sk-container-id-21 div.sk-label:hover label.sk-toggleable__label {background-color: #d4ebff;}#sk-container-id-21 div.sk-serial::before {content: \"\";position: absolute;border-left: 1px solid gray;box-sizing: border-box;top: 0;bottom: 0;left: 50%;z-index: 0;}#sk-container-id-21 div.sk-serial {display: flex;flex-direction: column;align-items: center;background-color: white;padding-right: 0.2em;padding-left: 0.2em;position: relative;}#sk-container-id-21 div.sk-item {position: relative;z-index: 1;}#sk-container-id-21 div.sk-parallel {display: flex;align-items: stretch;justify-content: center;background-color: white;position: relative;}#sk-container-id-21 div.sk-item::before, #sk-container-id-21 div.sk-parallel-item::before {content: \"\";position: absolute;border-left: 1px solid gray;box-sizing: border-box;top: 0;bottom: 0;left: 50%;z-index: -1;}#sk-container-id-21 div.sk-parallel-item {display: flex;flex-direction: column;z-index: 1;position: relative;background-color: white;}#sk-container-id-21 div.sk-parallel-item:first-child::after {align-self: flex-end;width: 50%;}#sk-container-id-21 div.sk-parallel-item:last-child::after {align-self: flex-start;width: 50%;}#sk-container-id-21 div.sk-parallel-item:only-child::after {width: 0;}#sk-container-id-21 div.sk-dashed-wrapped {border: 1px dashed gray;margin: 0 0.4em 0.5em 0.4em;box-sizing: border-box;padding-bottom: 0.4em;background-color: white;}#sk-container-id-21 div.sk-label label {font-family: monospace;font-weight: bold;display: inline-block;line-height: 1.2em;}#sk-container-id-21 div.sk-label-container {text-align: center;}#sk-container-id-21 div.sk-container {/* jupyter's `normalize.less` sets `[hidden] { display: none; }` but bootstrap.min.css set `[hidden] { display: none !important; }` so we also need the `!important` here to be able to override the default hidden behavior on the sphinx rendered scikit-learn.org. See: https://github.com/scikit-learn/scikit-learn/issues/21755 */display: inline-block !important;position: relative;}#sk-container-id-21 div.sk-text-repr-fallback {display: none;}</style><div id=\"sk-container-id-21\" class=\"sk-top-container\"><div class=\"sk-text-repr-fallback\"><pre>MultinomialNB()</pre><b>In a Jupyter environment, please rerun this cell to show the HTML representation or trust the notebook. <br />On GitHub, the HTML representation is unable to render, please try loading this page with nbviewer.org.</b></div><div class=\"sk-container\" hidden><div class=\"sk-item\"><div class=\"sk-estimator sk-toggleable\"><input class=\"sk-toggleable__control sk-hidden--visually\" id=\"sk-estimator-id-27\" type=\"checkbox\" checked><label for=\"sk-estimator-id-27\" class=\"sk-toggleable__label sk-toggleable__label-arrow\">MultinomialNB</label><div class=\"sk-toggleable__content\"><pre>MultinomialNB()</pre></div></div></div></div></div>"
      ],
      "text/plain": [
       "MultinomialNB()"
      ]
     },
     "execution_count": 284,
     "metadata": {},
     "output_type": "execute_result"
    }
   ],
   "source": [
    "nb.fit(x2_tr,y2_tr)"
   ]
  },
  {
   "cell_type": "code",
   "execution_count": 285,
   "id": "17a98a43",
   "metadata": {},
   "outputs": [],
   "source": [
    "nb_p3=nb.predict(x2_te)"
   ]
  },
  {
   "cell_type": "code",
   "execution_count": 286,
   "id": "28792e5d",
   "metadata": {},
   "outputs": [
    {
     "data": {
      "text/plain": [
       "array([[300, 102],\n",
       "       [141, 306]], dtype=int64)"
      ]
     },
     "execution_count": 286,
     "metadata": {},
     "output_type": "execute_result"
    }
   ],
   "source": [
    "nb_m3=confusion_matrix(nb_p3,y2_te)\n",
    "nb_m3"
   ]
  },
  {
   "cell_type": "code",
   "execution_count": 287,
   "id": "abb1714a",
   "metadata": {},
   "outputs": [
    {
     "data": {
      "text/plain": [
       "71.37809187279152"
      ]
     },
     "execution_count": 287,
     "metadata": {},
     "output_type": "execute_result"
    }
   ],
   "source": [
    "nb_acc3=nb_m3.diagonal().sum()/nb_m3.sum()*100\n",
    "nb_acc3"
   ]
  },
  {
   "cell_type": "code",
   "execution_count": 288,
   "id": "07afd4a1",
   "metadata": {},
   "outputs": [
    {
     "name": "stdout",
     "output_type": "stream",
     "text": [
      "              precision    recall  f1-score   support\n",
      "\n",
      "           0       0.68      0.75      0.71       402\n",
      "           1       0.75      0.68      0.72       447\n",
      "\n",
      "    accuracy                           0.71       849\n",
      "   macro avg       0.72      0.72      0.71       849\n",
      "weighted avg       0.72      0.71      0.71       849\n",
      "\n"
     ]
    }
   ],
   "source": [
    "print(classification_report(nb_p3,y2_te))"
   ]
  },
  {
   "cell_type": "code",
   "execution_count": 289,
   "id": "c0e8cba2",
   "metadata": {},
   "outputs": [
    {
     "data": {
      "text/plain": [
       "0.6802721088435374"
      ]
     },
     "execution_count": 289,
     "metadata": {},
     "output_type": "execute_result"
    }
   ],
   "source": [
    "#tpr=tp/(tp+fn)\n",
    "tpr19=300/(300+141)\n",
    "tpr19"
   ]
  },
  {
   "cell_type": "code",
   "execution_count": 290,
   "id": "f8376789",
   "metadata": {},
   "outputs": [
    {
     "data": {
      "text/plain": [
       "0.25"
      ]
     },
     "execution_count": 290,
     "metadata": {},
     "output_type": "execute_result"
    }
   ],
   "source": [
    "#fpr=fp/(fp+tn)\n",
    "fpr19=102/(102+306)\n",
    "fpr19"
   ]
  },
  {
   "cell_type": "code",
   "execution_count": 291,
   "id": "206c21f4",
   "metadata": {},
   "outputs": [
    {
     "data": {
      "text/plain": [
       "0.746268656716418"
      ]
     },
     "execution_count": 291,
     "metadata": {},
     "output_type": "execute_result"
    }
   ],
   "source": [
    "#precision=tp/(tp+fp)\n",
    "precision19=300/(300+102)\n",
    "precision19"
   ]
  },
  {
   "cell_type": "code",
   "execution_count": 292,
   "id": "45d6edfb",
   "metadata": {},
   "outputs": [
    {
     "data": {
      "text/plain": [
       "0.7117437722419929"
      ]
     },
     "execution_count": 292,
     "metadata": {},
     "output_type": "execute_result"
    }
   ],
   "source": [
    "#f1-score=2(precision*recall)/(precision+recall)\n",
    "f1score19=(2*(precision19*tpr19))/(precision19+tpr19)\n",
    "f1score19"
   ]
  },
  {
   "cell_type": "markdown",
   "id": "bb7a0737",
   "metadata": {},
   "source": [
    "# svm"
   ]
  },
  {
   "cell_type": "code",
   "execution_count": 293,
   "id": "c2bdfa54",
   "metadata": {},
   "outputs": [],
   "source": [
    "from sklearn.svm import SVC\n",
    "svc=SVC()"
   ]
  },
  {
   "cell_type": "code",
   "execution_count": 294,
   "id": "d0a827b8",
   "metadata": {},
   "outputs": [
    {
     "data": {
      "text/html": [
       "<style>#sk-container-id-22 {color: black;}#sk-container-id-22 pre{padding: 0;}#sk-container-id-22 div.sk-toggleable {background-color: white;}#sk-container-id-22 label.sk-toggleable__label {cursor: pointer;display: block;width: 100%;margin-bottom: 0;padding: 0.3em;box-sizing: border-box;text-align: center;}#sk-container-id-22 label.sk-toggleable__label-arrow:before {content: \"▸\";float: left;margin-right: 0.25em;color: #696969;}#sk-container-id-22 label.sk-toggleable__label-arrow:hover:before {color: black;}#sk-container-id-22 div.sk-estimator:hover label.sk-toggleable__label-arrow:before {color: black;}#sk-container-id-22 div.sk-toggleable__content {max-height: 0;max-width: 0;overflow: hidden;text-align: left;background-color: #f0f8ff;}#sk-container-id-22 div.sk-toggleable__content pre {margin: 0.2em;color: black;border-radius: 0.25em;background-color: #f0f8ff;}#sk-container-id-22 input.sk-toggleable__control:checked~div.sk-toggleable__content {max-height: 200px;max-width: 100%;overflow: auto;}#sk-container-id-22 input.sk-toggleable__control:checked~label.sk-toggleable__label-arrow:before {content: \"▾\";}#sk-container-id-22 div.sk-estimator input.sk-toggleable__control:checked~label.sk-toggleable__label {background-color: #d4ebff;}#sk-container-id-22 div.sk-label input.sk-toggleable__control:checked~label.sk-toggleable__label {background-color: #d4ebff;}#sk-container-id-22 input.sk-hidden--visually {border: 0;clip: rect(1px 1px 1px 1px);clip: rect(1px, 1px, 1px, 1px);height: 1px;margin: -1px;overflow: hidden;padding: 0;position: absolute;width: 1px;}#sk-container-id-22 div.sk-estimator {font-family: monospace;background-color: #f0f8ff;border: 1px dotted black;border-radius: 0.25em;box-sizing: border-box;margin-bottom: 0.5em;}#sk-container-id-22 div.sk-estimator:hover {background-color: #d4ebff;}#sk-container-id-22 div.sk-parallel-item::after {content: \"\";width: 100%;border-bottom: 1px solid gray;flex-grow: 1;}#sk-container-id-22 div.sk-label:hover label.sk-toggleable__label {background-color: #d4ebff;}#sk-container-id-22 div.sk-serial::before {content: \"\";position: absolute;border-left: 1px solid gray;box-sizing: border-box;top: 0;bottom: 0;left: 50%;z-index: 0;}#sk-container-id-22 div.sk-serial {display: flex;flex-direction: column;align-items: center;background-color: white;padding-right: 0.2em;padding-left: 0.2em;position: relative;}#sk-container-id-22 div.sk-item {position: relative;z-index: 1;}#sk-container-id-22 div.sk-parallel {display: flex;align-items: stretch;justify-content: center;background-color: white;position: relative;}#sk-container-id-22 div.sk-item::before, #sk-container-id-22 div.sk-parallel-item::before {content: \"\";position: absolute;border-left: 1px solid gray;box-sizing: border-box;top: 0;bottom: 0;left: 50%;z-index: -1;}#sk-container-id-22 div.sk-parallel-item {display: flex;flex-direction: column;z-index: 1;position: relative;background-color: white;}#sk-container-id-22 div.sk-parallel-item:first-child::after {align-self: flex-end;width: 50%;}#sk-container-id-22 div.sk-parallel-item:last-child::after {align-self: flex-start;width: 50%;}#sk-container-id-22 div.sk-parallel-item:only-child::after {width: 0;}#sk-container-id-22 div.sk-dashed-wrapped {border: 1px dashed gray;margin: 0 0.4em 0.5em 0.4em;box-sizing: border-box;padding-bottom: 0.4em;background-color: white;}#sk-container-id-22 div.sk-label label {font-family: monospace;font-weight: bold;display: inline-block;line-height: 1.2em;}#sk-container-id-22 div.sk-label-container {text-align: center;}#sk-container-id-22 div.sk-container {/* jupyter's `normalize.less` sets `[hidden] { display: none; }` but bootstrap.min.css set `[hidden] { display: none !important; }` so we also need the `!important` here to be able to override the default hidden behavior on the sphinx rendered scikit-learn.org. See: https://github.com/scikit-learn/scikit-learn/issues/21755 */display: inline-block !important;position: relative;}#sk-container-id-22 div.sk-text-repr-fallback {display: none;}</style><div id=\"sk-container-id-22\" class=\"sk-top-container\"><div class=\"sk-text-repr-fallback\"><pre>SVC()</pre><b>In a Jupyter environment, please rerun this cell to show the HTML representation or trust the notebook. <br />On GitHub, the HTML representation is unable to render, please try loading this page with nbviewer.org.</b></div><div class=\"sk-container\" hidden><div class=\"sk-item\"><div class=\"sk-estimator sk-toggleable\"><input class=\"sk-toggleable__control sk-hidden--visually\" id=\"sk-estimator-id-28\" type=\"checkbox\" checked><label for=\"sk-estimator-id-28\" class=\"sk-toggleable__label sk-toggleable__label-arrow\">SVC</label><div class=\"sk-toggleable__content\"><pre>SVC()</pre></div></div></div></div></div>"
      ],
      "text/plain": [
       "SVC()"
      ]
     },
     "execution_count": 294,
     "metadata": {},
     "output_type": "execute_result"
    }
   ],
   "source": [
    "svc.fit(x2_tr,y2_tr)"
   ]
  },
  {
   "cell_type": "code",
   "execution_count": 295,
   "id": "dcd21464",
   "metadata": {},
   "outputs": [],
   "source": [
    "svc_p3=svc.predict(x2_te)"
   ]
  },
  {
   "cell_type": "code",
   "execution_count": 296,
   "id": "9d46c862",
   "metadata": {},
   "outputs": [
    {
     "data": {
      "text/plain": [
       "array([[402,   0],\n",
       "       [ 39, 408]], dtype=int64)"
      ]
     },
     "execution_count": 296,
     "metadata": {},
     "output_type": "execute_result"
    }
   ],
   "source": [
    "svc_m3=confusion_matrix(svc_p3,y2_te)\n",
    "svc_m3"
   ]
  },
  {
   "cell_type": "code",
   "execution_count": 297,
   "id": "9c46e66b",
   "metadata": {},
   "outputs": [
    {
     "data": {
      "text/plain": [
       "95.40636042402826"
      ]
     },
     "execution_count": 297,
     "metadata": {},
     "output_type": "execute_result"
    }
   ],
   "source": [
    "svc_acc3=svc_m3.diagonal().sum()/svc_m3.sum()*100\n",
    "svc_acc3"
   ]
  },
  {
   "cell_type": "code",
   "execution_count": 298,
   "id": "9c290955",
   "metadata": {},
   "outputs": [
    {
     "name": "stdout",
     "output_type": "stream",
     "text": [
      "              precision    recall  f1-score   support\n",
      "\n",
      "           0       0.91      1.00      0.95       402\n",
      "           1       1.00      0.91      0.95       447\n",
      "\n",
      "    accuracy                           0.95       849\n",
      "   macro avg       0.96      0.96      0.95       849\n",
      "weighted avg       0.96      0.95      0.95       849\n",
      "\n"
     ]
    }
   ],
   "source": [
    "print(classification_report(svc_p3,y2_te))"
   ]
  },
  {
   "cell_type": "code",
   "execution_count": 299,
   "id": "1e079fb5",
   "metadata": {},
   "outputs": [
    {
     "data": {
      "text/plain": [
       "0.9115646258503401"
      ]
     },
     "execution_count": 299,
     "metadata": {},
     "output_type": "execute_result"
    }
   ],
   "source": [
    "#tpr=tp/(tp+fn)\n",
    "tpr20=402/(402+39)\n",
    "tpr20"
   ]
  },
  {
   "cell_type": "code",
   "execution_count": 300,
   "id": "5ac32a64",
   "metadata": {},
   "outputs": [
    {
     "data": {
      "text/plain": [
       "0.0"
      ]
     },
     "execution_count": 300,
     "metadata": {},
     "output_type": "execute_result"
    }
   ],
   "source": [
    "#fpr=fp/(fp+tn)\n",
    "fpr20=0/(0+408)\n",
    "fpr20"
   ]
  },
  {
   "cell_type": "code",
   "execution_count": 301,
   "id": "869044a3",
   "metadata": {},
   "outputs": [
    {
     "data": {
      "text/plain": [
       "1.0"
      ]
     },
     "execution_count": 301,
     "metadata": {},
     "output_type": "execute_result"
    }
   ],
   "source": [
    "#precision=tp/(tp+fp)\n",
    "precision20=402/(402+0)\n",
    "precision20"
   ]
  },
  {
   "cell_type": "code",
   "execution_count": 302,
   "id": "b7c51f81",
   "metadata": {},
   "outputs": [
    {
     "data": {
      "text/plain": [
       "0.9537366548042704"
      ]
     },
     "execution_count": 302,
     "metadata": {},
     "output_type": "execute_result"
    }
   ],
   "source": [
    "#f1-score=2(precision*recall)/(precision+recall)\n",
    "f1score20=(2*(precision20*tpr20))/(precision20+tpr20)\n",
    "f1score20"
   ]
  },
  {
   "cell_type": "markdown",
   "id": "61b4dda2",
   "metadata": {},
   "source": [
    "# knn"
   ]
  },
  {
   "cell_type": "code",
   "execution_count": 303,
   "id": "3db5435c",
   "metadata": {},
   "outputs": [],
   "source": [
    "from sklearn.neighbors import KNeighborsClassifier\n",
    "knn=KNeighborsClassifier(n_neighbors=15)"
   ]
  },
  {
   "cell_type": "code",
   "execution_count": 304,
   "id": "7b01e670",
   "metadata": {},
   "outputs": [
    {
     "data": {
      "text/html": [
       "<style>#sk-container-id-23 {color: black;}#sk-container-id-23 pre{padding: 0;}#sk-container-id-23 div.sk-toggleable {background-color: white;}#sk-container-id-23 label.sk-toggleable__label {cursor: pointer;display: block;width: 100%;margin-bottom: 0;padding: 0.3em;box-sizing: border-box;text-align: center;}#sk-container-id-23 label.sk-toggleable__label-arrow:before {content: \"▸\";float: left;margin-right: 0.25em;color: #696969;}#sk-container-id-23 label.sk-toggleable__label-arrow:hover:before {color: black;}#sk-container-id-23 div.sk-estimator:hover label.sk-toggleable__label-arrow:before {color: black;}#sk-container-id-23 div.sk-toggleable__content {max-height: 0;max-width: 0;overflow: hidden;text-align: left;background-color: #f0f8ff;}#sk-container-id-23 div.sk-toggleable__content pre {margin: 0.2em;color: black;border-radius: 0.25em;background-color: #f0f8ff;}#sk-container-id-23 input.sk-toggleable__control:checked~div.sk-toggleable__content {max-height: 200px;max-width: 100%;overflow: auto;}#sk-container-id-23 input.sk-toggleable__control:checked~label.sk-toggleable__label-arrow:before {content: \"▾\";}#sk-container-id-23 div.sk-estimator input.sk-toggleable__control:checked~label.sk-toggleable__label {background-color: #d4ebff;}#sk-container-id-23 div.sk-label input.sk-toggleable__control:checked~label.sk-toggleable__label {background-color: #d4ebff;}#sk-container-id-23 input.sk-hidden--visually {border: 0;clip: rect(1px 1px 1px 1px);clip: rect(1px, 1px, 1px, 1px);height: 1px;margin: -1px;overflow: hidden;padding: 0;position: absolute;width: 1px;}#sk-container-id-23 div.sk-estimator {font-family: monospace;background-color: #f0f8ff;border: 1px dotted black;border-radius: 0.25em;box-sizing: border-box;margin-bottom: 0.5em;}#sk-container-id-23 div.sk-estimator:hover {background-color: #d4ebff;}#sk-container-id-23 div.sk-parallel-item::after {content: \"\";width: 100%;border-bottom: 1px solid gray;flex-grow: 1;}#sk-container-id-23 div.sk-label:hover label.sk-toggleable__label {background-color: #d4ebff;}#sk-container-id-23 div.sk-serial::before {content: \"\";position: absolute;border-left: 1px solid gray;box-sizing: border-box;top: 0;bottom: 0;left: 50%;z-index: 0;}#sk-container-id-23 div.sk-serial {display: flex;flex-direction: column;align-items: center;background-color: white;padding-right: 0.2em;padding-left: 0.2em;position: relative;}#sk-container-id-23 div.sk-item {position: relative;z-index: 1;}#sk-container-id-23 div.sk-parallel {display: flex;align-items: stretch;justify-content: center;background-color: white;position: relative;}#sk-container-id-23 div.sk-item::before, #sk-container-id-23 div.sk-parallel-item::before {content: \"\";position: absolute;border-left: 1px solid gray;box-sizing: border-box;top: 0;bottom: 0;left: 50%;z-index: -1;}#sk-container-id-23 div.sk-parallel-item {display: flex;flex-direction: column;z-index: 1;position: relative;background-color: white;}#sk-container-id-23 div.sk-parallel-item:first-child::after {align-self: flex-end;width: 50%;}#sk-container-id-23 div.sk-parallel-item:last-child::after {align-self: flex-start;width: 50%;}#sk-container-id-23 div.sk-parallel-item:only-child::after {width: 0;}#sk-container-id-23 div.sk-dashed-wrapped {border: 1px dashed gray;margin: 0 0.4em 0.5em 0.4em;box-sizing: border-box;padding-bottom: 0.4em;background-color: white;}#sk-container-id-23 div.sk-label label {font-family: monospace;font-weight: bold;display: inline-block;line-height: 1.2em;}#sk-container-id-23 div.sk-label-container {text-align: center;}#sk-container-id-23 div.sk-container {/* jupyter's `normalize.less` sets `[hidden] { display: none; }` but bootstrap.min.css set `[hidden] { display: none !important; }` so we also need the `!important` here to be able to override the default hidden behavior on the sphinx rendered scikit-learn.org. See: https://github.com/scikit-learn/scikit-learn/issues/21755 */display: inline-block !important;position: relative;}#sk-container-id-23 div.sk-text-repr-fallback {display: none;}</style><div id=\"sk-container-id-23\" class=\"sk-top-container\"><div class=\"sk-text-repr-fallback\"><pre>KNeighborsClassifier(n_neighbors=15)</pre><b>In a Jupyter environment, please rerun this cell to show the HTML representation or trust the notebook. <br />On GitHub, the HTML representation is unable to render, please try loading this page with nbviewer.org.</b></div><div class=\"sk-container\" hidden><div class=\"sk-item\"><div class=\"sk-estimator sk-toggleable\"><input class=\"sk-toggleable__control sk-hidden--visually\" id=\"sk-estimator-id-29\" type=\"checkbox\" checked><label for=\"sk-estimator-id-29\" class=\"sk-toggleable__label sk-toggleable__label-arrow\">KNeighborsClassifier</label><div class=\"sk-toggleable__content\"><pre>KNeighborsClassifier(n_neighbors=15)</pre></div></div></div></div></div>"
      ],
      "text/plain": [
       "KNeighborsClassifier(n_neighbors=15)"
      ]
     },
     "execution_count": 304,
     "metadata": {},
     "output_type": "execute_result"
    }
   ],
   "source": [
    "knn.fit(x2_tr,y2_tr)"
   ]
  },
  {
   "cell_type": "code",
   "execution_count": 305,
   "id": "a8261fd8",
   "metadata": {},
   "outputs": [],
   "source": [
    "knn_p3=knn.predict(x2_te)"
   ]
  },
  {
   "cell_type": "code",
   "execution_count": 306,
   "id": "b0c68618",
   "metadata": {},
   "outputs": [
    {
     "data": {
      "text/plain": [
       "array([[350,   1],\n",
       "       [ 91, 407]], dtype=int64)"
      ]
     },
     "execution_count": 306,
     "metadata": {},
     "output_type": "execute_result"
    }
   ],
   "source": [
    "knn_m3=confusion_matrix(knn_p3,y2_te)\n",
    "knn_m3"
   ]
  },
  {
   "cell_type": "code",
   "execution_count": 307,
   "id": "15c803ce",
   "metadata": {},
   "outputs": [
    {
     "data": {
      "text/plain": [
       "89.16372202591283"
      ]
     },
     "execution_count": 307,
     "metadata": {},
     "output_type": "execute_result"
    }
   ],
   "source": [
    "knn_acc3=knn_m3.diagonal().sum()/knn_m3.sum()*100\n",
    "knn_acc3"
   ]
  },
  {
   "cell_type": "code",
   "execution_count": 308,
   "id": "fcd779db",
   "metadata": {},
   "outputs": [
    {
     "name": "stdout",
     "output_type": "stream",
     "text": [
      "              precision    recall  f1-score   support\n",
      "\n",
      "           0       0.79      1.00      0.88       351\n",
      "           1       1.00      0.82      0.90       498\n",
      "\n",
      "    accuracy                           0.89       849\n",
      "   macro avg       0.90      0.91      0.89       849\n",
      "weighted avg       0.91      0.89      0.89       849\n",
      "\n"
     ]
    }
   ],
   "source": [
    "print(classification_report(knn_p3,y2_te))"
   ]
  },
  {
   "cell_type": "code",
   "execution_count": 309,
   "id": "95cddbad",
   "metadata": {},
   "outputs": [
    {
     "data": {
      "text/plain": [
       "0.7936507936507936"
      ]
     },
     "execution_count": 309,
     "metadata": {},
     "output_type": "execute_result"
    }
   ],
   "source": [
    "#tpr=tp/(tp+fn)\n",
    "tpr21=350/(350+91)\n",
    "tpr21"
   ]
  },
  {
   "cell_type": "code",
   "execution_count": 310,
   "id": "37b44b04",
   "metadata": {},
   "outputs": [
    {
     "data": {
      "text/plain": [
       "0.0024509803921568627"
      ]
     },
     "execution_count": 310,
     "metadata": {},
     "output_type": "execute_result"
    }
   ],
   "source": [
    "#fpr=fp/(fp+tn)\n",
    "fpr21= 1/(1+407)\n",
    "fpr21"
   ]
  },
  {
   "cell_type": "code",
   "execution_count": 311,
   "id": "36d63c3e",
   "metadata": {},
   "outputs": [
    {
     "data": {
      "text/plain": [
       "0.9971509971509972"
      ]
     },
     "execution_count": 311,
     "metadata": {},
     "output_type": "execute_result"
    }
   ],
   "source": [
    "#precision=tp/(tp+fp)\n",
    "precision21=350/(350+1)\n",
    "precision21"
   ]
  },
  {
   "cell_type": "code",
   "execution_count": 312,
   "id": "ae93feb2",
   "metadata": {},
   "outputs": [
    {
     "data": {
      "text/plain": [
       "0.8838383838383839"
      ]
     },
     "execution_count": 312,
     "metadata": {},
     "output_type": "execute_result"
    }
   ],
   "source": [
    "#f1-score=2(precision*recall)/(precision+recall)\n",
    "f1score21=(2*(precision21*tpr21))/(precision21+tpr21)\n",
    "f1score21"
   ]
  },
  {
   "cell_type": "markdown",
   "id": "1bef3b1f",
   "metadata": {},
   "source": [
    "# adaboost"
   ]
  },
  {
   "cell_type": "code",
   "execution_count": 313,
   "id": "376b9ec9",
   "metadata": {},
   "outputs": [],
   "source": [
    "from sklearn.ensemble import AdaBoostClassifier\n",
    "from sklearn.tree import DecisionTreeClassifier"
   ]
  },
  {
   "cell_type": "code",
   "execution_count": 314,
   "id": "fa161d06",
   "metadata": {},
   "outputs": [],
   "source": [
    "adbo=AdaBoostClassifier(DecisionTreeClassifier(),n_estimators=5)"
   ]
  },
  {
   "cell_type": "code",
   "execution_count": 315,
   "id": "2c6f83f1",
   "metadata": {},
   "outputs": [
    {
     "data": {
      "text/html": [
       "<style>#sk-container-id-24 {color: black;}#sk-container-id-24 pre{padding: 0;}#sk-container-id-24 div.sk-toggleable {background-color: white;}#sk-container-id-24 label.sk-toggleable__label {cursor: pointer;display: block;width: 100%;margin-bottom: 0;padding: 0.3em;box-sizing: border-box;text-align: center;}#sk-container-id-24 label.sk-toggleable__label-arrow:before {content: \"▸\";float: left;margin-right: 0.25em;color: #696969;}#sk-container-id-24 label.sk-toggleable__label-arrow:hover:before {color: black;}#sk-container-id-24 div.sk-estimator:hover label.sk-toggleable__label-arrow:before {color: black;}#sk-container-id-24 div.sk-toggleable__content {max-height: 0;max-width: 0;overflow: hidden;text-align: left;background-color: #f0f8ff;}#sk-container-id-24 div.sk-toggleable__content pre {margin: 0.2em;color: black;border-radius: 0.25em;background-color: #f0f8ff;}#sk-container-id-24 input.sk-toggleable__control:checked~div.sk-toggleable__content {max-height: 200px;max-width: 100%;overflow: auto;}#sk-container-id-24 input.sk-toggleable__control:checked~label.sk-toggleable__label-arrow:before {content: \"▾\";}#sk-container-id-24 div.sk-estimator input.sk-toggleable__control:checked~label.sk-toggleable__label {background-color: #d4ebff;}#sk-container-id-24 div.sk-label input.sk-toggleable__control:checked~label.sk-toggleable__label {background-color: #d4ebff;}#sk-container-id-24 input.sk-hidden--visually {border: 0;clip: rect(1px 1px 1px 1px);clip: rect(1px, 1px, 1px, 1px);height: 1px;margin: -1px;overflow: hidden;padding: 0;position: absolute;width: 1px;}#sk-container-id-24 div.sk-estimator {font-family: monospace;background-color: #f0f8ff;border: 1px dotted black;border-radius: 0.25em;box-sizing: border-box;margin-bottom: 0.5em;}#sk-container-id-24 div.sk-estimator:hover {background-color: #d4ebff;}#sk-container-id-24 div.sk-parallel-item::after {content: \"\";width: 100%;border-bottom: 1px solid gray;flex-grow: 1;}#sk-container-id-24 div.sk-label:hover label.sk-toggleable__label {background-color: #d4ebff;}#sk-container-id-24 div.sk-serial::before {content: \"\";position: absolute;border-left: 1px solid gray;box-sizing: border-box;top: 0;bottom: 0;left: 50%;z-index: 0;}#sk-container-id-24 div.sk-serial {display: flex;flex-direction: column;align-items: center;background-color: white;padding-right: 0.2em;padding-left: 0.2em;position: relative;}#sk-container-id-24 div.sk-item {position: relative;z-index: 1;}#sk-container-id-24 div.sk-parallel {display: flex;align-items: stretch;justify-content: center;background-color: white;position: relative;}#sk-container-id-24 div.sk-item::before, #sk-container-id-24 div.sk-parallel-item::before {content: \"\";position: absolute;border-left: 1px solid gray;box-sizing: border-box;top: 0;bottom: 0;left: 50%;z-index: -1;}#sk-container-id-24 div.sk-parallel-item {display: flex;flex-direction: column;z-index: 1;position: relative;background-color: white;}#sk-container-id-24 div.sk-parallel-item:first-child::after {align-self: flex-end;width: 50%;}#sk-container-id-24 div.sk-parallel-item:last-child::after {align-self: flex-start;width: 50%;}#sk-container-id-24 div.sk-parallel-item:only-child::after {width: 0;}#sk-container-id-24 div.sk-dashed-wrapped {border: 1px dashed gray;margin: 0 0.4em 0.5em 0.4em;box-sizing: border-box;padding-bottom: 0.4em;background-color: white;}#sk-container-id-24 div.sk-label label {font-family: monospace;font-weight: bold;display: inline-block;line-height: 1.2em;}#sk-container-id-24 div.sk-label-container {text-align: center;}#sk-container-id-24 div.sk-container {/* jupyter's `normalize.less` sets `[hidden] { display: none; }` but bootstrap.min.css set `[hidden] { display: none !important; }` so we also need the `!important` here to be able to override the default hidden behavior on the sphinx rendered scikit-learn.org. See: https://github.com/scikit-learn/scikit-learn/issues/21755 */display: inline-block !important;position: relative;}#sk-container-id-24 div.sk-text-repr-fallback {display: none;}</style><div id=\"sk-container-id-24\" class=\"sk-top-container\"><div class=\"sk-text-repr-fallback\"><pre>AdaBoostClassifier(estimator=DecisionTreeClassifier(), n_estimators=5)</pre><b>In a Jupyter environment, please rerun this cell to show the HTML representation or trust the notebook. <br />On GitHub, the HTML representation is unable to render, please try loading this page with nbviewer.org.</b></div><div class=\"sk-container\" hidden><div class=\"sk-item sk-dashed-wrapped\"><div class=\"sk-label-container\"><div class=\"sk-label sk-toggleable\"><input class=\"sk-toggleable__control sk-hidden--visually\" id=\"sk-estimator-id-30\" type=\"checkbox\" ><label for=\"sk-estimator-id-30\" class=\"sk-toggleable__label sk-toggleable__label-arrow\">AdaBoostClassifier</label><div class=\"sk-toggleable__content\"><pre>AdaBoostClassifier(estimator=DecisionTreeClassifier(), n_estimators=5)</pre></div></div></div><div class=\"sk-parallel\"><div class=\"sk-parallel-item\"><div class=\"sk-item\"><div class=\"sk-label-container\"><div class=\"sk-label sk-toggleable\"><input class=\"sk-toggleable__control sk-hidden--visually\" id=\"sk-estimator-id-31\" type=\"checkbox\" ><label for=\"sk-estimator-id-31\" class=\"sk-toggleable__label sk-toggleable__label-arrow\">estimator: DecisionTreeClassifier</label><div class=\"sk-toggleable__content\"><pre>DecisionTreeClassifier()</pre></div></div></div><div class=\"sk-serial\"><div class=\"sk-item\"><div class=\"sk-estimator sk-toggleable\"><input class=\"sk-toggleable__control sk-hidden--visually\" id=\"sk-estimator-id-32\" type=\"checkbox\" ><label for=\"sk-estimator-id-32\" class=\"sk-toggleable__label sk-toggleable__label-arrow\">DecisionTreeClassifier</label><div class=\"sk-toggleable__content\"><pre>DecisionTreeClassifier()</pre></div></div></div></div></div></div></div></div></div></div>"
      ],
      "text/plain": [
       "AdaBoostClassifier(estimator=DecisionTreeClassifier(), n_estimators=5)"
      ]
     },
     "execution_count": 315,
     "metadata": {},
     "output_type": "execute_result"
    }
   ],
   "source": [
    "adbo.fit(x2_tr,y2_tr)"
   ]
  },
  {
   "cell_type": "code",
   "execution_count": 316,
   "id": "9d78eddc",
   "metadata": {},
   "outputs": [],
   "source": [
    "adbo_p3=adbo.predict(x2_te)"
   ]
  },
  {
   "cell_type": "code",
   "execution_count": 317,
   "id": "46d67006",
   "metadata": {},
   "outputs": [
    {
     "data": {
      "text/plain": [
       "array([[425,   0],\n",
       "       [ 16, 408]], dtype=int64)"
      ]
     },
     "execution_count": 317,
     "metadata": {},
     "output_type": "execute_result"
    }
   ],
   "source": [
    "adboo_m3=confusion_matrix(adbo_p3,y2_te)\n",
    "adboo_m3"
   ]
  },
  {
   "cell_type": "code",
   "execution_count": 318,
   "id": "f03de1c8",
   "metadata": {},
   "outputs": [
    {
     "data": {
      "text/plain": [
       "98.11542991755006"
      ]
     },
     "execution_count": 318,
     "metadata": {},
     "output_type": "execute_result"
    }
   ],
   "source": [
    "adbo_acc3=adboo_m3.diagonal().sum()/adboo_m3.sum()*100\n",
    "adbo_acc3"
   ]
  },
  {
   "cell_type": "code",
   "execution_count": 319,
   "id": "c099848a",
   "metadata": {},
   "outputs": [
    {
     "name": "stdout",
     "output_type": "stream",
     "text": [
      "              precision    recall  f1-score   support\n",
      "\n",
      "           0       0.96      1.00      0.98       425\n",
      "           1       1.00      0.96      0.98       424\n",
      "\n",
      "    accuracy                           0.98       849\n",
      "   macro avg       0.98      0.98      0.98       849\n",
      "weighted avg       0.98      0.98      0.98       849\n",
      "\n"
     ]
    }
   ],
   "source": [
    "print(classification_report(adbo_p3,y2_te))"
   ]
  },
  {
   "cell_type": "code",
   "execution_count": 320,
   "id": "22d2290d",
   "metadata": {},
   "outputs": [
    {
     "data": {
      "text/plain": [
       "0.963718820861678"
      ]
     },
     "execution_count": 320,
     "metadata": {},
     "output_type": "execute_result"
    }
   ],
   "source": [
    "#tpr=tp/(tp+fn)\n",
    "tpr22=425/(425+16)\n",
    "tpr22"
   ]
  },
  {
   "cell_type": "code",
   "execution_count": 321,
   "id": "067efda8",
   "metadata": {},
   "outputs": [
    {
     "data": {
      "text/plain": [
       "0.0"
      ]
     },
     "execution_count": 321,
     "metadata": {},
     "output_type": "execute_result"
    }
   ],
   "source": [
    "#fpr=fp/(fp+tn)\n",
    "fpr22=0/(0+408)\n",
    "fpr22"
   ]
  },
  {
   "cell_type": "code",
   "execution_count": 322,
   "id": "3e7b3ac9",
   "metadata": {},
   "outputs": [
    {
     "data": {
      "text/plain": [
       "1.0"
      ]
     },
     "execution_count": 322,
     "metadata": {},
     "output_type": "execute_result"
    }
   ],
   "source": [
    "#precision=tp/(tp+fp)\n",
    "precision22=425/(425+0)\n",
    "precision22"
   ]
  },
  {
   "cell_type": "code",
   "execution_count": 323,
   "id": "18f107f0",
   "metadata": {},
   "outputs": [
    {
     "data": {
      "text/plain": [
       "0.9815242494226328"
      ]
     },
     "execution_count": 323,
     "metadata": {},
     "output_type": "execute_result"
    }
   ],
   "source": [
    "#f1-score=2(precision*recall)/(precision+recall)\n",
    "f1score22=(2*(precision22*tpr22))/(precision22+tpr22)\n",
    "f1score22"
   ]
  },
  {
   "cell_type": "markdown",
   "id": "194d872f",
   "metadata": {},
   "source": [
    "# xgboost"
   ]
  },
  {
   "cell_type": "code",
   "execution_count": 324,
   "id": "fdd4d801",
   "metadata": {},
   "outputs": [],
   "source": [
    "from xgboost import XGBClassifier\n",
    "xgb=XGBClassifier()"
   ]
  },
  {
   "cell_type": "code",
   "execution_count": 325,
   "id": "c9feada4",
   "metadata": {},
   "outputs": [
    {
     "data": {
      "text/html": [
       "<style>#sk-container-id-25 {color: black;}#sk-container-id-25 pre{padding: 0;}#sk-container-id-25 div.sk-toggleable {background-color: white;}#sk-container-id-25 label.sk-toggleable__label {cursor: pointer;display: block;width: 100%;margin-bottom: 0;padding: 0.3em;box-sizing: border-box;text-align: center;}#sk-container-id-25 label.sk-toggleable__label-arrow:before {content: \"▸\";float: left;margin-right: 0.25em;color: #696969;}#sk-container-id-25 label.sk-toggleable__label-arrow:hover:before {color: black;}#sk-container-id-25 div.sk-estimator:hover label.sk-toggleable__label-arrow:before {color: black;}#sk-container-id-25 div.sk-toggleable__content {max-height: 0;max-width: 0;overflow: hidden;text-align: left;background-color: #f0f8ff;}#sk-container-id-25 div.sk-toggleable__content pre {margin: 0.2em;color: black;border-radius: 0.25em;background-color: #f0f8ff;}#sk-container-id-25 input.sk-toggleable__control:checked~div.sk-toggleable__content {max-height: 200px;max-width: 100%;overflow: auto;}#sk-container-id-25 input.sk-toggleable__control:checked~label.sk-toggleable__label-arrow:before {content: \"▾\";}#sk-container-id-25 div.sk-estimator input.sk-toggleable__control:checked~label.sk-toggleable__label {background-color: #d4ebff;}#sk-container-id-25 div.sk-label input.sk-toggleable__control:checked~label.sk-toggleable__label {background-color: #d4ebff;}#sk-container-id-25 input.sk-hidden--visually {border: 0;clip: rect(1px 1px 1px 1px);clip: rect(1px, 1px, 1px, 1px);height: 1px;margin: -1px;overflow: hidden;padding: 0;position: absolute;width: 1px;}#sk-container-id-25 div.sk-estimator {font-family: monospace;background-color: #f0f8ff;border: 1px dotted black;border-radius: 0.25em;box-sizing: border-box;margin-bottom: 0.5em;}#sk-container-id-25 div.sk-estimator:hover {background-color: #d4ebff;}#sk-container-id-25 div.sk-parallel-item::after {content: \"\";width: 100%;border-bottom: 1px solid gray;flex-grow: 1;}#sk-container-id-25 div.sk-label:hover label.sk-toggleable__label {background-color: #d4ebff;}#sk-container-id-25 div.sk-serial::before {content: \"\";position: absolute;border-left: 1px solid gray;box-sizing: border-box;top: 0;bottom: 0;left: 50%;z-index: 0;}#sk-container-id-25 div.sk-serial {display: flex;flex-direction: column;align-items: center;background-color: white;padding-right: 0.2em;padding-left: 0.2em;position: relative;}#sk-container-id-25 div.sk-item {position: relative;z-index: 1;}#sk-container-id-25 div.sk-parallel {display: flex;align-items: stretch;justify-content: center;background-color: white;position: relative;}#sk-container-id-25 div.sk-item::before, #sk-container-id-25 div.sk-parallel-item::before {content: \"\";position: absolute;border-left: 1px solid gray;box-sizing: border-box;top: 0;bottom: 0;left: 50%;z-index: -1;}#sk-container-id-25 div.sk-parallel-item {display: flex;flex-direction: column;z-index: 1;position: relative;background-color: white;}#sk-container-id-25 div.sk-parallel-item:first-child::after {align-self: flex-end;width: 50%;}#sk-container-id-25 div.sk-parallel-item:last-child::after {align-self: flex-start;width: 50%;}#sk-container-id-25 div.sk-parallel-item:only-child::after {width: 0;}#sk-container-id-25 div.sk-dashed-wrapped {border: 1px dashed gray;margin: 0 0.4em 0.5em 0.4em;box-sizing: border-box;padding-bottom: 0.4em;background-color: white;}#sk-container-id-25 div.sk-label label {font-family: monospace;font-weight: bold;display: inline-block;line-height: 1.2em;}#sk-container-id-25 div.sk-label-container {text-align: center;}#sk-container-id-25 div.sk-container {/* jupyter's `normalize.less` sets `[hidden] { display: none; }` but bootstrap.min.css set `[hidden] { display: none !important; }` so we also need the `!important` here to be able to override the default hidden behavior on the sphinx rendered scikit-learn.org. See: https://github.com/scikit-learn/scikit-learn/issues/21755 */display: inline-block !important;position: relative;}#sk-container-id-25 div.sk-text-repr-fallback {display: none;}</style><div id=\"sk-container-id-25\" class=\"sk-top-container\"><div class=\"sk-text-repr-fallback\"><pre>XGBClassifier(base_score=None, booster=None, callbacks=None,\n",
       "              colsample_bylevel=None, colsample_bynode=None,\n",
       "              colsample_bytree=None, device=None, early_stopping_rounds=None,\n",
       "              enable_categorical=False, eval_metric=None, feature_types=None,\n",
       "              gamma=None, grow_policy=None, importance_type=None,\n",
       "              interaction_constraints=None, learning_rate=None, max_bin=None,\n",
       "              max_cat_threshold=None, max_cat_to_onehot=None,\n",
       "              max_delta_step=None, max_depth=None, max_leaves=None,\n",
       "              min_child_weight=None, missing=nan, monotone_constraints=None,\n",
       "              multi_strategy=None, n_estimators=None, n_jobs=None,\n",
       "              num_parallel_tree=None, random_state=None, ...)</pre><b>In a Jupyter environment, please rerun this cell to show the HTML representation or trust the notebook. <br />On GitHub, the HTML representation is unable to render, please try loading this page with nbviewer.org.</b></div><div class=\"sk-container\" hidden><div class=\"sk-item\"><div class=\"sk-estimator sk-toggleable\"><input class=\"sk-toggleable__control sk-hidden--visually\" id=\"sk-estimator-id-33\" type=\"checkbox\" checked><label for=\"sk-estimator-id-33\" class=\"sk-toggleable__label sk-toggleable__label-arrow\">XGBClassifier</label><div class=\"sk-toggleable__content\"><pre>XGBClassifier(base_score=None, booster=None, callbacks=None,\n",
       "              colsample_bylevel=None, colsample_bynode=None,\n",
       "              colsample_bytree=None, device=None, early_stopping_rounds=None,\n",
       "              enable_categorical=False, eval_metric=None, feature_types=None,\n",
       "              gamma=None, grow_policy=None, importance_type=None,\n",
       "              interaction_constraints=None, learning_rate=None, max_bin=None,\n",
       "              max_cat_threshold=None, max_cat_to_onehot=None,\n",
       "              max_delta_step=None, max_depth=None, max_leaves=None,\n",
       "              min_child_weight=None, missing=nan, monotone_constraints=None,\n",
       "              multi_strategy=None, n_estimators=None, n_jobs=None,\n",
       "              num_parallel_tree=None, random_state=None, ...)</pre></div></div></div></div></div>"
      ],
      "text/plain": [
       "XGBClassifier(base_score=None, booster=None, callbacks=None,\n",
       "              colsample_bylevel=None, colsample_bynode=None,\n",
       "              colsample_bytree=None, device=None, early_stopping_rounds=None,\n",
       "              enable_categorical=False, eval_metric=None, feature_types=None,\n",
       "              gamma=None, grow_policy=None, importance_type=None,\n",
       "              interaction_constraints=None, learning_rate=None, max_bin=None,\n",
       "              max_cat_threshold=None, max_cat_to_onehot=None,\n",
       "              max_delta_step=None, max_depth=None, max_leaves=None,\n",
       "              min_child_weight=None, missing=nan, monotone_constraints=None,\n",
       "              multi_strategy=None, n_estimators=None, n_jobs=None,\n",
       "              num_parallel_tree=None, random_state=None, ...)"
      ]
     },
     "execution_count": 325,
     "metadata": {},
     "output_type": "execute_result"
    }
   ],
   "source": [
    "xgb.fit(x2_tr,y2_tr)"
   ]
  },
  {
   "cell_type": "code",
   "execution_count": 326,
   "id": "7069e5af",
   "metadata": {},
   "outputs": [],
   "source": [
    "xgb_p3=xgb.predict(x2_te)"
   ]
  },
  {
   "cell_type": "code",
   "execution_count": 327,
   "id": "e44a941c",
   "metadata": {},
   "outputs": [
    {
     "data": {
      "text/plain": [
       "array([[425,   0],\n",
       "       [ 16, 408]], dtype=int64)"
      ]
     },
     "execution_count": 327,
     "metadata": {},
     "output_type": "execute_result"
    }
   ],
   "source": [
    "xgb_m3=confusion_matrix(xgb_p3,y2_te)\n",
    "xgb_m3"
   ]
  },
  {
   "cell_type": "code",
   "execution_count": 328,
   "id": "fa47e413",
   "metadata": {},
   "outputs": [
    {
     "data": {
      "text/plain": [
       "98.11542991755006"
      ]
     },
     "execution_count": 328,
     "metadata": {},
     "output_type": "execute_result"
    }
   ],
   "source": [
    "xgb_acc3=xgb_m3.diagonal().sum()/xgb_m3.sum()*100\n",
    "xgb_acc3"
   ]
  },
  {
   "cell_type": "code",
   "execution_count": 329,
   "id": "7a28970c",
   "metadata": {},
   "outputs": [
    {
     "name": "stdout",
     "output_type": "stream",
     "text": [
      "              precision    recall  f1-score   support\n",
      "\n",
      "           0       0.96      1.00      0.98       425\n",
      "           1       1.00      0.96      0.98       424\n",
      "\n",
      "    accuracy                           0.98       849\n",
      "   macro avg       0.98      0.98      0.98       849\n",
      "weighted avg       0.98      0.98      0.98       849\n",
      "\n"
     ]
    }
   ],
   "source": [
    "print(classification_report(xgb_p3,y2_te))"
   ]
  },
  {
   "cell_type": "code",
   "execution_count": 330,
   "id": "6da3f074",
   "metadata": {},
   "outputs": [
    {
     "data": {
      "text/plain": [
       "0.963718820861678"
      ]
     },
     "execution_count": 330,
     "metadata": {},
     "output_type": "execute_result"
    }
   ],
   "source": [
    "#tpr=tp/(tp+fn)\n",
    "tpr23=425/(425+16)\n",
    "tpr23"
   ]
  },
  {
   "cell_type": "code",
   "execution_count": 331,
   "id": "81871568",
   "metadata": {},
   "outputs": [
    {
     "data": {
      "text/plain": [
       "0.0"
      ]
     },
     "execution_count": 331,
     "metadata": {},
     "output_type": "execute_result"
    }
   ],
   "source": [
    "#fpr=fp/(fp+tn)\n",
    "fpr23=0/(0+408)\n",
    "fpr23"
   ]
  },
  {
   "cell_type": "code",
   "execution_count": 332,
   "id": "db40edc2",
   "metadata": {},
   "outputs": [
    {
     "data": {
      "text/plain": [
       "1.0"
      ]
     },
     "execution_count": 332,
     "metadata": {},
     "output_type": "execute_result"
    }
   ],
   "source": [
    "#precision=tp/(tp+fp)\n",
    "precision23=425/(425+0)\n",
    "precision23"
   ]
  },
  {
   "cell_type": "code",
   "execution_count": 333,
   "id": "5544913b",
   "metadata": {},
   "outputs": [
    {
     "data": {
      "text/plain": [
       "0.9815242494226328"
      ]
     },
     "execution_count": 333,
     "metadata": {},
     "output_type": "execute_result"
    }
   ],
   "source": [
    "#f1-score=2(precision*recall)/(precision+recall)\n",
    "f1score23=(2*(precision23*tpr23))/(precision23+tpr23)\n",
    "f1score23"
   ]
  },
  {
   "cell_type": "code",
   "execution_count": 334,
   "id": "422c5c18",
   "metadata": {},
   "outputs": [],
   "source": [
    "#df-3\n",
    "l1=[\"log\",\"dt\",\"rf\",\"nb\",\"svc\",\"knn\",\"adaboost\",\"xgboost\"]\n",
    "l2=[lg_acc3,dt_acc3,rf_acc3,nb_acc3,svc_acc3,knn_acc3,adbo_acc3,xgb_acc3]\n",
    "l3=[fpr16,fpr17,fpr18,fpr19,fpr20,fpr21,fpr22,fpr23]\n",
    "l4=[tpr16,tpr17,tpr18,tpr19,tpr20,tpr21,tpr22,tpr23]\n",
    "l5=[f1score16,f1score17,f1score18,f1score19,f1score20,f1score21,f1score22,f1score23]"
   ]
  },
  {
   "cell_type": "code",
   "execution_count": 335,
   "id": "33ea3628",
   "metadata": {},
   "outputs": [
    {
     "data": {
      "text/html": [
       "<div>\n",
       "<style scoped>\n",
       "    .dataframe tbody tr th:only-of-type {\n",
       "        vertical-align: middle;\n",
       "    }\n",
       "\n",
       "    .dataframe tbody tr th {\n",
       "        vertical-align: top;\n",
       "    }\n",
       "\n",
       "    .dataframe thead th {\n",
       "        text-align: right;\n",
       "    }\n",
       "</style>\n",
       "<table border=\"1\" class=\"dataframe\">\n",
       "  <thead>\n",
       "    <tr style=\"text-align: right;\">\n",
       "      <th></th>\n",
       "      <th>Model_Name</th>\n",
       "      <th>accuracy</th>\n",
       "      <th>fpr</th>\n",
       "      <th>tpr</th>\n",
       "      <th>f1score</th>\n",
       "    </tr>\n",
       "  </thead>\n",
       "  <tbody>\n",
       "    <tr>\n",
       "      <th>0</th>\n",
       "      <td>log</td>\n",
       "      <td>88.457008</td>\n",
       "      <td>0.056373</td>\n",
       "      <td>0.829932</td>\n",
       "      <td>0.881928</td>\n",
       "    </tr>\n",
       "    <tr>\n",
       "      <th>1</th>\n",
       "      <td>dt</td>\n",
       "      <td>98.115430</td>\n",
       "      <td>0.000000</td>\n",
       "      <td>0.963719</td>\n",
       "      <td>0.981524</td>\n",
       "    </tr>\n",
       "    <tr>\n",
       "      <th>2</th>\n",
       "      <td>rf</td>\n",
       "      <td>97.762073</td>\n",
       "      <td>0.000000</td>\n",
       "      <td>0.956916</td>\n",
       "      <td>0.977984</td>\n",
       "    </tr>\n",
       "    <tr>\n",
       "      <th>3</th>\n",
       "      <td>nb</td>\n",
       "      <td>71.378092</td>\n",
       "      <td>0.250000</td>\n",
       "      <td>0.680272</td>\n",
       "      <td>0.711744</td>\n",
       "    </tr>\n",
       "    <tr>\n",
       "      <th>4</th>\n",
       "      <td>svc</td>\n",
       "      <td>95.406360</td>\n",
       "      <td>0.000000</td>\n",
       "      <td>0.911565</td>\n",
       "      <td>0.953737</td>\n",
       "    </tr>\n",
       "    <tr>\n",
       "      <th>5</th>\n",
       "      <td>knn</td>\n",
       "      <td>89.163722</td>\n",
       "      <td>0.002451</td>\n",
       "      <td>0.793651</td>\n",
       "      <td>0.883838</td>\n",
       "    </tr>\n",
       "    <tr>\n",
       "      <th>6</th>\n",
       "      <td>adaboost</td>\n",
       "      <td>98.115430</td>\n",
       "      <td>0.000000</td>\n",
       "      <td>0.963719</td>\n",
       "      <td>0.981524</td>\n",
       "    </tr>\n",
       "    <tr>\n",
       "      <th>7</th>\n",
       "      <td>xgboost</td>\n",
       "      <td>98.115430</td>\n",
       "      <td>0.000000</td>\n",
       "      <td>0.963719</td>\n",
       "      <td>0.981524</td>\n",
       "    </tr>\n",
       "  </tbody>\n",
       "</table>\n",
       "</div>"
      ],
      "text/plain": [
       "  Model_Name   accuracy       fpr       tpr   f1score\n",
       "0        log  88.457008  0.056373  0.829932  0.881928\n",
       "1         dt  98.115430  0.000000  0.963719  0.981524\n",
       "2         rf  97.762073  0.000000  0.956916  0.977984\n",
       "3         nb  71.378092  0.250000  0.680272  0.711744\n",
       "4        svc  95.406360  0.000000  0.911565  0.953737\n",
       "5        knn  89.163722  0.002451  0.793651  0.883838\n",
       "6   adaboost  98.115430  0.000000  0.963719  0.981524\n",
       "7    xgboost  98.115430  0.000000  0.963719  0.981524"
      ]
     },
     "execution_count": 335,
     "metadata": {},
     "output_type": "execute_result"
    }
   ],
   "source": [
    "final2=pd.DataFrame({\"Model_Name\":l1,\"accuracy\":l2,\"fpr\":l3,\"tpr\":l4,\"f1score\":l5})\n",
    "final2"
   ]
  },
  {
   "cell_type": "code",
   "execution_count": null,
   "id": "8be5b519",
   "metadata": {},
   "outputs": [],
   "source": []
  }
 ],
 "metadata": {
  "kernelspec": {
   "display_name": "Python 3 (ipykernel)",
   "language": "python",
   "name": "python3"
  },
  "language_info": {
   "codemirror_mode": {
    "name": "ipython",
    "version": 3
   },
   "file_extension": ".py",
   "mimetype": "text/x-python",
   "name": "python",
   "nbconvert_exporter": "python",
   "pygments_lexer": "ipython3",
   "version": "3.11.5"
  }
 },
 "nbformat": 4,
 "nbformat_minor": 5
}
